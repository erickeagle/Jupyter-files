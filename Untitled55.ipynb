{
 "cells": [
  {
   "cell_type": "code",
   "execution_count": 1,
   "metadata": {},
   "outputs": [
    {
     "name": "stderr",
     "output_type": "stream",
     "text": [
      "Using TensorFlow backend.\n"
     ]
    }
   ],
   "source": [
    "import numpy as np\n",
    "import os \n",
    "from pathlib import Path\n",
    "from keras.preprocessing import image"
   ]
  },
  {
   "cell_type": "code",
   "execution_count": 2,
   "metadata": {},
   "outputs": [],
   "source": [
    "import pandas as pd"
   ]
  },
  {
   "cell_type": "code",
   "execution_count": 3,
   "metadata": {},
   "outputs": [],
   "source": [
    "import matplotlib.pyplot as plt"
   ]
  },
  {
   "cell_type": "code",
   "execution_count": 4,
   "metadata": {},
   "outputs": [],
   "source": [
    "X_train=pd.read_csv('K:\\Coding Blocks\\Machine learning\\pokemon_train.csv')\n",
    "\n",
    "\n",
    "X_test=pd.read_csv('K:\\Coding Blocks\\Machine learning\\pokemon_test.csv')"
   ]
  },
  {
   "cell_type": "code",
   "execution_count": 5,
   "metadata": {},
   "outputs": [
    {
     "data": {
      "text/html": [
       "<div>\n",
       "<style scoped>\n",
       "    .dataframe tbody tr th:only-of-type {\n",
       "        vertical-align: middle;\n",
       "    }\n",
       "\n",
       "    .dataframe tbody tr th {\n",
       "        vertical-align: top;\n",
       "    }\n",
       "\n",
       "    .dataframe thead th {\n",
       "        text-align: right;\n",
       "    }\n",
       "</style>\n",
       "<table border=\"1\" class=\"dataframe\">\n",
       "  <thead>\n",
       "    <tr style=\"text-align: right;\">\n",
       "      <th></th>\n",
       "      <th>ImageId</th>\n",
       "    </tr>\n",
       "  </thead>\n",
       "  <tbody>\n",
       "    <tr>\n",
       "      <td>0</td>\n",
       "      <td>1106.jpg</td>\n",
       "    </tr>\n",
       "    <tr>\n",
       "      <td>1</td>\n",
       "      <td>2236.jpg</td>\n",
       "    </tr>\n",
       "    <tr>\n",
       "      <td>2</td>\n",
       "      <td>1131.jpg</td>\n",
       "    </tr>\n",
       "    <tr>\n",
       "      <td>3</td>\n",
       "      <td>2221.jpg</td>\n",
       "    </tr>\n",
       "    <tr>\n",
       "      <td>4</td>\n",
       "      <td>2011.jpg</td>\n",
       "    </tr>\n",
       "    <tr>\n",
       "      <td>...</td>\n",
       "      <td>...</td>\n",
       "    </tr>\n",
       "    <tr>\n",
       "      <td>118</td>\n",
       "      <td>1124.jpg</td>\n",
       "    </tr>\n",
       "    <tr>\n",
       "      <td>119</td>\n",
       "      <td>2014.jpg</td>\n",
       "    </tr>\n",
       "    <tr>\n",
       "      <td>120</td>\n",
       "      <td>2235.jpg</td>\n",
       "    </tr>\n",
       "    <tr>\n",
       "      <td>121</td>\n",
       "      <td>1126.jpg</td>\n",
       "    </tr>\n",
       "    <tr>\n",
       "      <td>122</td>\n",
       "      <td>2021.jpg</td>\n",
       "    </tr>\n",
       "  </tbody>\n",
       "</table>\n",
       "<p>123 rows × 1 columns</p>\n",
       "</div>"
      ],
      "text/plain": [
       "      ImageId\n",
       "0    1106.jpg\n",
       "1    2236.jpg\n",
       "2    1131.jpg\n",
       "3    2221.jpg\n",
       "4    2011.jpg\n",
       "..        ...\n",
       "118  1124.jpg\n",
       "119  2014.jpg\n",
       "120  2235.jpg\n",
       "121  1126.jpg\n",
       "122  2021.jpg\n",
       "\n",
       "[123 rows x 1 columns]"
      ]
     },
     "execution_count": 5,
     "metadata": {},
     "output_type": "execute_result"
    }
   ],
   "source": [
    "X_test"
   ]
  },
  {
   "cell_type": "code",
   "execution_count": 7,
   "metadata": {},
   "outputs": [],
   "source": [
    "X_test=X_test.values.tolist()\n"
   ]
  },
  {
   "cell_type": "code",
   "execution_count": 8,
   "metadata": {},
   "outputs": [
    {
     "data": {
      "text/plain": [
       "[['1106.jpg'],\n",
       " ['2236.jpg'],\n",
       " ['1131.jpg'],\n",
       " ['2221.jpg'],\n",
       " ['2011.jpg'],\n",
       " ['2030.jpg'],\n",
       " ['2035.jpg'],\n",
       " ['1110.jpg'],\n",
       " ['1104.jpg'],\n",
       " ['2217.jpg'],\n",
       " ['1111.jpg'],\n",
       " ['1100.jpg'],\n",
       " ['1112.jpg'],\n",
       " ['1138.jpg'],\n",
       " ['2238.jpg'],\n",
       " ['2009.jpg'],\n",
       " ['2225.jpg'],\n",
       " ['2240.jpg'],\n",
       " ['2020.jpg'],\n",
       " ['2209.jpg'],\n",
       " ['2029.jpg'],\n",
       " ['1114.jpg'],\n",
       " ['2201.jpg'],\n",
       " ['1118.jpg'],\n",
       " ['2025.jpg'],\n",
       " ['2202.jpg'],\n",
       " ['1117.jpg'],\n",
       " ['1119.jpg'],\n",
       " ['2000.jpg'],\n",
       " ['2007.jpg'],\n",
       " ['2039.jpg'],\n",
       " ['2017.jpg'],\n",
       " ['2215.jpg'],\n",
       " ['1120.jpg'],\n",
       " ['2006.jpg'],\n",
       " ['1116.jpg'],\n",
       " ['1128.jpg'],\n",
       " ['1125.jpg'],\n",
       " ['2203.jpg'],\n",
       " ['1133.jpg'],\n",
       " ['1137.jpg'],\n",
       " ['2220.jpg'],\n",
       " ['2012.jpg'],\n",
       " ['2224.jpg'],\n",
       " ['2206.jpg'],\n",
       " ['1122.jpg'],\n",
       " ['2223.jpg'],\n",
       " ['1102.jpg'],\n",
       " ['2234.jpg'],\n",
       " ['2216.jpg'],\n",
       " ['2016.jpg'],\n",
       " ['2227.jpg'],\n",
       " ['2013.jpg'],\n",
       " ['1113.jpg'],\n",
       " ['2204.jpg'],\n",
       " ['1101.jpg'],\n",
       " ['2208.jpg'],\n",
       " ['2024.jpg'],\n",
       " ['2031.jpg'],\n",
       " ['2222.jpg'],\n",
       " ['2211.jpg'],\n",
       " ['2033.jpg'],\n",
       " ['2213.jpg'],\n",
       " ['2231.jpg'],\n",
       " ['2001.jpg'],\n",
       " ['2040.jpg'],\n",
       " ['1127.jpg'],\n",
       " ['2023.jpg'],\n",
       " ['2015.jpg'],\n",
       " ['1121.jpg'],\n",
       " ['2232.jpg'],\n",
       " ['1139.jpg'],\n",
       " ['1103.jpg'],\n",
       " ['2018.jpg'],\n",
       " ['2233.jpg'],\n",
       " ['2212.jpg'],\n",
       " ['2210.jpg'],\n",
       " ['2228.jpg'],\n",
       " ['2026.jpg'],\n",
       " ['1132.jpg'],\n",
       " ['2003.jpg'],\n",
       " ['1129.jpg'],\n",
       " ['2214.jpg'],\n",
       " ['1123.jpg'],\n",
       " ['2004.jpg'],\n",
       " ['1136.jpg'],\n",
       " ['1140.jpg'],\n",
       " ['2226.jpg'],\n",
       " ['2230.jpg'],\n",
       " ['1135.jpg'],\n",
       " ['1105.jpg'],\n",
       " ['2237.jpg'],\n",
       " ['1109.jpg'],\n",
       " ['2022.jpg'],\n",
       " ['2005.jpg'],\n",
       " ['2218.jpg'],\n",
       " ['2036.jpg'],\n",
       " ['1115.jpg'],\n",
       " ['2032.jpg'],\n",
       " ['2200.jpg'],\n",
       " ['1134.jpg'],\n",
       " ['1130.jpg'],\n",
       " ['1107.jpg'],\n",
       " ['2034.jpg'],\n",
       " ['2205.jpg'],\n",
       " ['2008.jpg'],\n",
       " ['2027.jpg'],\n",
       " ['2028.jpg'],\n",
       " ['2239.jpg'],\n",
       " ['1108.jpg'],\n",
       " ['2010.jpg'],\n",
       " ['2229.jpg'],\n",
       " ['2219.jpg'],\n",
       " ['2019.jpg'],\n",
       " ['2207.jpg'],\n",
       " ['2002.jpg'],\n",
       " ['2037.jpg'],\n",
       " ['2038.jpg'],\n",
       " ['1124.jpg'],\n",
       " ['2014.jpg'],\n",
       " ['2235.jpg'],\n",
       " ['1126.jpg'],\n",
       " ['2021.jpg']]"
      ]
     },
     "execution_count": 8,
     "metadata": {},
     "output_type": "execute_result"
    }
   ],
   "source": [
    "X_test"
   ]
  },
  {
   "cell_type": "code",
   "execution_count": 11,
   "metadata": {},
   "outputs": [],
   "source": [
    "x_test_new=[]\n",
    "\n",
    "def reemovNestings(l): \n",
    "    for i in l: \n",
    "        if type(i) == list: \n",
    "            reemovNestings(i) \n",
    "        else: \n",
    "            x_test_new.append(i)"
   ]
  },
  {
   "cell_type": "raw",
   "metadata": {},
   "source": []
  },
  {
   "cell_type": "code",
   "execution_count": 13,
   "metadata": {},
   "outputs": [],
   "source": [
    "reemovNestings(X_test)"
   ]
  },
  {
   "cell_type": "code",
   "execution_count": 19,
   "metadata": {},
   "outputs": [
    {
     "data": {
      "text/plain": [
       "['1106.jpg',\n",
       " '2236.jpg',\n",
       " '1131.jpg',\n",
       " '2221.jpg',\n",
       " '2011.jpg',\n",
       " '2030.jpg',\n",
       " '2035.jpg',\n",
       " '1110.jpg',\n",
       " '1104.jpg',\n",
       " '2217.jpg',\n",
       " '1111.jpg',\n",
       " '1100.jpg',\n",
       " '1112.jpg',\n",
       " '1138.jpg',\n",
       " '2238.jpg',\n",
       " '2009.jpg',\n",
       " '2225.jpg',\n",
       " '2240.jpg',\n",
       " '2020.jpg',\n",
       " '2209.jpg',\n",
       " '2029.jpg',\n",
       " '1114.jpg',\n",
       " '2201.jpg',\n",
       " '1118.jpg',\n",
       " '2025.jpg',\n",
       " '2202.jpg',\n",
       " '1117.jpg',\n",
       " '1119.jpg',\n",
       " '2000.jpg',\n",
       " '2007.jpg',\n",
       " '2039.jpg',\n",
       " '2017.jpg',\n",
       " '2215.jpg',\n",
       " '1120.jpg',\n",
       " '2006.jpg',\n",
       " '1116.jpg',\n",
       " '1128.jpg',\n",
       " '1125.jpg',\n",
       " '2203.jpg',\n",
       " '1133.jpg',\n",
       " '1137.jpg',\n",
       " '2220.jpg',\n",
       " '2012.jpg',\n",
       " '2224.jpg',\n",
       " '2206.jpg',\n",
       " '1122.jpg',\n",
       " '2223.jpg',\n",
       " '1102.jpg',\n",
       " '2234.jpg',\n",
       " '2216.jpg',\n",
       " '2016.jpg',\n",
       " '2227.jpg',\n",
       " '2013.jpg',\n",
       " '1113.jpg',\n",
       " '2204.jpg',\n",
       " '1101.jpg',\n",
       " '2208.jpg',\n",
       " '2024.jpg',\n",
       " '2031.jpg',\n",
       " '2222.jpg',\n",
       " '2211.jpg',\n",
       " '2033.jpg',\n",
       " '2213.jpg',\n",
       " '2231.jpg',\n",
       " '2001.jpg',\n",
       " '2040.jpg',\n",
       " '1127.jpg',\n",
       " '2023.jpg',\n",
       " '2015.jpg',\n",
       " '1121.jpg',\n",
       " '2232.jpg',\n",
       " '1139.jpg',\n",
       " '1103.jpg',\n",
       " '2018.jpg',\n",
       " '2233.jpg',\n",
       " '2212.jpg',\n",
       " '2210.jpg',\n",
       " '2228.jpg',\n",
       " '2026.jpg',\n",
       " '1132.jpg',\n",
       " '2003.jpg',\n",
       " '1129.jpg',\n",
       " '2214.jpg',\n",
       " '1123.jpg',\n",
       " '2004.jpg',\n",
       " '1136.jpg',\n",
       " '1140.jpg',\n",
       " '2226.jpg',\n",
       " '2230.jpg',\n",
       " '1135.jpg',\n",
       " '1105.jpg',\n",
       " '2237.jpg',\n",
       " '1109.jpg',\n",
       " '2022.jpg',\n",
       " '2005.jpg',\n",
       " '2218.jpg',\n",
       " '2036.jpg',\n",
       " '1115.jpg',\n",
       " '2032.jpg',\n",
       " '2200.jpg',\n",
       " '1134.jpg',\n",
       " '1130.jpg',\n",
       " '1107.jpg',\n",
       " '2034.jpg',\n",
       " '2205.jpg',\n",
       " '2008.jpg',\n",
       " '2027.jpg',\n",
       " '2028.jpg',\n",
       " '2239.jpg',\n",
       " '1108.jpg',\n",
       " '2010.jpg',\n",
       " '2229.jpg',\n",
       " '2219.jpg',\n",
       " '2019.jpg',\n",
       " '2207.jpg',\n",
       " '2002.jpg',\n",
       " '2037.jpg',\n",
       " '2038.jpg',\n",
       " '1124.jpg',\n",
       " '2014.jpg',\n",
       " '2235.jpg',\n",
       " '1126.jpg',\n",
       " '2021.jpg']"
      ]
     },
     "execution_count": 19,
     "metadata": {},
     "output_type": "execute_result"
    }
   ],
   "source": [
    "x_test_new"
   ]
  },
  {
   "cell_type": "code",
   "execution_count": 76,
   "metadata": {},
   "outputs": [
    {
     "ename": "SyntaxError",
     "evalue": "EOL while scanning string literal (<ipython-input-76-0d87eae164c2>, line 1)",
     "output_type": "error",
     "traceback": [
      "\u001b[1;36m  File \u001b[1;32m\"<ipython-input-76-0d87eae164c2>\"\u001b[1;36m, line \u001b[1;32m1\u001b[0m\n\u001b[1;33m    p1 = Path(\"K:\\Coding Blocks\\Machine learning\\pokemon classifier\\pokemon_test\\Images\"+'\\'+x_test_new[0])\u001b[0m\n\u001b[1;37m                                                                                                           ^\u001b[0m\n\u001b[1;31mSyntaxError\u001b[0m\u001b[1;31m:\u001b[0m EOL while scanning string literal\n"
     ]
    }
   ],
   "source": [
    "p1 = Path(\"K:\\Coding Blocks\\Machine learning\\pokemon classifier\\pokemon_test\\Images\"+)\n",
    "\n",
    "dirs1 = p1.glob(\"*\")\n",
    "print(dirs1)"
   ]
  },
  {
   "cell_type": "code",
   "execution_count": 72,
   "metadata": {},
   "outputs": [
    {
     "name": "stdout",
     "output_type": "stream",
     "text": [
      "K:\\Coding Blocks\\Machine learning\\pokemon classifier\\pokemon_test\\Images\\1100.jpg\n",
      "1100.jpg\n",
      "K:\\Coding Blocks\\Machine learning\\pokemon classifier\\pokemon_test\\Images\\1101.jpg\n",
      "1101.jpg\n",
      "K:\\Coding Blocks\\Machine learning\\pokemon classifier\\pokemon_test\\Images\\1102.jpg\n",
      "1102.jpg\n",
      "K:\\Coding Blocks\\Machine learning\\pokemon classifier\\pokemon_test\\Images\\1103.jpg\n",
      "1103.jpg\n",
      "K:\\Coding Blocks\\Machine learning\\pokemon classifier\\pokemon_test\\Images\\1104.jpg\n",
      "1104.jpg\n",
      "K:\\Coding Blocks\\Machine learning\\pokemon classifier\\pokemon_test\\Images\\1105.jpg\n",
      "1105.jpg\n",
      "K:\\Coding Blocks\\Machine learning\\pokemon classifier\\pokemon_test\\Images\\1106.jpg\n",
      "1106.jpg\n",
      "K:\\Coding Blocks\\Machine learning\\pokemon classifier\\pokemon_test\\Images\\1107.jpg\n",
      "1107.jpg\n",
      "K:\\Coding Blocks\\Machine learning\\pokemon classifier\\pokemon_test\\Images\\1108.jpg\n",
      "1108.jpg\n",
      "K:\\Coding Blocks\\Machine learning\\pokemon classifier\\pokemon_test\\Images\\1109.jpg\n",
      "1109.jpg\n",
      "K:\\Coding Blocks\\Machine learning\\pokemon classifier\\pokemon_test\\Images\\1110.jpg\n",
      "1110.jpg\n",
      "K:\\Coding Blocks\\Machine learning\\pokemon classifier\\pokemon_test\\Images\\1111.jpg\n",
      "1111.jpg\n",
      "K:\\Coding Blocks\\Machine learning\\pokemon classifier\\pokemon_test\\Images\\1112.jpg\n",
      "1112.jpg\n",
      "K:\\Coding Blocks\\Machine learning\\pokemon classifier\\pokemon_test\\Images\\1113.jpg\n",
      "1113.jpg\n",
      "K:\\Coding Blocks\\Machine learning\\pokemon classifier\\pokemon_test\\Images\\1114.jpg\n",
      "1114.jpg\n",
      "K:\\Coding Blocks\\Machine learning\\pokemon classifier\\pokemon_test\\Images\\1115.jpg\n",
      "1115.jpg\n",
      "K:\\Coding Blocks\\Machine learning\\pokemon classifier\\pokemon_test\\Images\\1116.jpg\n",
      "1116.jpg\n",
      "K:\\Coding Blocks\\Machine learning\\pokemon classifier\\pokemon_test\\Images\\1117.jpg\n",
      "1117.jpg\n",
      "K:\\Coding Blocks\\Machine learning\\pokemon classifier\\pokemon_test\\Images\\1118.jpg\n",
      "1118.jpg\n",
      "K:\\Coding Blocks\\Machine learning\\pokemon classifier\\pokemon_test\\Images\\1119.jpg\n",
      "1119.jpg\n",
      "K:\\Coding Blocks\\Machine learning\\pokemon classifier\\pokemon_test\\Images\\1120.jpg\n",
      "1120.jpg\n",
      "K:\\Coding Blocks\\Machine learning\\pokemon classifier\\pokemon_test\\Images\\1121.jpg\n",
      "1121.jpg\n",
      "K:\\Coding Blocks\\Machine learning\\pokemon classifier\\pokemon_test\\Images\\1122.jpg\n",
      "1122.jpg\n",
      "K:\\Coding Blocks\\Machine learning\\pokemon classifier\\pokemon_test\\Images\\1123.jpg\n",
      "1123.jpg\n",
      "K:\\Coding Blocks\\Machine learning\\pokemon classifier\\pokemon_test\\Images\\1124.jpg\n",
      "1124.jpg\n",
      "K:\\Coding Blocks\\Machine learning\\pokemon classifier\\pokemon_test\\Images\\1125.jpg\n",
      "1125.jpg\n",
      "K:\\Coding Blocks\\Machine learning\\pokemon classifier\\pokemon_test\\Images\\1126.jpg\n",
      "1126.jpg\n",
      "K:\\Coding Blocks\\Machine learning\\pokemon classifier\\pokemon_test\\Images\\1127.jpg\n",
      "1127.jpg\n",
      "K:\\Coding Blocks\\Machine learning\\pokemon classifier\\pokemon_test\\Images\\1128.jpg\n",
      "1128.jpg\n",
      "K:\\Coding Blocks\\Machine learning\\pokemon classifier\\pokemon_test\\Images\\1129.jpg\n",
      "1129.jpg\n",
      "K:\\Coding Blocks\\Machine learning\\pokemon classifier\\pokemon_test\\Images\\1130.jpg\n",
      "1130.jpg\n",
      "K:\\Coding Blocks\\Machine learning\\pokemon classifier\\pokemon_test\\Images\\1131.jpg\n",
      "1131.jpg\n",
      "K:\\Coding Blocks\\Machine learning\\pokemon classifier\\pokemon_test\\Images\\1132.jpg\n",
      "1132.jpg\n",
      "K:\\Coding Blocks\\Machine learning\\pokemon classifier\\pokemon_test\\Images\\1133.jpg\n",
      "1133.jpg\n",
      "K:\\Coding Blocks\\Machine learning\\pokemon classifier\\pokemon_test\\Images\\1134.jpg\n",
      "1134.jpg\n",
      "K:\\Coding Blocks\\Machine learning\\pokemon classifier\\pokemon_test\\Images\\1135.jpg\n",
      "1135.jpg\n",
      "K:\\Coding Blocks\\Machine learning\\pokemon classifier\\pokemon_test\\Images\\1136.jpg\n",
      "1136.jpg\n",
      "K:\\Coding Blocks\\Machine learning\\pokemon classifier\\pokemon_test\\Images\\1137.jpg\n",
      "1137.jpg\n",
      "K:\\Coding Blocks\\Machine learning\\pokemon classifier\\pokemon_test\\Images\\1138.jpg\n",
      "1138.jpg\n",
      "K:\\Coding Blocks\\Machine learning\\pokemon classifier\\pokemon_test\\Images\\1139.jpg\n",
      "1139.jpg\n",
      "K:\\Coding Blocks\\Machine learning\\pokemon classifier\\pokemon_test\\Images\\1140.jpg\n",
      "1140.jpg\n",
      "K:\\Coding Blocks\\Machine learning\\pokemon classifier\\pokemon_test\\Images\\2000.jpg\n",
      "2000.jpg\n",
      "K:\\Coding Blocks\\Machine learning\\pokemon classifier\\pokemon_test\\Images\\2001.jpg\n",
      "2001.jpg\n",
      "K:\\Coding Blocks\\Machine learning\\pokemon classifier\\pokemon_test\\Images\\2002.jpg\n",
      "2002.jpg\n",
      "K:\\Coding Blocks\\Machine learning\\pokemon classifier\\pokemon_test\\Images\\2003.jpg\n",
      "2003.jpg\n",
      "K:\\Coding Blocks\\Machine learning\\pokemon classifier\\pokemon_test\\Images\\2004.jpg\n",
      "2004.jpg\n",
      "K:\\Coding Blocks\\Machine learning\\pokemon classifier\\pokemon_test\\Images\\2005.jpg\n",
      "2005.jpg\n",
      "K:\\Coding Blocks\\Machine learning\\pokemon classifier\\pokemon_test\\Images\\2006.jpg\n",
      "2006.jpg\n",
      "K:\\Coding Blocks\\Machine learning\\pokemon classifier\\pokemon_test\\Images\\2007.jpg\n",
      "2007.jpg\n",
      "K:\\Coding Blocks\\Machine learning\\pokemon classifier\\pokemon_test\\Images\\2008.jpg\n",
      "2008.jpg\n",
      "K:\\Coding Blocks\\Machine learning\\pokemon classifier\\pokemon_test\\Images\\2009.jpg\n",
      "2009.jpg\n",
      "K:\\Coding Blocks\\Machine learning\\pokemon classifier\\pokemon_test\\Images\\2010.jpg\n",
      "2010.jpg\n",
      "K:\\Coding Blocks\\Machine learning\\pokemon classifier\\pokemon_test\\Images\\2011.jpg\n",
      "2011.jpg\n",
      "K:\\Coding Blocks\\Machine learning\\pokemon classifier\\pokemon_test\\Images\\2012.jpg\n",
      "2012.jpg\n",
      "K:\\Coding Blocks\\Machine learning\\pokemon classifier\\pokemon_test\\Images\\2013.jpg\n",
      "2013.jpg\n",
      "K:\\Coding Blocks\\Machine learning\\pokemon classifier\\pokemon_test\\Images\\2014.jpg\n",
      "2014.jpg\n",
      "K:\\Coding Blocks\\Machine learning\\pokemon classifier\\pokemon_test\\Images\\2015.jpg\n",
      "2015.jpg\n",
      "K:\\Coding Blocks\\Machine learning\\pokemon classifier\\pokemon_test\\Images\\2016.jpg\n",
      "2016.jpg\n",
      "K:\\Coding Blocks\\Machine learning\\pokemon classifier\\pokemon_test\\Images\\2017.jpg\n",
      "2017.jpg\n",
      "K:\\Coding Blocks\\Machine learning\\pokemon classifier\\pokemon_test\\Images\\2018.jpg\n",
      "2018.jpg\n",
      "K:\\Coding Blocks\\Machine learning\\pokemon classifier\\pokemon_test\\Images\\2019.jpg\n",
      "2019.jpg\n",
      "K:\\Coding Blocks\\Machine learning\\pokemon classifier\\pokemon_test\\Images\\2020.jpg\n",
      "2020.jpg\n",
      "K:\\Coding Blocks\\Machine learning\\pokemon classifier\\pokemon_test\\Images\\2021.jpg\n",
      "2021.jpg\n",
      "K:\\Coding Blocks\\Machine learning\\pokemon classifier\\pokemon_test\\Images\\2022.jpg\n",
      "2022.jpg\n",
      "K:\\Coding Blocks\\Machine learning\\pokemon classifier\\pokemon_test\\Images\\2023.jpg\n",
      "2023.jpg\n",
      "K:\\Coding Blocks\\Machine learning\\pokemon classifier\\pokemon_test\\Images\\2024.jpg\n",
      "2024.jpg\n",
      "K:\\Coding Blocks\\Machine learning\\pokemon classifier\\pokemon_test\\Images\\2025.jpg\n",
      "2025.jpg\n",
      "K:\\Coding Blocks\\Machine learning\\pokemon classifier\\pokemon_test\\Images\\2026.jpg\n",
      "2026.jpg\n",
      "K:\\Coding Blocks\\Machine learning\\pokemon classifier\\pokemon_test\\Images\\2027.jpg\n",
      "2027.jpg\n",
      "K:\\Coding Blocks\\Machine learning\\pokemon classifier\\pokemon_test\\Images\\2028.jpg\n",
      "2028.jpg\n",
      "K:\\Coding Blocks\\Machine learning\\pokemon classifier\\pokemon_test\\Images\\2029.jpg\n",
      "2029.jpg\n",
      "K:\\Coding Blocks\\Machine learning\\pokemon classifier\\pokemon_test\\Images\\2030.jpg\n",
      "2030.jpg\n",
      "K:\\Coding Blocks\\Machine learning\\pokemon classifier\\pokemon_test\\Images\\2031.jpg\n",
      "2031.jpg\n",
      "K:\\Coding Blocks\\Machine learning\\pokemon classifier\\pokemon_test\\Images\\2032.jpg\n",
      "2032.jpg\n",
      "K:\\Coding Blocks\\Machine learning\\pokemon classifier\\pokemon_test\\Images\\2033.jpg\n",
      "2033.jpg\n",
      "K:\\Coding Blocks\\Machine learning\\pokemon classifier\\pokemon_test\\Images\\2034.jpg\n",
      "2034.jpg\n",
      "K:\\Coding Blocks\\Machine learning\\pokemon classifier\\pokemon_test\\Images\\2035.jpg\n",
      "2035.jpg\n",
      "K:\\Coding Blocks\\Machine learning\\pokemon classifier\\pokemon_test\\Images\\2036.jpg\n",
      "2036.jpg\n",
      "K:\\Coding Blocks\\Machine learning\\pokemon classifier\\pokemon_test\\Images\\2037.jpg\n",
      "2037.jpg\n",
      "K:\\Coding Blocks\\Machine learning\\pokemon classifier\\pokemon_test\\Images\\2038.jpg\n",
      "2038.jpg\n",
      "K:\\Coding Blocks\\Machine learning\\pokemon classifier\\pokemon_test\\Images\\2039.jpg\n",
      "2039.jpg\n",
      "K:\\Coding Blocks\\Machine learning\\pokemon classifier\\pokemon_test\\Images\\2040.jpg\n",
      "2040.jpg\n",
      "K:\\Coding Blocks\\Machine learning\\pokemon classifier\\pokemon_test\\Images\\2200.jpg\n",
      "2200.jpg\n",
      "K:\\Coding Blocks\\Machine learning\\pokemon classifier\\pokemon_test\\Images\\2201.jpg\n",
      "2201.jpg\n",
      "K:\\Coding Blocks\\Machine learning\\pokemon classifier\\pokemon_test\\Images\\2202.jpg\n",
      "2202.jpg\n",
      "K:\\Coding Blocks\\Machine learning\\pokemon classifier\\pokemon_test\\Images\\2203.jpg\n",
      "2203.jpg\n",
      "K:\\Coding Blocks\\Machine learning\\pokemon classifier\\pokemon_test\\Images\\2204.jpg\n",
      "2204.jpg\n",
      "K:\\Coding Blocks\\Machine learning\\pokemon classifier\\pokemon_test\\Images\\2205.jpg\n",
      "2205.jpg\n",
      "K:\\Coding Blocks\\Machine learning\\pokemon classifier\\pokemon_test\\Images\\2206.jpg\n",
      "2206.jpg\n",
      "K:\\Coding Blocks\\Machine learning\\pokemon classifier\\pokemon_test\\Images\\2207.jpg\n",
      "2207.jpg\n",
      "K:\\Coding Blocks\\Machine learning\\pokemon classifier\\pokemon_test\\Images\\2208.jpg\n",
      "2208.jpg\n",
      "K:\\Coding Blocks\\Machine learning\\pokemon classifier\\pokemon_test\\Images\\2209.jpg\n",
      "2209.jpg\n",
      "K:\\Coding Blocks\\Machine learning\\pokemon classifier\\pokemon_test\\Images\\2210.jpg\n",
      "2210.jpg\n"
     ]
    },
    {
     "name": "stdout",
     "output_type": "stream",
     "text": [
      "K:\\Coding Blocks\\Machine learning\\pokemon classifier\\pokemon_test\\Images\\2211.jpg\n",
      "2211.jpg\n",
      "K:\\Coding Blocks\\Machine learning\\pokemon classifier\\pokemon_test\\Images\\2212.jpg\n",
      "2212.jpg\n",
      "K:\\Coding Blocks\\Machine learning\\pokemon classifier\\pokemon_test\\Images\\2213.jpg\n",
      "2213.jpg\n",
      "K:\\Coding Blocks\\Machine learning\\pokemon classifier\\pokemon_test\\Images\\2214.jpg\n",
      "2214.jpg\n",
      "K:\\Coding Blocks\\Machine learning\\pokemon classifier\\pokemon_test\\Images\\2215.jpg\n",
      "2215.jpg\n",
      "K:\\Coding Blocks\\Machine learning\\pokemon classifier\\pokemon_test\\Images\\2216.jpg\n",
      "2216.jpg\n",
      "K:\\Coding Blocks\\Machine learning\\pokemon classifier\\pokemon_test\\Images\\2217.jpg\n",
      "2217.jpg\n",
      "K:\\Coding Blocks\\Machine learning\\pokemon classifier\\pokemon_test\\Images\\2218.jpg\n",
      "2218.jpg\n",
      "K:\\Coding Blocks\\Machine learning\\pokemon classifier\\pokemon_test\\Images\\2219.jpg\n",
      "2219.jpg\n",
      "K:\\Coding Blocks\\Machine learning\\pokemon classifier\\pokemon_test\\Images\\2220.jpg\n",
      "2220.jpg\n",
      "K:\\Coding Blocks\\Machine learning\\pokemon classifier\\pokemon_test\\Images\\2221.jpg\n",
      "2221.jpg\n",
      "K:\\Coding Blocks\\Machine learning\\pokemon classifier\\pokemon_test\\Images\\2222.jpg\n",
      "2222.jpg\n",
      "K:\\Coding Blocks\\Machine learning\\pokemon classifier\\pokemon_test\\Images\\2223.jpg\n",
      "2223.jpg\n",
      "K:\\Coding Blocks\\Machine learning\\pokemon classifier\\pokemon_test\\Images\\2224.jpg\n",
      "2224.jpg\n",
      "K:\\Coding Blocks\\Machine learning\\pokemon classifier\\pokemon_test\\Images\\2225.jpg\n",
      "2225.jpg\n",
      "K:\\Coding Blocks\\Machine learning\\pokemon classifier\\pokemon_test\\Images\\2226.jpg\n",
      "2226.jpg\n",
      "K:\\Coding Blocks\\Machine learning\\pokemon classifier\\pokemon_test\\Images\\2227.jpg\n",
      "2227.jpg\n",
      "K:\\Coding Blocks\\Machine learning\\pokemon classifier\\pokemon_test\\Images\\2228.jpg\n",
      "2228.jpg\n",
      "K:\\Coding Blocks\\Machine learning\\pokemon classifier\\pokemon_test\\Images\\2229.jpg\n",
      "2229.jpg\n",
      "K:\\Coding Blocks\\Machine learning\\pokemon classifier\\pokemon_test\\Images\\2230.jpg\n",
      "2230.jpg\n",
      "K:\\Coding Blocks\\Machine learning\\pokemon classifier\\pokemon_test\\Images\\2231.jpg\n",
      "2231.jpg\n",
      "K:\\Coding Blocks\\Machine learning\\pokemon classifier\\pokemon_test\\Images\\2232.jpg\n",
      "2232.jpg\n",
      "K:\\Coding Blocks\\Machine learning\\pokemon classifier\\pokemon_test\\Images\\2233.jpg\n",
      "2233.jpg\n",
      "K:\\Coding Blocks\\Machine learning\\pokemon classifier\\pokemon_test\\Images\\2234.jpg\n",
      "2234.jpg\n",
      "K:\\Coding Blocks\\Machine learning\\pokemon classifier\\pokemon_test\\Images\\2235.jpg\n",
      "2235.jpg\n",
      "K:\\Coding Blocks\\Machine learning\\pokemon classifier\\pokemon_test\\Images\\2236.jpg\n",
      "2236.jpg\n",
      "K:\\Coding Blocks\\Machine learning\\pokemon classifier\\pokemon_test\\Images\\2237.jpg\n",
      "2237.jpg\n",
      "K:\\Coding Blocks\\Machine learning\\pokemon classifier\\pokemon_test\\Images\\2238.jpg\n",
      "2238.jpg\n",
      "K:\\Coding Blocks\\Machine learning\\pokemon classifier\\pokemon_test\\Images\\2239.jpg\n",
      "2239.jpg\n",
      "K:\\Coding Blocks\\Machine learning\\pokemon classifier\\pokemon_test\\Images\\2240.jpg\n",
      "2240.jpg\n"
     ]
    }
   ],
   "source": [
    "image_data1 = []\n",
    "\n",
    "\n",
    "for folder_dir1 in dirs1:\n",
    "    print(folder_dir1)\n",
    "    \n",
    "    label1 = str(folder_dir1).split(\"\\\\\")[-1]\n",
    "    print(label1)\n",
    "    img1 = image.load_img(folder_dir1,target_size=(100,100))\n",
    "    img_array1 = image.img_to_array(img1)\n",
    "    image_data1.append(img_array1)\n",
    "    \n",
    "   "
   ]
  },
  {
   "cell_type": "code",
   "execution_count": 69,
   "metadata": {},
   "outputs": [
    {
     "data": {
      "text/plain": [
       "123"
      ]
     },
     "execution_count": 69,
     "metadata": {},
     "output_type": "execute_result"
    }
   ],
   "source": [
    "len(image_data1)"
   ]
  },
  {
   "cell_type": "code",
   "execution_count": 77,
   "metadata": {},
   "outputs": [],
   "source": [
    "\n"
   ]
  },
  {
   "cell_type": "code",
   "execution_count": 54,
   "metadata": {},
   "outputs": [
    {
     "name": "stdout",
     "output_type": "stream",
     "text": [
      "[[[0. 0. 0.]\n",
      "  [0. 0. 0.]\n",
      "  [0. 0. 0.]\n",
      "  ...\n",
      "  [0. 0. 0.]\n",
      "  [0. 0. 0.]\n",
      "  [0. 0. 0.]]\n",
      "\n",
      " [[0. 0. 0.]\n",
      "  [0. 0. 0.]\n",
      "  [0. 0. 0.]\n",
      "  ...\n",
      "  [0. 0. 0.]\n",
      "  [0. 0. 0.]\n",
      "  [0. 0. 0.]]\n",
      "\n",
      " [[0. 0. 0.]\n",
      "  [0. 0. 0.]\n",
      "  [0. 0. 0.]\n",
      "  ...\n",
      "  [0. 0. 0.]\n",
      "  [0. 0. 0.]\n",
      "  [0. 0. 0.]]\n",
      "\n",
      " ...\n",
      "\n",
      " [[0. 0. 0.]\n",
      "  [0. 0. 0.]\n",
      "  [0. 0. 0.]\n",
      "  ...\n",
      "  [0. 0. 0.]\n",
      "  [0. 0. 0.]\n",
      "  [0. 0. 0.]]\n",
      "\n",
      " [[0. 0. 0.]\n",
      "  [0. 0. 0.]\n",
      "  [0. 0. 0.]\n",
      "  ...\n",
      "  [0. 0. 0.]\n",
      "  [0. 0. 0.]\n",
      "  [0. 0. 0.]]\n",
      "\n",
      " [[0. 0. 0.]\n",
      "  [0. 0. 0.]\n",
      "  [0. 0. 0.]\n",
      "  ...\n",
      "  [0. 0. 0.]\n",
      "  [0. 0. 0.]\n",
      "  [0. 0. 0.]]]\n"
     ]
    }
   ],
   "source": [
    "img_array1 = np.array(img_array1,dtype='float32')/255.0\n",
    "\n",
    "\n",
    "print(img_array1)"
   ]
  },
  {
   "cell_type": "code",
   "execution_count": 55,
   "metadata": {},
   "outputs": [],
   "source": [
    "from matplotlib import pyplot as plt\n",
    "\n",
    "def drawImg(img):\n",
    "    plt.imshow(img)\n",
    "    plt.axis(\"off\")\n",
    "    plt.show()    \n",
    "    return \n",
    "\n"
   ]
  },
  {
   "cell_type": "code",
   "execution_count": 56,
   "metadata": {},
   "outputs": [
    {
     "data": {
      "image/png": "[encoded data removed]",
      "text/plain": [
       "<Figure size 432x288 with 1 Axes>"
      ]
     },
     "metadata": {
      "needs_background": "light"
     },
     "output_type": "display_data"
    }
   ],
   "source": [
    "drawImg(img_array1)"
   ]
  },
  {
   "cell_type": "code",
   "execution_count": 82,
   "metadata": {},
   "outputs": [
    {
     "name": "stdout",
     "output_type": "stream",
     "text": [
      "<generator object Path.glob at 0x0000018CB4D9EC48>\n"
     ]
    }
   ],
   "source": [
    "p1 = Path(\"K:\\Coding Blocks\\Machine learning\\pokemon classifier\\pokemon_test\\Images\"+ x_test_new[0])\n",
    "\n",
    "folder_dir1 = p1.glob(\"*\")\n",
    "print(dirs1)"
   ]
  },
  {
   "cell_type": "code",
   "execution_count": 83,
   "metadata": {},
   "outputs": [
    {
     "name": "stdout",
     "output_type": "stream",
     "text": [
      "<generator object Path.glob at 0x0000018CB4D9E3C8>\n"
     ]
    },
    {
     "ename": "AttributeError",
     "evalue": "'generator' object has no attribute 'read'",
     "output_type": "error",
     "traceback": [
      "\u001b[1;31m---------------------------------------------------------------------------\u001b[0m",
      "\u001b[1;31mAttributeError\u001b[0m                            Traceback (most recent call last)",
      "\u001b[1;32mK:\\Anaconda3\\lib\\site-packages\\PIL\\Image.py\u001b[0m in \u001b[0;36mopen\u001b[1;34m(fp, mode)\u001b[0m\n\u001b[0;32m   2769\u001b[0m     \u001b[1;32mtry\u001b[0m\u001b[1;33m:\u001b[0m\u001b[1;33m\u001b[0m\u001b[1;33m\u001b[0m\u001b[0m\n\u001b[1;32m-> 2770\u001b[1;33m         \u001b[0mfp\u001b[0m\u001b[1;33m.\u001b[0m\u001b[0mseek\u001b[0m\u001b[1;33m(\u001b[0m\u001b[1;36m0\u001b[0m\u001b[1;33m)\u001b[0m\u001b[1;33m\u001b[0m\u001b[1;33m\u001b[0m\u001b[0m\n\u001b[0m\u001b[0;32m   2771\u001b[0m     \u001b[1;32mexcept\u001b[0m \u001b[1;33m(\u001b[0m\u001b[0mAttributeError\u001b[0m\u001b[1;33m,\u001b[0m \u001b[0mio\u001b[0m\u001b[1;33m.\u001b[0m\u001b[0mUnsupportedOperation\u001b[0m\u001b[1;33m)\u001b[0m\u001b[1;33m:\u001b[0m\u001b[1;33m\u001b[0m\u001b[1;33m\u001b[0m\u001b[0m\n",
      "\u001b[1;31mAttributeError\u001b[0m: 'generator' object has no attribute 'seek'",
      "\nDuring handling of the above exception, another exception occurred:\n",
      "\u001b[1;31mAttributeError\u001b[0m                            Traceback (most recent call last)",
      "\u001b[1;32m<ipython-input-83-2c5a922b2906>\u001b[0m in \u001b[0;36m<module>\u001b[1;34m\u001b[0m\n\u001b[0;32m      1\u001b[0m \u001b[0mlabel1\u001b[0m \u001b[1;33m=\u001b[0m \u001b[0mstr\u001b[0m\u001b[1;33m(\u001b[0m\u001b[0mfolder_dir1\u001b[0m\u001b[1;33m)\u001b[0m\u001b[1;33m.\u001b[0m\u001b[0msplit\u001b[0m\u001b[1;33m(\u001b[0m\u001b[1;34m\"\\\\\"\u001b[0m\u001b[1;33m)\u001b[0m\u001b[1;33m[\u001b[0m\u001b[1;33m-\u001b[0m\u001b[1;36m1\u001b[0m\u001b[1;33m]\u001b[0m\u001b[1;33m\u001b[0m\u001b[1;33m\u001b[0m\u001b[0m\n\u001b[0;32m      2\u001b[0m \u001b[0mprint\u001b[0m\u001b[1;33m(\u001b[0m\u001b[0mlabel1\u001b[0m\u001b[1;33m)\u001b[0m\u001b[1;33m\u001b[0m\u001b[1;33m\u001b[0m\u001b[0m\n\u001b[1;32m----> 3\u001b[1;33m \u001b[0mimg1\u001b[0m \u001b[1;33m=\u001b[0m \u001b[0mimage\u001b[0m\u001b[1;33m.\u001b[0m\u001b[0mload_img\u001b[0m\u001b[1;33m(\u001b[0m\u001b[0mfolder_dir1\u001b[0m\u001b[1;33m,\u001b[0m\u001b[0mtarget_size\u001b[0m\u001b[1;33m=\u001b[0m\u001b[1;33m(\u001b[0m\u001b[1;36m100\u001b[0m\u001b[1;33m,\u001b[0m\u001b[1;36m100\u001b[0m\u001b[1;33m)\u001b[0m\u001b[1;33m)\u001b[0m\u001b[1;33m\u001b[0m\u001b[1;33m\u001b[0m\u001b[0m\n\u001b[0m\u001b[0;32m      4\u001b[0m \u001b[0mimg_array1\u001b[0m \u001b[1;33m=\u001b[0m \u001b[0mimage\u001b[0m\u001b[1;33m.\u001b[0m\u001b[0mimg_to_array\u001b[0m\u001b[1;33m(\u001b[0m\u001b[0mimg1\u001b[0m\u001b[1;33m)\u001b[0m\u001b[1;33m\u001b[0m\u001b[1;33m\u001b[0m\u001b[0m\n\u001b[0;32m      5\u001b[0m \u001b[0mimage_data1\u001b[0m\u001b[1;33m.\u001b[0m\u001b[0mappend\u001b[0m\u001b[1;33m(\u001b[0m\u001b[0mimg_array1\u001b[0m\u001b[1;33m)\u001b[0m\u001b[1;33m\u001b[0m\u001b[1;33m\u001b[0m\u001b[0m\n",
      "\u001b[1;32m~\\AppData\\Roaming\\Python\\Python37\\site-packages\\keras_preprocessing\\image\\utils.py\u001b[0m in \u001b[0;36mload_img\u001b[1;34m(path, grayscale, color_mode, target_size, interpolation)\u001b[0m\n\u001b[0;32m    108\u001b[0m         raise ImportError('Could not import PIL.Image. '\n\u001b[0;32m    109\u001b[0m                           'The use of `load_img` requires PIL.')\n\u001b[1;32m--> 110\u001b[1;33m     \u001b[0mimg\u001b[0m \u001b[1;33m=\u001b[0m \u001b[0mpil_image\u001b[0m\u001b[1;33m.\u001b[0m\u001b[0mopen\u001b[0m\u001b[1;33m(\u001b[0m\u001b[0mpath\u001b[0m\u001b[1;33m)\u001b[0m\u001b[1;33m\u001b[0m\u001b[1;33m\u001b[0m\u001b[0m\n\u001b[0m\u001b[0;32m    111\u001b[0m     \u001b[1;32mif\u001b[0m \u001b[0mcolor_mode\u001b[0m \u001b[1;33m==\u001b[0m \u001b[1;34m'grayscale'\u001b[0m\u001b[1;33m:\u001b[0m\u001b[1;33m\u001b[0m\u001b[1;33m\u001b[0m\u001b[0m\n\u001b[0;32m    112\u001b[0m         \u001b[1;32mif\u001b[0m \u001b[0mimg\u001b[0m\u001b[1;33m.\u001b[0m\u001b[0mmode\u001b[0m \u001b[1;33m!=\u001b[0m \u001b[1;34m'L'\u001b[0m\u001b[1;33m:\u001b[0m\u001b[1;33m\u001b[0m\u001b[1;33m\u001b[0m\u001b[0m\n",
      "\u001b[1;32mK:\\Anaconda3\\lib\\site-packages\\PIL\\Image.py\u001b[0m in \u001b[0;36mopen\u001b[1;34m(fp, mode)\u001b[0m\n\u001b[0;32m   2770\u001b[0m         \u001b[0mfp\u001b[0m\u001b[1;33m.\u001b[0m\u001b[0mseek\u001b[0m\u001b[1;33m(\u001b[0m\u001b[1;36m0\u001b[0m\u001b[1;33m)\u001b[0m\u001b[1;33m\u001b[0m\u001b[1;33m\u001b[0m\u001b[0m\n\u001b[0;32m   2771\u001b[0m     \u001b[1;32mexcept\u001b[0m \u001b[1;33m(\u001b[0m\u001b[0mAttributeError\u001b[0m\u001b[1;33m,\u001b[0m \u001b[0mio\u001b[0m\u001b[1;33m.\u001b[0m\u001b[0mUnsupportedOperation\u001b[0m\u001b[1;33m)\u001b[0m\u001b[1;33m:\u001b[0m\u001b[1;33m\u001b[0m\u001b[1;33m\u001b[0m\u001b[0m\n\u001b[1;32m-> 2772\u001b[1;33m         \u001b[0mfp\u001b[0m \u001b[1;33m=\u001b[0m \u001b[0mio\u001b[0m\u001b[1;33m.\u001b[0m\u001b[0mBytesIO\u001b[0m\u001b[1;33m(\u001b[0m\u001b[0mfp\u001b[0m\u001b[1;33m.\u001b[0m\u001b[0mread\u001b[0m\u001b[1;33m(\u001b[0m\u001b[1;33m)\u001b[0m\u001b[1;33m)\u001b[0m\u001b[1;33m\u001b[0m\u001b[1;33m\u001b[0m\u001b[0m\n\u001b[0m\u001b[0;32m   2773\u001b[0m         \u001b[0mexclusive_fp\u001b[0m \u001b[1;33m=\u001b[0m \u001b[1;32mTrue\u001b[0m\u001b[1;33m\u001b[0m\u001b[1;33m\u001b[0m\u001b[0m\n\u001b[0;32m   2774\u001b[0m \u001b[1;33m\u001b[0m\u001b[0m\n",
      "\u001b[1;31mAttributeError\u001b[0m: 'generator' object has no attribute 'read'"
     ]
    }
   ],
   "source": [
    "label1 = str(folder_dir1).split(\"\\\\\")[-1]\n",
    "print(label1)\n",
    "img1 = image.load_img(folder_dir1,target_size=(100,100))\n",
    "img_array1 = image.img_to_array(img1)\n",
    "image_data1.append(img_array1)"
   ]
  },
  {
   "cell_type": "code",
   "execution_count": 87,
   "metadata": {},
   "outputs": [
    {
     "name": "stdout",
     "output_type": "stream",
     "text": [
      "K:/Coding Blocks/Machine learning/pokemon classifier/pokemon_test/Images/1106.jpg\n"
     ]
    }
   ],
   "source": [
    "print(\"K:/Coding Blocks/Machine learning/pokemon classifier/pokemon_test/Images/\"+ x_test_new[0])"
   ]
  },
  {
   "cell_type": "code",
   "execution_count": 92,
   "metadata": {},
   "outputs": [
    {
     "name": "stdout",
     "output_type": "stream",
     "text": [
      "<generator object Path.glob at 0x0000018CB4D9EBC8>\n"
     ]
    }
   ],
   "source": [
    "p1 = Path(\"K:/Coding Blocks/Machine learning/pokemon classifier/pokemon_test/Images/\"+ x_test_new[0])\n"
   ]
  },
  {
   "cell_type": "code",
   "execution_count": 97,
   "metadata": {},
   "outputs": [
    {
     "name": "stdout",
     "output_type": "stream",
     "text": [
      "1106.jpg\n"
     ]
    }
   ],
   "source": [
    "image_data1 = []\n",
    "\n",
    "\n",
    "    \n",
    "label1 = str(p1).split(\"\\\\\")[-1]\n",
    "print(label1)\n",
    "img1 = image.load_img(p1,target_size=(100,100))\n",
    "img_array1 = image.img_to_array(img1)\n",
    "image_data1.append(img_array1)"
   ]
  },
  {
   "cell_type": "code",
   "execution_count": 98,
   "metadata": {},
   "outputs": [
    {
     "data": {
      "text/plain": [
       "[array([[[255., 255., 255.],\n",
       "         [255., 255., 255.],\n",
       "         [255., 255., 255.],\n",
       "         ...,\n",
       "         [255., 255., 255.],\n",
       "         [255., 255., 255.],\n",
       "         [255., 255., 255.]],\n",
       " \n",
       "        [[255., 255., 255.],\n",
       "         [255., 255., 255.],\n",
       "         [255., 255., 255.],\n",
       "         ...,\n",
       "         [255., 255., 255.],\n",
       "         [255., 255., 255.],\n",
       "         [255., 255., 255.]],\n",
       " \n",
       "        [[255., 255., 255.],\n",
       "         [255., 255., 255.],\n",
       "         [255., 255., 255.],\n",
       "         ...,\n",
       "         [255., 255., 255.],\n",
       "         [255., 255., 255.],\n",
       "         [255., 255., 255.]],\n",
       " \n",
       "        ...,\n",
       " \n",
       "        [[255., 255., 255.],\n",
       "         [255., 255., 255.],\n",
       "         [255., 255., 255.],\n",
       "         ...,\n",
       "         [255., 255., 255.],\n",
       "         [255., 255., 255.],\n",
       "         [255., 255., 255.]],\n",
       " \n",
       "        [[255., 255., 255.],\n",
       "         [255., 255., 255.],\n",
       "         [255., 255., 255.],\n",
       "         ...,\n",
       "         [255., 255., 255.],\n",
       "         [255., 255., 255.],\n",
       "         [255., 255., 255.]],\n",
       " \n",
       "        [[255., 255., 255.],\n",
       "         [255., 255., 255.],\n",
       "         [255., 255., 255.],\n",
       "         ...,\n",
       "         [255., 255., 255.],\n",
       "         [255., 255., 255.],\n",
       "         [255., 255., 255.]]], dtype=float32)]"
      ]
     },
     "execution_count": 98,
     "metadata": {},
     "output_type": "execute_result"
    }
   ],
   "source": [
    "image_data1"
   ]
  },
  {
   "cell_type": "code",
   "execution_count": 99,
   "metadata": {},
   "outputs": [
    {
     "name": "stdout",
     "output_type": "stream",
     "text": [
      "[[[1. 1. 1.]\n",
      "  [1. 1. 1.]\n",
      "  [1. 1. 1.]\n",
      "  ...\n",
      "  [1. 1. 1.]\n",
      "  [1. 1. 1.]\n",
      "  [1. 1. 1.]]\n",
      "\n",
      " [[1. 1. 1.]\n",
      "  [1. 1. 1.]\n",
      "  [1. 1. 1.]\n",
      "  ...\n",
      "  [1. 1. 1.]\n",
      "  [1. 1. 1.]\n",
      "  [1. 1. 1.]]\n",
      "\n",
      " [[1. 1. 1.]\n",
      "  [1. 1. 1.]\n",
      "  [1. 1. 1.]\n",
      "  ...\n",
      "  [1. 1. 1.]\n",
      "  [1. 1. 1.]\n",
      "  [1. 1. 1.]]\n",
      "\n",
      " ...\n",
      "\n",
      " [[1. 1. 1.]\n",
      "  [1. 1. 1.]\n",
      "  [1. 1. 1.]\n",
      "  ...\n",
      "  [1. 1. 1.]\n",
      "  [1. 1. 1.]\n",
      "  [1. 1. 1.]]\n",
      "\n",
      " [[1. 1. 1.]\n",
      "  [1. 1. 1.]\n",
      "  [1. 1. 1.]\n",
      "  ...\n",
      "  [1. 1. 1.]\n",
      "  [1. 1. 1.]\n",
      "  [1. 1. 1.]]\n",
      "\n",
      " [[1. 1. 1.]\n",
      "  [1. 1. 1.]\n",
      "  [1. 1. 1.]\n",
      "  ...\n",
      "  [1. 1. 1.]\n",
      "  [1. 1. 1.]\n",
      "  [1. 1. 1.]]]\n"
     ]
    }
   ],
   "source": [
    "img_array1 = np.array(img_array1,dtype='float32')/255.0\n",
    "\n",
    "\n",
    "print(img_array1)"
   ]
  },
  {
   "cell_type": "code",
   "execution_count": 100,
   "metadata": {},
   "outputs": [],
   "source": [
    "from matplotlib import pyplot as plt\n",
    "\n",
    "def drawImg(img):\n",
    "    plt.imshow(img)\n",
    "    plt.axis(\"off\")\n",
    "    plt.show()    \n",
    "    return \n"
   ]
  },
  {
   "cell_type": "code",
   "execution_count": 101,
   "metadata": {},
   "outputs": [
    {
     "data": {
      "image/png": "[encoded data removed]",
      "text/plain": [
       "<Figure size 432x288 with 1 Axes>"
      ]
     },
     "metadata": {
      "needs_background": "light"
     },
     "output_type": "display_data"
    }
   ],
   "source": [
    "drawImg(img_array1)"
   ]
  },
  {
   "cell_type": "code",
   "execution_count": null,
   "metadata": {},
   "outputs": [],
   "source": []
  }
 ],
 "metadata": {
  "kernelspec": {
   "display_name": "Python 3",
   "language": "python",
   "name": "python3"
  },
  "language_info": {
   "codemirror_mode": {
    "name": "ipython",
    "version": 3
   },
   "file_extension": ".py",
   "mimetype": "text/x-python",
   "name": "python",
   "nbconvert_exporter": "python",
   "pygments_lexer": "ipython3",
   "version": "3.7.4"
  }
 },
 "nbformat": 4,
 "nbformat_minor": 2
}
