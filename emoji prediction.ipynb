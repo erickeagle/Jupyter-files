{
 "cells": [
  {
   "cell_type": "code",
   "execution_count": 1,
   "metadata": {},
   "outputs": [],
   "source": [
    "import numpy as np\n",
    "import pandas as pd"
   ]
  },
  {
   "cell_type": "code",
   "execution_count": 2,
   "metadata": {},
   "outputs": [],
   "source": [
    "train = pd.read_csv('train_emoji.csv',header=None)\n",
    "test = pd.read_csv('test_emoji.csv',header=None)"
   ]
  },
  {
   "cell_type": "code",
   "execution_count": 3,
   "metadata": {},
   "outputs": [
    {
     "data": {
      "text/html": [
       "<div>\n",
       "<style scoped>\n",
       "    .dataframe tbody tr th:only-of-type {\n",
       "        vertical-align: middle;\n",
       "    }\n",
       "\n",
       "    .dataframe tbody tr th {\n",
       "        vertical-align: top;\n",
       "    }\n",
       "\n",
       "    .dataframe thead th {\n",
       "        text-align: right;\n",
       "    }\n",
       "</style>\n",
       "<table border=\"1\" class=\"dataframe\">\n",
       "  <thead>\n",
       "    <tr style=\"text-align: right;\">\n",
       "      <th></th>\n",
       "      <th>0</th>\n",
       "      <th>1</th>\n",
       "      <th>2</th>\n",
       "      <th>3</th>\n",
       "    </tr>\n",
       "  </thead>\n",
       "  <tbody>\n",
       "    <tr>\n",
       "      <th>0</th>\n",
       "      <td>never talk to me again</td>\n",
       "      <td>3</td>\n",
       "      <td>NaN</td>\n",
       "      <td>NaN</td>\n",
       "    </tr>\n",
       "    <tr>\n",
       "      <th>1</th>\n",
       "      <td>I am proud of your achievements</td>\n",
       "      <td>2</td>\n",
       "      <td>NaN</td>\n",
       "      <td>NaN</td>\n",
       "    </tr>\n",
       "    <tr>\n",
       "      <th>2</th>\n",
       "      <td>It is the worst day in my life</td>\n",
       "      <td>3</td>\n",
       "      <td>NaN</td>\n",
       "      <td>NaN</td>\n",
       "    </tr>\n",
       "    <tr>\n",
       "      <th>3</th>\n",
       "      <td>Miss you so much</td>\n",
       "      <td>0</td>\n",
       "      <td>NaN</td>\n",
       "      <td>[0]</td>\n",
       "    </tr>\n",
       "    <tr>\n",
       "      <th>4</th>\n",
       "      <td>food is life</td>\n",
       "      <td>4</td>\n",
       "      <td>NaN</td>\n",
       "      <td>NaN</td>\n",
       "    </tr>\n",
       "  </tbody>\n",
       "</table>\n",
       "</div>"
      ],
      "text/plain": [
       "                                 0  1   2     3\n",
       "0           never talk to me again  3 NaN   NaN\n",
       "1  I am proud of your achievements  2 NaN   NaN\n",
       "2   It is the worst day in my life  3 NaN   NaN\n",
       "3                 Miss you so much  0 NaN   [0]\n",
       "4                     food is life  4 NaN   NaN"
      ]
     },
     "execution_count": 3,
     "metadata": {},
     "output_type": "execute_result"
    }
   ],
   "source": [
    "train.head()"
   ]
  },
  {
   "cell_type": "code",
   "execution_count": 4,
   "metadata": {},
   "outputs": [],
   "source": [
    "import emoji as emoji"
   ]
  },
  {
   "cell_type": "code",
   "execution_count": null,
   "metadata": {},
   "outputs": [],
   "source": [
    "\n"
   ]
  },
  {
   "cell_type": "code",
   "execution_count": 5,
   "metadata": {},
   "outputs": [],
   "source": [
    "emoji_dictionary = {\"0\": \"\\u2764\\uFE0F\",    # :heart: prints a black instead of red heart depending on the font\n",
    "                    \"1\": \":baseball:\",\n",
    "                    \"2\": \":beaming_face_with_smiling_eyes:\",\n",
    "                    \"3\": \":downcast_face_with_sweat:\",\n",
    "                    \"4\": \":fork_and_knife:\",\n",
    "                   }"
   ]
  },
  {
   "cell_type": "code",
   "execution_count": 6,
   "metadata": {},
   "outputs": [
    {
     "data": {
      "text/plain": [
       "'🍴'"
      ]
     },
     "execution_count": 6,
     "metadata": {},
     "output_type": "execute_result"
    }
   ],
   "source": [
    "emoji.emojize(\":fork_and_knife:\")"
   ]
  },
  {
   "cell_type": "code",
   "execution_count": 7,
   "metadata": {},
   "outputs": [
    {
     "name": "stdout",
     "output_type": "stream",
     "text": [
      "❤️\n",
      "⚾\n",
      "😁\n",
      "😓\n",
      "🍴\n"
     ]
    }
   ],
   "source": [
    "for e in emoji_dictionary.values():\n",
    "    print(emoji.emojize(e))"
   ]
  },
  {
   "cell_type": "code",
   "execution_count": 8,
   "metadata": {},
   "outputs": [
    {
     "name": "stdout",
     "output_type": "stream",
     "text": [
      "never talk to me again 😓\n",
      "I am proud of your achievements 😁\n",
      "It is the worst day in my life 😓\n",
      "Miss you so much ❤️\n",
      "food is life 🍴\n",
      "I love you mum ❤️\n",
      "Stop saying bullshit 😓\n",
      "congratulations on your acceptance 😁\n",
      "The assignment is too long  😓\n",
      "I want to go play ⚾\n"
     ]
    }
   ],
   "source": [
    "data = train.values\n",
    "for i in range(10):\n",
    "    print(data[i][0],emoji.emojize(emoji_dictionary[str(data[i][1])]))"
   ]
  },
  {
   "cell_type": "code",
   "execution_count": 9,
   "metadata": {},
   "outputs": [
    {
     "name": "stderr",
     "output_type": "stream",
     "text": [
      "Using TensorFlow backend.\n"
     ]
    }
   ],
   "source": [
    "from keras.utils import to_categorical"
   ]
  },
  {
   "cell_type": "code",
   "execution_count": 10,
   "metadata": {},
   "outputs": [
    {
     "name": "stdout",
     "output_type": "stream",
     "text": [
      "(132,)\n",
      "(56,)\n",
      "(132, 5)\n",
      "(56, 5)\n"
     ]
    }
   ],
   "source": [
    "XT = train[0]\n",
    "Xt = test[0]\n",
    "\n",
    "YT = to_categorical(train[1])\n",
    "Yt = to_categorical(test[1])\n",
    "\n",
    "\n",
    "print(XT.shape)\n",
    "print(Xt.shape)\n",
    "print(YT.shape)\n",
    "print(Yt.shape)"
   ]
  },
  {
   "cell_type": "code",
   "execution_count": 11,
   "metadata": {},
   "outputs": [],
   "source": [
    "embeddings = {}\n",
    "with open('K:\\Coding Blocks\\Machine learning\\glove6b50dtxt\\glove.6B.50d.txt',encoding='utf-8') as f:\n",
    "    for line in f:\n",
    "        values = line.split()\n",
    "        word = values[0]\n",
    "        coeffs = np.asarray(values[1:],dtype='float32')\n",
    "        \n",
    "        #print(word)\n",
    "        #print(coeffs)\n",
    "        embeddings[word] = coeffs"
   ]
  },
  {
   "cell_type": "code",
   "execution_count": 12,
   "metadata": {},
   "outputs": [],
   "source": [
    "def getOutputEmbeddings(X):\n",
    "    \n",
    "    embedding_matrix_output = np.zeros((X.shape[0],10,50))\n",
    "    for ix in range(X.shape[0]):\n",
    "        X[ix] = X[ix].split()\n",
    "        for jx in range(len(X[ix])):\n",
    "            embedding_matrix_output[ix][jx] = embeddings[X[ix][jx].lower()]\n",
    "            \n",
    "    return embedding_matrix_output"
   ]
  },
  {
   "cell_type": "code",
   "execution_count": 13,
   "metadata": {},
   "outputs": [
    {
     "name": "stderr",
     "output_type": "stream",
     "text": [
      "K:\\Anaconda3\\envs\\py\\lib\\site-packages\\ipykernel_launcher.py:5: SettingWithCopyWarning: \n",
      "A value is trying to be set on a copy of a slice from a DataFrame\n",
      "\n",
      "See the caveats in the documentation: https://pandas.pydata.org/pandas-docs/stable/user_guide/indexing.html#returning-a-view-versus-a-copy\n",
      "  \"\"\"\n"
     ]
    }
   ],
   "source": [
    "emb_XT = getOutputEmbeddings(XT)\n",
    "emb_Xt = getOutputEmbeddings(Xt)"
   ]
  },
  {
   "cell_type": "code",
   "execution_count": 14,
   "metadata": {},
   "outputs": [
    {
     "name": "stdout",
     "output_type": "stream",
     "text": [
      "(132, 10, 50)\n",
      "(56, 10, 50)\n"
     ]
    }
   ],
   "source": [
    "print(emb_XT.shape)\n",
    "print(emb_Xt.shape)\n"
   ]
  },
  {
   "cell_type": "code",
   "execution_count": 15,
   "metadata": {},
   "outputs": [],
   "source": [
    "from keras.layers import *\n",
    "from keras.models import Sequential"
   ]
  },
  {
   "cell_type": "code",
   "execution_count": 16,
   "metadata": {},
   "outputs": [
    {
     "name": "stdout",
     "output_type": "stream",
     "text": [
      "Model: \"sequential_1\"\n",
      "_________________________________________________________________\n",
      "Layer (type)                 Output Shape              Param #   \n",
      "=================================================================\n",
      "lstm_1 (LSTM)                (None, 10, 64)            29440     \n",
      "_________________________________________________________________\n",
      "dropout_1 (Dropout)          (None, 10, 64)            0         \n",
      "_________________________________________________________________\n",
      "lstm_2 (LSTM)                (None, 64)                33024     \n",
      "_________________________________________________________________\n",
      "dropout_2 (Dropout)          (None, 64)                0         \n",
      "_________________________________________________________________\n",
      "dense_1 (Dense)              (None, 5)                 325       \n",
      "_________________________________________________________________\n",
      "activation_1 (Activation)    (None, 5)                 0         \n",
      "=================================================================\n",
      "Total params: 62,789\n",
      "Trainable params: 62,789\n",
      "Non-trainable params: 0\n",
      "_________________________________________________________________\n"
     ]
    }
   ],
   "source": [
    "model = Sequential()\n",
    "model.add(LSTM(64,input_shape=(10,50),return_sequences=True))\n",
    "model.add(Dropout(0.4))\n",
    "model.add(LSTM(64,input_shape=(10,50)))\n",
    "model.add(Dropout(0.3))\n",
    "model.add(Dense(5))\n",
    "model.add(Activation('softmax'))\n",
    "model.summary()"
   ]
  },
  {
   "cell_type": "code",
   "execution_count": 17,
   "metadata": {},
   "outputs": [],
   "source": [
    "model.compile(optimizer='adam',loss='categorical_crossentropy',metrics=['acc'])\n"
   ]
  },
  {
   "cell_type": "code",
   "execution_count": 18,
   "metadata": {},
   "outputs": [],
   "source": [
    "from keras.callbacks import ModelCheckpoint \n",
    "from keras.callbacks import EarlyStopping \n",
    "\n",
    "\n",
    "checkpoint = ModelCheckpoint(\"best1_model.h5\", monitor='val_loss', verbose=True, save_best_only=True)\n",
    "earlystop = EarlyStopping(monitor='val_accuracy',patience=10)\n"
   ]
  },
  {
   "cell_type": "code",
   "execution_count": 19,
   "metadata": {},
   "outputs": [
    {
     "name": "stdout",
     "output_type": "stream",
     "text": [
      "Train on 118 samples, validate on 14 samples\n",
      "Epoch 1/40\n",
      "118/118 [==============================] - 4s 38ms/step - loss: 1.5659 - acc: 0.3136 - val_loss: 1.6383 - val_acc: 0.2857\n",
      "\n",
      "Epoch 00001: val_loss improved from inf to 1.63832, saving model to best1_model.h5\n",
      "Epoch 2/40\n",
      "118/118 [==============================] - 0s 1ms/step - loss: 1.5231 - acc: 0.3305 - val_loss: 1.6867 - val_acc: 0.2143\n",
      "\n",
      "Epoch 00002: val_loss did not improve from 1.63832\n",
      "Epoch 3/40\n",
      " 32/118 [=======>......................] - ETA: 0s - loss: 1.5440 - acc: 0.2500"
     ]
    },
    {
     "name": "stderr",
     "output_type": "stream",
     "text": [
      "K:\\Anaconda3\\envs\\py\\lib\\site-packages\\keras\\callbacks\\callbacks.py:846: RuntimeWarning: Early stopping conditioned on metric `val_accuracy` which is not available. Available metrics are: val_loss,val_acc,loss,acc\n",
      "  (self.monitor, ','.join(list(logs.keys()))), RuntimeWarning\n"
     ]
    },
    {
     "name": "stdout",
     "output_type": "stream",
     "text": [
      "118/118 [==============================] - 0s 1ms/step - loss: 1.4894 - acc: 0.3559 - val_loss: 1.6772 - val_acc: 0.2143\n",
      "\n",
      "Epoch 00003: val_loss did not improve from 1.63832\n",
      "Epoch 4/40\n",
      "118/118 [==============================] - 0s 1ms/step - loss: 1.4462 - acc: 0.3814 - val_loss: 1.6255 - val_acc: 0.2857\n",
      "\n",
      "Epoch 00004: val_loss improved from 1.63832 to 1.62549, saving model to best1_model.h5\n",
      "Epoch 5/40\n",
      "118/118 [==============================] - 0s 1ms/step - loss: 1.4062 - acc: 0.4492 - val_loss: 1.5457 - val_acc: 0.2857\n",
      "\n",
      "Epoch 00005: val_loss improved from 1.62549 to 1.54575, saving model to best1_model.h5\n",
      "Epoch 6/40\n",
      "118/118 [==============================] - 0s 1ms/step - loss: 1.3307 - acc: 0.5000 - val_loss: 1.4732 - val_acc: 0.4286\n",
      "\n",
      "Epoch 00006: val_loss improved from 1.54575 to 1.47324, saving model to best1_model.h5\n",
      "Epoch 7/40\n",
      "118/118 [==============================] - 0s 1ms/step - loss: 1.2499 - acc: 0.5169 - val_loss: 1.3988 - val_acc: 0.4286\n",
      "\n",
      "Epoch 00007: val_loss improved from 1.47324 to 1.39882, saving model to best1_model.h5\n",
      "Epoch 8/40\n",
      "118/118 [==============================] - 0s 1ms/step - loss: 1.1436 - acc: 0.5763 - val_loss: 1.3260 - val_acc: 0.5000\n",
      "\n",
      "Epoch 00008: val_loss improved from 1.39882 to 1.32596, saving model to best1_model.h5\n",
      "Epoch 9/40\n",
      "118/118 [==============================] - 0s 1ms/step - loss: 1.0301 - acc: 0.6186 - val_loss: 1.2744 - val_acc: 0.5714\n",
      "\n",
      "Epoch 00009: val_loss improved from 1.32596 to 1.27442, saving model to best1_model.h5\n",
      "Epoch 10/40\n",
      "118/118 [==============================] - 0s 1ms/step - loss: 0.9033 - acc: 0.6780 - val_loss: 1.2707 - val_acc: 0.5000\n",
      "\n",
      "Epoch 00010: val_loss improved from 1.27442 to 1.27072, saving model to best1_model.h5\n",
      "Epoch 11/40\n",
      "118/118 [==============================] - 0s 1ms/step - loss: 0.8331 - acc: 0.6864 - val_loss: 1.2586 - val_acc: 0.5714\n",
      "\n",
      "Epoch 00011: val_loss improved from 1.27072 to 1.25856, saving model to best1_model.h5\n",
      "Epoch 12/40\n",
      "118/118 [==============================] - 0s 1ms/step - loss: 0.7239 - acc: 0.7712 - val_loss: 1.2692 - val_acc: 0.5000\n",
      "\n",
      "Epoch 00012: val_loss did not improve from 1.25856\n",
      "Epoch 13/40\n",
      "118/118 [==============================] - 0s 1ms/step - loss: 0.6722 - acc: 0.7288 - val_loss: 1.2182 - val_acc: 0.5000\n",
      "\n",
      "Epoch 00013: val_loss improved from 1.25856 to 1.21821, saving model to best1_model.h5\n",
      "Epoch 14/40\n",
      "118/118 [==============================] - 0s 1ms/step - loss: 0.5796 - acc: 0.8051 - val_loss: 1.1480 - val_acc: 0.5714\n",
      "\n",
      "Epoch 00014: val_loss improved from 1.21821 to 1.14802, saving model to best1_model.h5\n",
      "Epoch 15/40\n",
      "118/118 [==============================] - 0s 1ms/step - loss: 0.5110 - acc: 0.8644 - val_loss: 1.1220 - val_acc: 0.5000\n",
      "\n",
      "Epoch 00015: val_loss improved from 1.14802 to 1.12199, saving model to best1_model.h5\n",
      "Epoch 16/40\n",
      "118/118 [==============================] - 0s 1ms/step - loss: 0.4250 - acc: 0.8814 - val_loss: 1.0174 - val_acc: 0.5000\n",
      "\n",
      "Epoch 00016: val_loss improved from 1.12199 to 1.01736, saving model to best1_model.h5\n",
      "Epoch 17/40\n",
      "118/118 [==============================] - 0s 1ms/step - loss: 0.3570 - acc: 0.9068 - val_loss: 1.3443 - val_acc: 0.5000\n",
      "\n",
      "Epoch 00017: val_loss did not improve from 1.01736\n",
      "Epoch 18/40\n",
      "118/118 [==============================] - 0s 1ms/step - loss: 0.3641 - acc: 0.8644 - val_loss: 1.0838 - val_acc: 0.5000\n",
      "\n",
      "Epoch 00018: val_loss did not improve from 1.01736\n",
      "Epoch 19/40\n",
      "118/118 [==============================] - 0s 1ms/step - loss: 0.3010 - acc: 0.8814 - val_loss: 1.0825 - val_acc: 0.6429\n",
      "\n",
      "Epoch 00019: val_loss did not improve from 1.01736\n",
      "Epoch 20/40\n",
      "118/118 [==============================] - 0s 1ms/step - loss: 0.3374 - acc: 0.8983 - val_loss: 1.1090 - val_acc: 0.7143\n",
      "\n",
      "Epoch 00020: val_loss did not improve from 1.01736\n",
      "Epoch 21/40\n",
      "118/118 [==============================] - 0s 1ms/step - loss: 0.2560 - acc: 0.9237 - val_loss: 1.2436 - val_acc: 0.6429\n",
      "\n",
      "Epoch 00021: val_loss did not improve from 1.01736\n",
      "Epoch 22/40\n",
      "118/118 [==============================] - 0s 1ms/step - loss: 0.2631 - acc: 0.9237 - val_loss: 0.7302 - val_acc: 0.7857\n",
      "\n",
      "Epoch 00022: val_loss improved from 1.01736 to 0.73021, saving model to best1_model.h5\n",
      "Epoch 23/40\n",
      "118/118 [==============================] - 0s 1ms/step - loss: 0.2110 - acc: 0.9322 - val_loss: 0.9813 - val_acc: 0.7143\n",
      "\n",
      "Epoch 00023: val_loss did not improve from 0.73021\n",
      "Epoch 24/40\n",
      "118/118 [==============================] - 0s 1ms/step - loss: 0.1704 - acc: 0.9576 - val_loss: 1.0324 - val_acc: 0.7143\n",
      "\n",
      "Epoch 00024: val_loss did not improve from 0.73021\n",
      "Epoch 25/40\n",
      "118/118 [==============================] - 0s 1ms/step - loss: 0.1309 - acc: 0.9746 - val_loss: 0.9230 - val_acc: 0.7143\n",
      "\n",
      "Epoch 00025: val_loss did not improve from 0.73021\n",
      "Epoch 26/40\n",
      "118/118 [==============================] - 0s 1ms/step - loss: 0.1160 - acc: 0.9746 - val_loss: 1.1325 - val_acc: 0.6429\n",
      "\n",
      "Epoch 00026: val_loss did not improve from 0.73021\n",
      "Epoch 27/40\n",
      "118/118 [==============================] - 0s 1ms/step - loss: 0.1364 - acc: 0.9492 - val_loss: 0.9854 - val_acc: 0.7143\n",
      "\n",
      "Epoch 00027: val_loss did not improve from 0.73021\n",
      "Epoch 28/40\n",
      "118/118 [==============================] - 0s 1ms/step - loss: 0.1119 - acc: 0.9746 - val_loss: 1.0241 - val_acc: 0.7143\n",
      "\n",
      "Epoch 00028: val_loss did not improve from 0.73021\n",
      "Epoch 29/40\n",
      "118/118 [==============================] - 0s 1ms/step - loss: 0.0919 - acc: 0.9831 - val_loss: 1.0084 - val_acc: 0.7857\n",
      "\n",
      "Epoch 00029: val_loss did not improve from 0.73021\n",
      "Epoch 30/40\n",
      "118/118 [==============================] - 0s 1ms/step - loss: 0.0772 - acc: 0.9831 - val_loss: 1.1455 - val_acc: 0.6429\n",
      "\n",
      "Epoch 00030: val_loss did not improve from 0.73021\n",
      "Epoch 31/40\n",
      "118/118 [==============================] - 0s 1ms/step - loss: 0.0744 - acc: 0.9746 - val_loss: 0.9944 - val_acc: 0.6429\n",
      "\n",
      "Epoch 00031: val_loss did not improve from 0.73021\n",
      "Epoch 32/40\n",
      "118/118 [==============================] - 0s 1ms/step - loss: 0.1535 - acc: 0.9576 - val_loss: 1.4338 - val_acc: 0.5714\n",
      "\n",
      "Epoch 00032: val_loss did not improve from 0.73021\n",
      "Epoch 33/40\n",
      "118/118 [==============================] - 0s 1ms/step - loss: 0.1475 - acc: 0.9576 - val_loss: 1.3513 - val_acc: 0.6429\n",
      "\n",
      "Epoch 00033: val_loss did not improve from 0.73021\n",
      "Epoch 34/40\n",
      "118/118 [==============================] - 0s 1ms/step - loss: 0.2304 - acc: 0.9322 - val_loss: 1.0789 - val_acc: 0.7857\n",
      "\n",
      "Epoch 00034: val_loss did not improve from 0.73021\n",
      "Epoch 35/40\n",
      "118/118 [==============================] - 0s 1ms/step - loss: 0.1444 - acc: 0.9407 - val_loss: 0.9830 - val_acc: 0.7857\n",
      "\n",
      "Epoch 00035: val_loss did not improve from 0.73021\n",
      "Epoch 36/40\n",
      "118/118 [==============================] - 0s 1ms/step - loss: 0.1298 - acc: 0.9492 - val_loss: 0.6181 - val_acc: 0.6429\n",
      "\n",
      "Epoch 00036: val_loss improved from 0.73021 to 0.61815, saving model to best1_model.h5\n",
      "Epoch 37/40\n",
      "118/118 [==============================] - 0s 1ms/step - loss: 0.0799 - acc: 0.9831 - val_loss: 1.5956 - val_acc: 0.5714\n",
      "\n",
      "Epoch 00037: val_loss did not improve from 0.61815\n",
      "Epoch 38/40\n",
      "118/118 [==============================] - 0s 1ms/step - loss: 0.1502 - acc: 0.9746 - val_loss: 1.0976 - val_acc: 0.6429\n",
      "\n",
      "Epoch 00038: val_loss did not improve from 0.61815\n",
      "Epoch 39/40\n",
      "118/118 [==============================] - 0s 1ms/step - loss: 0.0670 - acc: 0.9915 - val_loss: 0.7164 - val_acc: 0.7143\n",
      "\n",
      "Epoch 00039: val_loss did not improve from 0.61815\n",
      "Epoch 40/40\n",
      "118/118 [==============================] - 0s 1ms/step - loss: 0.0646 - acc: 0.9831 - val_loss: 0.6649 - val_acc: 0.7143\n",
      "\n",
      "Epoch 00040: val_loss did not improve from 0.61815\n"
     ]
    },
    {
     "data": {
      "text/plain": [
       "<keras.callbacks.callbacks.History at 0x295f602bc48>"
      ]
     },
     "execution_count": 19,
     "metadata": {},
     "output_type": "execute_result"
    }
   ],
   "source": [
    "model.fit(emb_XT,YT,batch_size=32,epochs=40,shuffle=True,validation_split=0.1,callbacks=[checkpoint,earlystop])"
   ]
  },
  {
   "cell_type": "code",
   "execution_count": 20,
   "metadata": {},
   "outputs": [
    {
     "name": "stdout",
     "output_type": "stream",
     "text": [
      "56/56 [==============================] - 0s 641us/step\n"
     ]
    },
    {
     "data": {
      "text/plain": [
       "[1.3664231300354004, 0.5892857313156128]"
      ]
     },
     "execution_count": 20,
     "metadata": {},
     "output_type": "execute_result"
    }
   ],
   "source": [
    "model.evaluate(emb_Xt,Yt)"
   ]
  },
  {
   "cell_type": "code",
   "execution_count": 21,
   "metadata": {},
   "outputs": [],
   "source": [
    "model.load_weights('best1_model.h5')"
   ]
  },
  {
   "cell_type": "code",
   "execution_count": 22,
   "metadata": {},
   "outputs": [
    {
     "name": "stdout",
     "output_type": "stream",
     "text": [
      "56/56 [==============================] - 0s 641us/step\n"
     ]
    },
    {
     "data": {
      "text/plain": [
       "[1.3825903960636683, 0.5714285969734192]"
      ]
     },
     "execution_count": 22,
     "metadata": {},
     "output_type": "execute_result"
    }
   ],
   "source": [
    "model.evaluate(emb_Xt,Yt)"
   ]
  },
  {
   "cell_type": "code",
   "execution_count": 23,
   "metadata": {},
   "outputs": [],
   "source": [
    "pred = model.predict_classes(emb_Xt)"
   ]
  },
  {
   "cell_type": "code",
   "execution_count": 24,
   "metadata": {},
   "outputs": [
    {
     "name": "stdout",
     "output_type": "stream",
     "text": [
      "I want to eat\n",
      "🍴\n",
      "🍴\n",
      "he did not answer\n",
      "😓\n",
      "😓\n",
      "he got a raise\n",
      "😁\n",
      "😓\n",
      "she got me a present\n",
      "❤️\n",
      "❤️\n",
      "ha ha ha it was so funny\n",
      "😁\n",
      "😁\n",
      "he is a good friend\n",
      "❤️\n",
      "😁\n",
      "I am upset\n",
      "❤️\n",
      "😓\n",
      "We had such a lovely dinner tonight\n",
      "❤️\n",
      "😁\n",
      "where is the food\n",
      "🍴\n",
      "🍴\n",
      "Stop making this joke ha ha ha\n",
      "😁\n",
      "😁\n",
      "where is the ball\n",
      "⚾\n",
      "⚾\n",
      "work is hard\n",
      "😓\n",
      "😁\n",
      "This girl is messing with me\n",
      "😓\n",
      "❤️\n",
      "are you serious ha ha\n",
      "😁\n",
      "😓\n",
      "Let us go play baseball\n",
      "⚾\n",
      "⚾\n",
      "This stupid grader is not working\n",
      "😓\n",
      "😓\n",
      "work is horrible\n",
      "😓\n",
      "😁\n",
      "Congratulation for having a baby\n",
      "😁\n",
      "😁\n",
      "stop messing around\n",
      "😓\n",
      "😓\n",
      "any suggestions for dinner\n",
      "🍴\n",
      "😁\n",
      "I love taking breaks\n",
      "❤️\n",
      "😓\n",
      "you brighten my day\n",
      "😁\n",
      "😓\n",
      "I boiled rice\n",
      "🍴\n",
      "🍴\n",
      "she is a bully\n",
      "😓\n",
      "❤️\n",
      "Why are you feeling bad\n",
      "😓\n",
      "😓\n",
      "I am upset\n",
      "😓\n",
      "😓\n",
      "I worked during my birthday\n",
      "😓\n",
      "😁\n",
      "My grandmother is the love of my life\n",
      "❤️\n",
      "❤️\n",
      "enjoy your break\n",
      "😁\n",
      "⚾\n",
      "valentine day is near\n",
      "❤️\n",
      "😁\n"
     ]
    }
   ],
   "source": [
    "for i in range(30):\n",
    "    print(' '.join(Xt[i]))\n",
    "    print(emoji.emojize(emoji_dictionary[str(np.argmax(Yt[i]))]))\n",
    "    print(emoji.emojize(emoji_dictionary[str(pred[i])]))"
   ]
  },
  {
   "cell_type": "code",
   "execution_count": null,
   "metadata": {},
   "outputs": [],
   "source": []
  },
  {
   "cell_type": "code",
   "execution_count": null,
   "metadata": {},
   "outputs": [],
   "source": []
  },
  {
   "cell_type": "code",
   "execution_count": null,
   "metadata": {},
   "outputs": [],
   "source": []
  }
 ],
 "metadata": {
  "kernelspec": {
   "display_name": "Python 3",
   "language": "python",
   "name": "python3"
  },
  "language_info": {
   "codemirror_mode": {
    "name": "ipython",
    "version": 3
   },
   "file_extension": ".py",
   "mimetype": "text/x-python",
   "name": "python",
   "nbconvert_exporter": "python",
   "pygments_lexer": "ipython3",
   "version": "3.7.6"
  }
 },
 "nbformat": 4,
 "nbformat_minor": 2
}
