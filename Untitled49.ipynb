{
 "cells": [
  {
   "cell_type": "code",
   "execution_count": 38,
   "metadata": {},
   "outputs": [],
   "source": [
    "from matplotlib import pyplot as plt\n",
    "from sklearn.datasets import make_blobs"
   ]
  },
  {
   "cell_type": "code",
   "execution_count": 39,
   "metadata": {},
   "outputs": [],
   "source": [
    "import random\n",
    "import numpy as np"
   ]
  },
  {
   "cell_type": "code",
   "execution_count": 40,
   "metadata": {},
   "outputs": [],
   "source": [
    "\n",
    "X,y  = make_blobs(n_samples=500,n_features=2,centers=5,random_state=3)"
   ]
  },
  {
   "cell_type": "code",
   "execution_count": 41,
   "metadata": {},
   "outputs": [
    {
     "data": {
      "image/png": "[encoded data removed]",
      "text/plain": [
       "<Figure size 432x288 with 1 Axes>"
      ]
     },
     "metadata": {
      "needs_background": "light"
     },
     "output_type": "display_data"
    }
   ],
   "source": [
    "\n",
    "plt.figure(0)\n",
    "plt.grid(True)\n",
    "plt.scatter(X[:,0],X[:,1])\n",
    "plt.show()"
   ]
  },
  {
   "cell_type": "code",
   "execution_count": 42,
   "metadata": {},
   "outputs": [],
   "source": [
    "k = 5\n",
    "\n",
    "color  = [\"green\",\"red\",\"blue\",\"yellow\",\"orange\"]\n",
    "\n",
    "clusters = {}\n",
    "\n",
    "for i in range(k):\n",
    "    center = 10*(2*np.random.random((X.shape[1],))-1)\n",
    "    points = []\n",
    "    \n",
    "    cluster = {\n",
    "        'center':center,\n",
    "        'points':points,\n",
    "        'color': color[i]\n",
    "        }\n",
    "    \n",
    "    clusters[i] = cluster"
   ]
  },
  {
   "cell_type": "code",
   "execution_count": 52,
   "metadata": {},
   "outputs": [
    {
     "name": "stdout",
     "output_type": "stream",
     "text": [
      "[ 6.89453208 -4.63336643]\n"
     ]
    }
   ],
   "source": [
    "center = 10*(2*np.random.random((X.shape[1],))-1)\n",
    "print(center)"
   ]
  },
  {
   "cell_type": "code",
   "execution_count": 53,
   "metadata": {},
   "outputs": [
    {
     "data": {
      "text/plain": [
       "{0: {'center': array([-4.10426188,  0.1988698 ]),\n",
       "  'points': [],\n",
       "  'color': 'green'},\n",
       " 1: {'center': array([-8.40841818, -3.35544182]),\n",
       "  'points': [],\n",
       "  'color': 'red'},\n",
       " 2: {'center': array([ 5.58791154, -9.32609704]),\n",
       "  'points': [],\n",
       "  'color': 'blue'},\n",
       " 3: {'center': array([7.8649674 , 7.97988109]),\n",
       "  'points': [],\n",
       "  'color': 'yellow'},\n",
       " 4: {'center': array([0.88641907, 4.19441853]),\n",
       "  'points': [],\n",
       "  'color': 'orange'}}"
      ]
     },
     "execution_count": 53,
     "metadata": {},
     "output_type": "execute_result"
    }
   ],
   "source": [
    "clusters"
   ]
  },
  {
   "cell_type": "code",
   "execution_count": 45,
   "metadata": {},
   "outputs": [],
   "source": [
    "\n",
    "def distance(v1,v2):\n",
    "    return np.sqrt(np.sum((v1-v2)**2))"
   ]
  },
  {
   "cell_type": "code",
   "execution_count": 46,
   "metadata": {},
   "outputs": [],
   "source": [
    "# Assign every data point to one of the clusters\n",
    "def assignPointToClusters(clusters): #E-Step\n",
    "    for ix in range(X.shape[0]):\n",
    "        dist = []\n",
    "        curr_x = X[ix]\n",
    "\n",
    "        for kx in range(k):\n",
    "            d = distance(curr_x,clusters[kx]['center'])\n",
    "            dist.append(d)\n",
    "\n",
    "        current_cluster = np.argmin(dist)    \n",
    "        clusters[current_cluster]['points'].append(curr_x)\n",
    "        \n",
    "def updateClusters(clusters): # M-Step -> We update every cluster center according to the mean of the points in it\n",
    "    for kx in range(k):\n",
    "        pts = np.array(clusters[kx]['points'])\n",
    "        \n",
    "        if pts.shape[0]>0: #If a cluster has some-nonzero points\n",
    "            new_u = pts.mean(axis=0)\n",
    "            clusters[kx]['center'] = new_u\n",
    "            clusters[kx]['points'] = [] #Clear the list \n",
    "                    \n",
    "    \n",
    "\n",
    "def plotClusters(clusters):\n",
    "    \n",
    "    for kx in range(k):\n",
    "        #print(len(clusters[kx]['points']))\n",
    "        \n",
    "        pts = np.array(clusters[kx]['points'])\n",
    "        #print(pts.shape)\n",
    "        \n",
    "        #Plot the points\n",
    "        try:\n",
    "            plt.scatter(pts[:,0],pts[:,1],color=clusters[kx]['color'])\n",
    "        except:\n",
    "            pass\n",
    "        \n",
    "        #Plot the cluster center\n",
    "        uk = clusters[kx]['center']\n",
    "        plt.scatter(uk[0],uk[1],color=\"black\",marker=\"*\")"
   ]
  },
  {
   "cell_type": "code",
   "execution_count": 55,
   "metadata": {},
   "outputs": [
    {
     "data": {
      "image/png": "[encoded data removed]",
      "text/plain": [
       "<Figure size 432x288 with 1 Axes>"
      ]
     },
     "metadata": {
      "needs_background": "light"
     },
     "output_type": "display_data"
    }
   ],
   "source": [
    "\n",
    "plotClusters(clusters)"
   ]
  },
  {
   "cell_type": "code",
   "execution_count": 56,
   "metadata": {},
   "outputs": [
    {
     "data": {
      "image/png": "[encoded data removed]",
      "text/plain": [
       "<Figure size 432x288 with 1 Axes>"
      ]
     },
     "metadata": {
      "needs_background": "light"
     },
     "output_type": "display_data"
    }
   ],
   "source": [
    "# Repeat this cell few times or put it inside a loop\n",
    "assignPointToClusters(clusters)\n",
    "plotClusters(clusters)\n",
    "updateClusters(clusters)"
   ]
  },
  {
   "cell_type": "code",
   "execution_count": null,
   "metadata": {},
   "outputs": [],
   "source": []
  },
  {
   "cell_type": "code",
   "execution_count": null,
   "metadata": {},
   "outputs": [],
   "source": []
  }
 ],
 "metadata": {
  "kernelspec": {
   "display_name": "Python 3",
   "language": "python",
   "name": "python3"
  },
  "language_info": {
   "codemirror_mode": {
    "name": "ipython",
    "version": 3
   },
   "file_extension": ".py",
   "mimetype": "text/x-python",
   "name": "python",
   "nbconvert_exporter": "python",
   "pygments_lexer": "ipython3",
   "version": "3.7.3"
  }
 },
 "nbformat": 4,
 "nbformat_minor": 2
}
