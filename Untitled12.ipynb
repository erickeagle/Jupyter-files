{
 "cells": [
  {
   "cell_type": "code",
   "execution_count": null,
   "metadata": {},
   "outputs": [
    {
     "name": "stdout",
     "output_type": "stream",
     "text": [
      "d:/sampl2.pdf\n",
      "\n",
      "0\n"
     ]
    }
   ],
   "source": [
    "import PyPDF2\n",
    "import re\n",
    "\n",
    "enter=input()\n",
    "pdfFileObj = open(enter, 'rb')\n",
    "pdfReader = PyPDF2.PdfFileReader(pdfFileObj)\n",
    "\n",
    "pageObj = pdfReader.getPage(0)\n",
    "\n",
    "# extracting text\n",
    "print(pageObj.extractText())\n",
    "a=pageObj.extractText()\n",
    "\n",
    "i=len(a)\n",
    "print(i)\n",
    "b=input()\n",
    "r1 = re.search(r\"b\",a)\n",
    "print(r1)\n",
    "print(a[189:])\n",
    "if r1:\n",
    "    \n",
    "    for i in range(a.find('b'),5):\n",
    "        i=i+1\n",
    "    print(i)\n",
    "    print(a[i:])                    \n",
    "#print(a[i:a.find()])\n",
    "    \n",
    "    \n",
    "\n"
   ]
  },
  {
   "cell_type": "code",
   "execution_count": null,
   "metadata": {},
   "outputs": [],
   "source": []
  }
 ],
 "metadata": {
  "kernelspec": {
   "display_name": "Python 3",
   "language": "python",
   "name": "python3"
  },
  "language_info": {
   "codemirror_mode": {
    "name": "ipython",
    "version": 3
   },
   "file_extension": ".py",
   "mimetype": "text/x-python",
   "name": "python",
   "nbconvert_exporter": "python",
   "pygments_lexer": "ipython3",
   "version": "3.7.3"
  }
 },
 "nbformat": 4,
 "nbformat_minor": 2
}
