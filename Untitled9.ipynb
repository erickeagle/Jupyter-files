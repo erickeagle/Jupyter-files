{
 "cells": [
  {
   "cell_type": "code",
   "execution_count": 1,
   "metadata": {},
   "outputs": [],
   "source": [
    "import gym"
   ]
  },
  {
   "cell_type": "code",
   "execution_count": 2,
   "metadata": {},
   "outputs": [
    {
     "name": "stderr",
     "output_type": "stream",
     "text": [
      "K:\\Anaconda3\\envs\\py\\lib\\site-packages\\gym\\logger.py:30: UserWarning: \u001b[33mWARN: Box bound precision lowered by casting to float32\u001b[0m\n",
      "  warnings.warn(colorize('%s: %s'%('WARN', msg % args), 'yellow'))\n"
     ]
    }
   ],
   "source": [
    "# Create Enviroment \n",
    "env = gym.make('CartPole-v0')"
   ]
  },
  {
   "cell_type": "markdown",
   "metadata": {},
   "source": [
    "# Each environment comes with certain import methods/attributes\n",
    "\n",
    "action_space\n",
    "\n",
    "observation_space\n",
    "\n",
    "reset() : returns init state and also resets the environment\n",
    "    \n",
    "step()\n",
    "\n",
    "render()"
   ]
  },
  {
   "cell_type": "code",
   "execution_count": 4,
   "metadata": {},
   "outputs": [
    {
     "data": {
      "text/plain": [
       "array([-0.01771167,  0.00419582,  0.00135632,  0.02713301])"
      ]
     },
     "execution_count": 4,
     "metadata": {},
     "output_type": "execute_result"
    }
   ],
   "source": [
    "env.reset()\n"
   ]
  },
  {
   "cell_type": "code",
   "execution_count": 5,
   "metadata": {},
   "outputs": [
    {
     "data": {
      "text/plain": [
       "Discrete(2)"
      ]
     },
     "execution_count": 5,
     "metadata": {},
     "output_type": "execute_result"
    }
   ],
   "source": [
    "env.action_space"
   ]
  },
  {
   "cell_type": "code",
   "execution_count": 6,
   "metadata": {},
   "outputs": [
    {
     "data": {
      "text/plain": [
       "True"
      ]
     },
     "execution_count": 6,
     "metadata": {},
     "output_type": "execute_result"
    }
   ],
   "source": []
  },
  {
   "cell_type": "code",
   "execution_count": 7,
   "metadata": {},
   "outputs": [
    {
     "data": {
      "text/plain": [
       "2"
      ]
     },
     "execution_count": 7,
     "metadata": {},
     "output_type": "execute_result"
    }
   ],
   "source": [
    "env.action_space.n"
   ]
  },
  {
   "cell_type": "code",
   "execution_count": 6,
   "metadata": {},
   "outputs": [
    {
     "data": {
      "text/plain": [
       "4"
      ]
     },
     "execution_count": 6,
     "metadata": {},
     "output_type": "execute_result"
    }
   ],
   "source": [
    "\n",
    "env.observation_space.shape[0]"
   ]
  },
  {
   "cell_type": "code",
   "execution_count": 9,
   "metadata": {},
   "outputs": [],
   "source": [
    "env.reset()\n",
    "for t in range(1000):\n",
    "    random_action = env.action_space.sample()\n",
    "    env.step(random_action) #randomly move left or right\n",
    "    env.render()\n",
    "env.close()"
   ]
  },
  {
   "cell_type": "markdown",
   "metadata": {},
   "source": [
    "# 2. Playing Games with a Random Strategy\n",
    "\n",
    "Game Episode\n",
    "\n",
    "Step() Function in More Detail\n",
    "\n",
    "Game Over?"
   ]
  },
  {
   "cell_type": "code",
   "execution_count": 7,
   "metadata": {},
   "outputs": [
    {
     "name": "stdout",
     "output_type": "stream",
     "text": [
      "Game Episode :0/20 High Score :36\n",
      "Game Episode :1/20 High Score :16\n",
      "Game Episode :2/20 High Score :35\n",
      "Game Episode :3/20 High Score :20\n",
      "Game Episode :4/20 High Score :32\n",
      "Game Episode :5/20 High Score :13\n",
      "Game Episode :6/20 High Score :25\n",
      "Game Episode :7/20 High Score :17\n",
      "Game Episode :8/20 High Score :20\n",
      "Game Episode :9/20 High Score :25\n",
      "Game Episode :10/20 High Score :24\n",
      "Game Episode :11/20 High Score :8\n",
      "Game Episode :12/20 High Score :30\n",
      "Game Episode :13/20 High Score :14\n",
      "Game Episode :15/20 High Score :10\n",
      "Game Episode :16/20 High Score :8\n",
      "Game Episode :17/20 High Score :21\n",
      "Game Episode :18/20 High Score :15\n",
      "Game Episode :19/20 High Score :12\n",
      "All 20 episodes over!\n"
     ]
    }
   ],
   "source": [
    "for e in range(20): #Episode\n",
    "    #Play 20 episodes \n",
    "    observation = env.reset()\n",
    "    for t in range(50):\n",
    "        env.render()\n",
    "        action = env.action_space.sample()\n",
    "        observation,reward,done,other_info = env.step(action)\n",
    "        \n",
    "        if done:\n",
    "            # Game Episode is over\n",
    "            print(\"Game Episode :{}/{} High Score :{}\".format(e,20,t))\n",
    "            break\n",
    "\n",
    "env.close()\n",
    "print(\"All 20 episodes over!\")"
   ]
  },
  {
   "cell_type": "code",
   "execution_count": 10,
   "metadata": {},
   "outputs": [
    {
     "data": {
      "text/plain": [
       "True"
      ]
     },
     "execution_count": 10,
     "metadata": {},
     "output_type": "execute_result"
    }
   ],
   "source": [
    "done\n"
   ]
  },
  {
   "cell_type": "code",
   "execution_count": null,
   "metadata": {},
   "outputs": [],
   "source": []
  },
  {
   "cell_type": "markdown",
   "metadata": {},
   "source": [
    "# 3. Q-Learning\n",
    "\n",
    "Designing an AI Agent"
   ]
  },
  {
   "cell_type": "code",
   "execution_count": 3,
   "metadata": {},
   "outputs": [
    {
     "name": "stderr",
     "output_type": "stream",
     "text": [
      "Using TensorFlow backend.\n"
     ]
    }
   ],
   "source": [
    "import numpy as np\n",
    "import matplotlib.pyplot as plt\n",
    "import os\n",
    "from collections import deque\n",
    "from keras.models import Sequential\n",
    "from keras.layers import Dense\n",
    "from keras.optimizers import Adam\n",
    "import random\n"
   ]
  },
  {
   "cell_type": "code",
   "execution_count": 4,
   "metadata": {},
   "outputs": [],
   "source": [
    "class Agent:\n",
    "    def __init__(self,state_size,action_size):\n",
    "        self.state_size = state_size\n",
    "        self.action_size = action_size\n",
    "        self.memory = deque(maxlen=2000)\n",
    "        self.gamma = 0.95 #Discount Factor\n",
    "        self.epsilon = 1.0 # Exploration Rate: How much to act randomly, \n",
    "        self.epsilon_decay = 0.995\n",
    "        self.epsilon_min = 0.01\n",
    "        self.learning_rate = 0.001 \n",
    "        self.model = self._create_model()\n",
    "        \n",
    "    \n",
    "    def _create_model(self):\n",
    "        #Neural Network To Approximate Q-Value function\n",
    "        model = Sequential()\n",
    "        model.add(Dense(24,input_dim=self.state_size,activation='relu')) #1st Hidden Layer\n",
    "        model.add(Dense(24,activation='relu')) #2nd Hidden Layer\n",
    "        model.add(Dense(self.action_size,activation='linear'))\n",
    "        model.compile(loss='mse',optimizer=Adam(lr=self.learning_rate))\n",
    "        return model\n",
    "    \n",
    "    def remember(self,state,action,reward,next_state,done):\n",
    "        self.memory.append((state,action,reward,next_state,done)) #remembering previous experiences\n",
    "        \n",
    "    def act(self,state):\n",
    "        # Exploration vs Exploitation\n",
    "        if np.random.rand()<=self.epsilon:\n",
    "            return random.randrange(self.action_size)\n",
    "        act_values = self.model.predict(state) # predict reward value based upon current state\n",
    "        return np.argmax(act_values[0]) #Left or Right\n",
    "    \n",
    "    def train(self,batch_size=32): #method that trains NN with experiences sampled from memory\n",
    "        minibatch = random.sample(self.memory,batch_size)\n",
    "        for state,action,reward,next_state,done in minibatch:\n",
    "            \n",
    "            if not done: #boolean \n",
    "                target = reward + self.gamma*np.amax(self.model.predict(next_state)[0])\n",
    "            else:\n",
    "                target = reward\n",
    "            target_f = self.model.predict(state)\n",
    "            target_f[0][action] = target\n",
    "            self.model.fit(state,target_f,epochs=1,verbose=0) #single epoch, x =state, y = target_f, loss--> target_f - \n",
    "            \n",
    "        if self.epsilon > self.epsilon_min:\n",
    "            self.epsilon *= self.epsilon_decay\n",
    "    \n",
    "    def load(self,name):\n",
    "        self.model.load_weights(name)\n",
    "    def save(self,name):\n",
    "        self.model.save_weights(name)"
   ]
  },
  {
   "cell_type": "markdown",
   "metadata": {},
   "source": [
    "# Training the DQN Agent (Deep Q-Learner)¶"
   ]
  },
  {
   "cell_type": "code",
   "execution_count": 5,
   "metadata": {},
   "outputs": [],
   "source": [
    "n_episodes = 1000\n",
    "output_dir = \"cartpole_model/\""
   ]
  },
  {
   "cell_type": "code",
   "execution_count": 6,
   "metadata": {},
   "outputs": [],
   "source": [
    "agent = Agent(state_size=4,action_size=2)\n",
    "done = False\n",
    "state_size = 4\n",
    "action_size =2\n",
    "batch_size = 32"
   ]
  },
  {
   "cell_type": "code",
   "execution_count": null,
   "metadata": {},
   "outputs": [
    {
     "name": "stdout",
     "output_type": "stream",
     "text": [
      "Game Episode :0/1000, High Score:17,Exploration Rate:1.0\n",
      "Game Episode :1/1000, High Score:16,Exploration Rate:1.0\n",
      "Game Episode :2/1000, High Score:17,Exploration Rate:0.99\n",
      "Game Episode :3/1000, High Score:12,Exploration Rate:0.99\n",
      "Game Episode :4/1000, High Score:16,Exploration Rate:0.99\n",
      "Game Episode :5/1000, High Score:14,Exploration Rate:0.98\n",
      "Game Episode :6/1000, High Score:24,Exploration Rate:0.98\n",
      "Game Episode :7/1000, High Score:24,Exploration Rate:0.97\n",
      "Game Episode :8/1000, High Score:67,Exploration Rate:0.97\n",
      "Game Episode :9/1000, High Score:20,Exploration Rate:0.96\n",
      "Game Episode :10/1000, High Score:11,Exploration Rate:0.96\n",
      "Game Episode :11/1000, High Score:21,Exploration Rate:0.95\n",
      "Game Episode :12/1000, High Score:9,Exploration Rate:0.95\n",
      "Game Episode :13/1000, High Score:8,Exploration Rate:0.94\n",
      "Game Episode :14/1000, High Score:24,Exploration Rate:0.94\n",
      "Game Episode :15/1000, High Score:15,Exploration Rate:0.93\n",
      "Game Episode :16/1000, High Score:9,Exploration Rate:0.93\n",
      "Game Episode :17/1000, High Score:12,Exploration Rate:0.92\n",
      "Game Episode :18/1000, High Score:13,Exploration Rate:0.92\n",
      "Game Episode :19/1000, High Score:22,Exploration Rate:0.91\n",
      "Game Episode :20/1000, High Score:23,Exploration Rate:0.91\n",
      "Game Episode :21/1000, High Score:20,Exploration Rate:0.9\n",
      "Game Episode :22/1000, High Score:20,Exploration Rate:0.9\n",
      "Game Episode :23/1000, High Score:20,Exploration Rate:0.9\n",
      "Game Episode :24/1000, High Score:20,Exploration Rate:0.89\n",
      "Game Episode :25/1000, High Score:9,Exploration Rate:0.89\n",
      "Game Episode :26/1000, High Score:28,Exploration Rate:0.88\n",
      "Game Episode :27/1000, High Score:16,Exploration Rate:0.88\n",
      "Game Episode :28/1000, High Score:26,Exploration Rate:0.87\n",
      "Game Episode :29/1000, High Score:30,Exploration Rate:0.87\n",
      "Game Episode :30/1000, High Score:33,Exploration Rate:0.86\n",
      "Game Episode :31/1000, High Score:12,Exploration Rate:0.86\n",
      "Game Episode :32/1000, High Score:15,Exploration Rate:0.86\n",
      "Game Episode :33/1000, High Score:16,Exploration Rate:0.85\n",
      "Game Episode :34/1000, High Score:18,Exploration Rate:0.85\n",
      "Game Episode :35/1000, High Score:13,Exploration Rate:0.84\n",
      "Game Episode :36/1000, High Score:18,Exploration Rate:0.84\n",
      "Game Episode :37/1000, High Score:29,Exploration Rate:0.83\n",
      "Game Episode :38/1000, High Score:17,Exploration Rate:0.83\n",
      "Game Episode :39/1000, High Score:28,Exploration Rate:0.83\n",
      "Game Episode :40/1000, High Score:27,Exploration Rate:0.82\n",
      "Game Episode :41/1000, High Score:24,Exploration Rate:0.82\n",
      "Game Episode :42/1000, High Score:36,Exploration Rate:0.81\n",
      "Game Episode :43/1000, High Score:17,Exploration Rate:0.81\n",
      "Game Episode :44/1000, High Score:10,Exploration Rate:0.81\n",
      "Game Episode :45/1000, High Score:36,Exploration Rate:0.8\n",
      "Game Episode :46/1000, High Score:15,Exploration Rate:0.8\n",
      "Game Episode :47/1000, High Score:31,Exploration Rate:0.79\n",
      "Game Episode :48/1000, High Score:11,Exploration Rate:0.79\n",
      "Game Episode :49/1000, High Score:11,Exploration Rate:0.79\n",
      "Game Episode :50/1000, High Score:12,Exploration Rate:0.78\n",
      "Game Episode :51/1000, High Score:30,Exploration Rate:0.78\n",
      "Game Episode :52/1000, High Score:48,Exploration Rate:0.77\n",
      "Game Episode :53/1000, High Score:26,Exploration Rate:0.77\n",
      "Game Episode :54/1000, High Score:16,Exploration Rate:0.77\n",
      "Game Episode :55/1000, High Score:14,Exploration Rate:0.76\n",
      "Game Episode :56/1000, High Score:57,Exploration Rate:0.76\n",
      "Game Episode :57/1000, High Score:17,Exploration Rate:0.76\n",
      "Game Episode :58/1000, High Score:25,Exploration Rate:0.75\n",
      "Game Episode :59/1000, High Score:31,Exploration Rate:0.75\n",
      "Game Episode :60/1000, High Score:15,Exploration Rate:0.74\n",
      "Game Episode :61/1000, High Score:35,Exploration Rate:0.74\n",
      "Game Episode :62/1000, High Score:45,Exploration Rate:0.74\n",
      "Game Episode :63/1000, High Score:26,Exploration Rate:0.73\n",
      "Game Episode :64/1000, High Score:17,Exploration Rate:0.73\n",
      "Game Episode :65/1000, High Score:19,Exploration Rate:0.73\n",
      "Game Episode :66/1000, High Score:21,Exploration Rate:0.72\n",
      "Game Episode :67/1000, High Score:19,Exploration Rate:0.72\n",
      "Game Episode :68/1000, High Score:16,Exploration Rate:0.71\n",
      "Game Episode :69/1000, High Score:16,Exploration Rate:0.71\n",
      "Game Episode :70/1000, High Score:16,Exploration Rate:0.71\n",
      "Game Episode :71/1000, High Score:22,Exploration Rate:0.7\n",
      "Game Episode :72/1000, High Score:13,Exploration Rate:0.7\n",
      "Game Episode :73/1000, High Score:29,Exploration Rate:0.7\n",
      "Game Episode :74/1000, High Score:48,Exploration Rate:0.69\n",
      "Game Episode :75/1000, High Score:39,Exploration Rate:0.69\n",
      "Game Episode :76/1000, High Score:26,Exploration Rate:0.69\n",
      "Game Episode :77/1000, High Score:42,Exploration Rate:0.68\n",
      "Game Episode :78/1000, High Score:77,Exploration Rate:0.68\n",
      "Game Episode :79/1000, High Score:15,Exploration Rate:0.68\n",
      "Game Episode :80/1000, High Score:25,Exploration Rate:0.67\n",
      "Game Episode :81/1000, High Score:20,Exploration Rate:0.67\n",
      "Game Episode :82/1000, High Score:73,Exploration Rate:0.67\n",
      "Game Episode :83/1000, High Score:89,Exploration Rate:0.66\n",
      "Game Episode :84/1000, High Score:44,Exploration Rate:0.66\n",
      "Game Episode :85/1000, High Score:14,Exploration Rate:0.66\n",
      "Game Episode :86/1000, High Score:26,Exploration Rate:0.65\n",
      "Game Episode :87/1000, High Score:15,Exploration Rate:0.65\n",
      "Game Episode :88/1000, High Score:12,Exploration Rate:0.65\n",
      "Game Episode :89/1000, High Score:9,Exploration Rate:0.64\n",
      "Game Episode :90/1000, High Score:34,Exploration Rate:0.64\n",
      "Game Episode :91/1000, High Score:13,Exploration Rate:0.64\n",
      "Game Episode :92/1000, High Score:16,Exploration Rate:0.63\n",
      "Game Episode :93/1000, High Score:12,Exploration Rate:0.63\n",
      "Game Episode :94/1000, High Score:12,Exploration Rate:0.63\n",
      "Game Episode :95/1000, High Score:36,Exploration Rate:0.62\n"
     ]
    }
   ],
   "source": [
    "agent = Agent(state_size, action_size) # initialise agent\n",
    "done = False\n",
    "for e in range(n_episodes):\n",
    "    state = env.reset()\n",
    "    state = np.reshape(state,[1,state_size])\n",
    "    \n",
    "    for time in range(400):\n",
    "        env.render()\n",
    "        action = agent.act(state) #action is 0 or 1\n",
    "        next_state,reward,done,other_info = env.step(action) \n",
    "        reward = reward if not done else -10\n",
    "        next_state = np.reshape(next_state,[1,state_size])\n",
    "        agent.remember(state,action,reward,next_state,done)\n",
    "        state = next_state\n",
    "        \n",
    "        if done:\n",
    "            print(\"Game Episode :{}/{}, High Score:{},Exploration Rate:{:.2}\".format(e,n_episodes,time,agent.epsilon))\n",
    "            break\n",
    "            \n",
    "    if len(agent.memory)>batch_size:\n",
    "        agent.train(batch_size)\n",
    "    \n",
    "    if e%50==0:\n",
    "        agent.save(output_dir+\"weights_\"+'{:04d}'.format(e)+\".hdf5\")\n",
    "        \n",
    "env.close()"
   ]
  },
  {
   "cell_type": "code",
   "execution_count": null,
   "metadata": {},
   "outputs": [],
   "source": []
  }
 ],
 "metadata": {
  "kernelspec": {
   "display_name": "Python 3",
   "language": "python",
   "name": "python3"
  },
  "language_info": {
   "codemirror_mode": {
    "name": "ipython",
    "version": 3
   },
   "file_extension": ".py",
   "mimetype": "text/x-python",
   "name": "python",
   "nbconvert_exporter": "python",
   "pygments_lexer": "ipython3",
   "version": "3.7.6"
  }
 },
 "nbformat": 4,
 "nbformat_minor": 4
}
