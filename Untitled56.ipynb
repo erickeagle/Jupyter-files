{
 "cells": [
  {
   "cell_type": "code",
   "execution_count": 1,
   "metadata": {},
   "outputs": [
    {
     "name": "stdout",
     "output_type": "stream",
     "text": [
      "5\n",
      "()()()()()\n",
      "()()()(())\n",
      "()()(())()\n",
      "()()(()())\n",
      "()()((()))\n",
      "()(())()()\n",
      "()(())(())\n",
      "()(()())()\n",
      "()(()()())\n",
      "()(()(()))\n",
      "()((()))()\n",
      "()((())())\n",
      "()((()()))\n",
      "()(((())))\n",
      "(())()()()\n",
      "(())()(())\n",
      "(())(())()\n",
      "(())(()())\n",
      "(())((()))\n",
      "(()())()()\n",
      "(()())(())\n",
      "(()()())()\n",
      "(()()()())\n",
      "(()()(()))\n",
      "(()(()))()\n",
      "(()(())())\n",
      "(()(()()))\n",
      "(()((())))\n",
      "((()))()()\n",
      "((()))(())\n",
      "((())())()\n",
      "((())()())\n",
      "((())(()))\n",
      "((()()))()\n",
      "((()())())\n",
      "((()()()))\n",
      "((()(())))\n",
      "(((())))()\n",
      "(((()))())\n",
      "(((())()))\n",
      "(((()())))\n",
      "((((()))))\n"
     ]
    }
   ],
   "source": [
    "def gen(openB,closeB,n,s=[]):\n",
    "    if  (closeB==n):\n",
    "        print(''.join(s))\n",
    "        return\n",
    "    else:\n",
    "        if(openB>closeB):\n",
    "            s.append(')')\n",
    "            gen(openB,closeB+1,n,s)\n",
    "            s.pop()\n",
    "        if(openB<n):\n",
    "            s.append('(')\n",
    "            gen(openB+1,closeB,n,s)\n",
    "            s.pop()\n",
    "        return\n",
    "N=int(input())\n",
    "gen(0,0,N)"
   ]
  },
  {
   "cell_type": "code",
   "execution_count": 1,
   "metadata": {},
   "outputs": [
    {
     "name": "stdout",
     "output_type": "stream",
     "text": [
      "4\n",
      "232\n",
      "16\n",
      "23\n",
      "8\n",
      "23\n",
      "8\n",
      "23\n",
      "8\n"
     ]
    }
   ],
   "source": [
    "import sys\n",
    "N=input()\n",
    "N=int(N)\n",
    "n=1\n",
    "while n<=N:\n",
    "    A=input()\n",
    "    A=str(int(A))\n",
    "    s=0\n",
    "    for i in range(len(A)):\n",
    "        s+=(2**i)*int(A[i])\n",
    "    print(s)\n",
    "\n",
    "\n",
    "\n",
    "    n+=1\n"
   ]
  },
  {
   "cell_type": "markdown",
   "metadata": {},
   "source": [
    "import sys\n",
    "N=sys.stdin.read()\n",
    "N=int(N)\n",
    "n=1\n",
    "while n<=N:\n",
    "    A=sys.stdin.read()\n",
    "    A=str(int(A))\n",
    "    s=0\n",
    "    for i in range(len(A)):\n",
    "        s+=(2**i)*int(A[i])\n",
    "    sys.stdout.write(s)\n",
    "        \n"
   ]
  },
  {
   "cell_type": "code",
   "execution_count": 2,
   "metadata": {},
   "outputs": [
    {
     "ename": "ValueError",
     "evalue": "invalid literal for int() with base 10: ''",
     "output_type": "error",
     "traceback": [
      "\u001b[1;31m---------------------------------------------------------------------------\u001b[0m",
      "\u001b[1;31mValueError\u001b[0m                                Traceback (most recent call last)",
      "\u001b[1;32m<ipython-input-2-bfe975d9b6f5>\u001b[0m in \u001b[0;36m<module>\u001b[1;34m\u001b[0m\n\u001b[0;32m      1\u001b[0m \u001b[1;32mimport\u001b[0m \u001b[0msys\u001b[0m\u001b[1;33m\u001b[0m\u001b[1;33m\u001b[0m\u001b[0m\n\u001b[0;32m      2\u001b[0m \u001b[0mN\u001b[0m\u001b[1;33m=\u001b[0m\u001b[0msys\u001b[0m\u001b[1;33m.\u001b[0m\u001b[0mstdin\u001b[0m\u001b[1;33m.\u001b[0m\u001b[0mread\u001b[0m\u001b[1;33m(\u001b[0m\u001b[1;33m)\u001b[0m\u001b[1;33m\u001b[0m\u001b[1;33m\u001b[0m\u001b[0m\n\u001b[1;32m----> 3\u001b[1;33m \u001b[0mN\u001b[0m\u001b[1;33m=\u001b[0m\u001b[0mint\u001b[0m\u001b[1;33m(\u001b[0m\u001b[0mN\u001b[0m\u001b[1;33m)\u001b[0m\u001b[1;33m\u001b[0m\u001b[1;33m\u001b[0m\u001b[0m\n\u001b[0m\u001b[0;32m      4\u001b[0m \u001b[0mn\u001b[0m\u001b[1;33m=\u001b[0m\u001b[1;36m1\u001b[0m\u001b[1;33m\u001b[0m\u001b[1;33m\u001b[0m\u001b[0m\n\u001b[0;32m      5\u001b[0m \u001b[1;32mwhile\u001b[0m \u001b[0mn\u001b[0m\u001b[1;33m<=\u001b[0m\u001b[0mN\u001b[0m\u001b[1;33m:\u001b[0m\u001b[1;33m\u001b[0m\u001b[1;33m\u001b[0m\u001b[0m\n",
      "\u001b[1;31mValueError\u001b[0m: invalid literal for int() with base 10: ''"
     ]
    }
   ],
   "source": [
    "import sys\n",
    "N=sys.stdin.read()\n",
    "N=int(N)\n",
    "n=1\n",
    "while n<=N:\n",
    "    A=sys.stdin.read()\n",
    "    A=str(int(A))\n",
    "    s=0\n",
    "    for i in range(len(A)):\n",
    "        s+=(2**i)*int(A[i])\n",
    "    sys.stdout.write(s)\n",
    "        "
   ]
  },
  {
   "cell_type": "code",
   "execution_count": null,
   "metadata": {},
   "outputs": [],
   "source": []
  }
 ],
 "metadata": {
  "kernelspec": {
   "display_name": "Python 3",
   "language": "python",
   "name": "python3"
  },
  "language_info": {
   "codemirror_mode": {
    "name": "ipython",
    "version": 3
   },
   "file_extension": ".py",
   "mimetype": "text/x-python",
   "name": "python",
   "nbconvert_exporter": "python",
   "pygments_lexer": "ipython3",
   "version": "3.7.4"
  }
 },
 "nbformat": 4,
 "nbformat_minor": 2
}
