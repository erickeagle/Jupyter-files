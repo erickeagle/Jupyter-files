{
 "cells": [
  {
   "cell_type": "code",
   "execution_count": 4,
   "metadata": {},
   "outputs": [
    {
     "name": "stdout",
     "output_type": "stream",
     "text": [
      "D:/a1.pdf\n",
      "Title: company\n",
      " \n",
      " \n",
      "name: kalash \n",
      " \n",
      " \n",
      "no:1234\n",
      " \n",
      "\n",
      "<re.Match object; span=(6, 7), match=' '>\n"
     ]
    }
   ],
   "source": [
    "import PyPDF2\n",
    "import re\n",
    "\n",
    "enter=input()\n",
    "pdfFileObj = open(enter, 'rb')\n",
    "pdfReader = PyPDF2.PdfFileReader(pdfFileObj)\n",
    "\n",
    "pageObj = pdfReader.getPage(0)\n",
    "\n",
    "# extracting text\n",
    "print(pageObj.extractText())\n",
    "a=pageObj.extractText()\n",
    "\n",
    "i=len(a)\n",
    "r1 = re.search(r\"\\s\",a)\n",
    "print(r1)"
   ]
  },
  {
   "cell_type": "code",
   "execution_count": null,
   "metadata": {},
   "outputs": [],
   "source": []
  }
 ],
 "metadata": {
  "kernelspec": {
   "display_name": "Python 3",
   "language": "python",
   "name": "python3"
  },
  "language_info": {
   "codemirror_mode": {
    "name": "ipython",
    "version": 3
   },
   "file_extension": ".py",
   "mimetype": "text/x-python",
   "name": "python",
   "nbconvert_exporter": "python",
   "pygments_lexer": "ipython3",
   "version": "3.7.3"
  }
 },
 "nbformat": 4,
 "nbformat_minor": 2
}
