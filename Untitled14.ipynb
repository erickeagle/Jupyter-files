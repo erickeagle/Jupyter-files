{
 "cells": [
  {
   "cell_type": "code",
   "execution_count": 2,
   "metadata": {},
   "outputs": [],
   "source": [
    "import pandas as pd\n",
    "import numpy as np\n",
    "\n",
    "import matplotlib as plt"
   ]
  },
  {
   "cell_type": "code",
   "execution_count": 3,
   "metadata": {},
   "outputs": [],
   "source": [
    "### Data(x)-acidity of milk \n",
    "### Data(y)- density of milk"
   ]
  },
  {
   "cell_type": "code",
   "execution_count": 4,
   "metadata": {},
   "outputs": [],
   "source": [
    "def readData(filename):\n",
    "    df=pd.read_csv(filename)\n",
    "    return df.values\n",
    "x=readData('./linearX.csv')\n",
    "y=readData('./linearY.csv')"
   ]
  },
  {
   "cell_type": "code",
   "execution_count": 5,
   "metadata": {},
   "outputs": [
    {
     "name": "stdout",
     "output_type": "stream",
     "text": [
      "[[ 8. ]\n",
      " [ 9.1]\n",
      " [ 8.4]\n",
      " [ 6.9]\n",
      " [ 7.7]\n",
      " [15.6]\n",
      " [ 7.3]\n",
      " [ 7. ]\n",
      " [ 7.2]\n",
      " [10.1]\n",
      " [11.5]\n",
      " [ 7.1]\n",
      " [10. ]\n",
      " [ 8.9]\n",
      " [ 7.9]\n",
      " [ 5.6]\n",
      " [ 6.3]\n",
      " [ 6.7]\n",
      " [10.4]\n",
      " [ 8.5]\n",
      " [ 7.4]\n",
      " [ 6.3]\n",
      " [ 5.4]\n",
      " [ 8.9]\n",
      " [ 9.4]\n",
      " [ 7.5]\n",
      " [11.9]\n",
      " [ 7.8]\n",
      " [ 7.4]\n",
      " [10.8]\n",
      " [10.2]\n",
      " [ 6.2]\n",
      " [ 7.7]\n",
      " [13.7]\n",
      " [ 8. ]\n",
      " [ 6.7]\n",
      " [ 6.7]\n",
      " [ 7. ]\n",
      " [ 8.3]\n",
      " [ 7.4]\n",
      " [ 9.9]\n",
      " [ 6.1]\n",
      " [ 7. ]\n",
      " [ 5.4]\n",
      " [10.7]\n",
      " [ 7.6]\n",
      " [ 8.9]\n",
      " [ 9.2]\n",
      " [ 6.6]\n",
      " [ 7.2]\n",
      " [ 8. ]\n",
      " [ 7.8]\n",
      " [ 7.9]\n",
      " [ 7. ]\n",
      " [ 7. ]\n",
      " [ 7.6]\n",
      " [ 9.1]\n",
      " [ 9. ]\n",
      " [ 7.9]\n",
      " [ 6.6]\n",
      " [11.9]\n",
      " [ 6.5]\n",
      " [ 7.1]\n",
      " [ 8.8]\n",
      " [ 7.5]\n",
      " [ 7.7]\n",
      " [ 6. ]\n",
      " [10.6]\n",
      " [ 6.6]\n",
      " [ 8.2]\n",
      " [ 7.9]\n",
      " [ 7.1]\n",
      " [ 5.6]\n",
      " [ 6.4]\n",
      " [ 7.5]\n",
      " [ 9.8]\n",
      " [ 7. ]\n",
      " [10.5]\n",
      " [ 7.1]\n",
      " [ 6.2]\n",
      " [ 6.5]\n",
      " [ 7.7]\n",
      " [ 7.2]\n",
      " [ 9.3]\n",
      " [ 8.5]\n",
      " [ 7.7]\n",
      " [ 6.8]\n",
      " [ 7.8]\n",
      " [ 8.7]\n",
      " [ 9.6]\n",
      " [ 7.2]\n",
      " [ 9.3]\n",
      " [ 8.1]\n",
      " [ 6.6]\n",
      " [ 7.8]\n",
      " [10.2]\n",
      " [ 6.1]\n",
      " [ 7.3]\n",
      " [ 7.3]]\n",
      "[[0.99007]\n",
      " [0.99769]\n",
      " [0.99386]\n",
      " [0.99508]\n",
      " [0.9963 ]\n",
      " [1.0032 ]\n",
      " [0.99768]\n",
      " [0.99584]\n",
      " [0.99609]\n",
      " [0.99774]\n",
      " [1.0003 ]\n",
      " [0.99694]\n",
      " [0.99965]\n",
      " [0.99549]\n",
      " [0.99364]\n",
      " [0.99378]\n",
      " [0.99379]\n",
      " [0.99524]\n",
      " [0.9988 ]\n",
      " [0.99733]\n",
      " [0.9966 ]\n",
      " [0.9955 ]\n",
      " [0.99471]\n",
      " [0.99354]\n",
      " [0.99786]\n",
      " [0.9965 ]\n",
      " [0.9988 ]\n",
      " [0.9964 ]\n",
      " [0.99713]\n",
      " [0.9985 ]\n",
      " [0.99565]\n",
      " [0.99578]\n",
      " [0.9976 ]\n",
      " [1.0014 ]\n",
      " [0.99685]\n",
      " [0.99648]\n",
      " [0.99472]\n",
      " [0.99914]\n",
      " [0.99408]\n",
      " [0.9974 ]\n",
      " [1.0002 ]\n",
      " [0.99402]\n",
      " [0.9966 ]\n",
      " [0.99402]\n",
      " [1.0029 ]\n",
      " [0.99718]\n",
      " [0.9986 ]\n",
      " [0.9952 ]\n",
      " [0.9952 ]\n",
      " [0.9972 ]\n",
      " [0.9976 ]\n",
      " [0.9968 ]\n",
      " [0.9978 ]\n",
      " [0.9951 ]\n",
      " [0.99629]\n",
      " [0.99656]\n",
      " [0.999  ]\n",
      " [0.99836]\n",
      " [0.99396]\n",
      " [0.99387]\n",
      " [1.0004 ]\n",
      " [0.9972 ]\n",
      " [0.9972 ]\n",
      " [0.99546]\n",
      " [0.9978 ]\n",
      " [0.99596]\n",
      " [0.99572]\n",
      " [0.9992 ]\n",
      " [0.99544]\n",
      " [0.99747]\n",
      " [0.99668]\n",
      " [0.9962 ]\n",
      " [0.99346]\n",
      " [0.99514]\n",
      " [0.99476]\n",
      " [1.001  ]\n",
      " [0.9961 ]\n",
      " [0.99598]\n",
      " [0.99608]\n",
      " [0.9966 ]\n",
      " [0.99732]\n",
      " [0.9962 ]\n",
      " [0.99546]\n",
      " [0.99738]\n",
      " [0.99456]\n",
      " [0.9966 ]\n",
      " [0.99553]\n",
      " [0.9984 ]\n",
      " [0.9952 ]\n",
      " [0.997  ]\n",
      " [0.99586]\n",
      " [0.9984 ]\n",
      " [0.99542]\n",
      " [0.99655]\n",
      " [0.9962 ]\n",
      " [0.9976 ]\n",
      " [0.99464]\n",
      " [0.9983 ]\n",
      " [0.9967 ]]\n"
     ]
    }
   ],
   "source": [
    "print(x)\n",
    "print(y)"
   ]
  },
  {
   "cell_type": "code",
   "execution_count": 6,
   "metadata": {},
   "outputs": [
    {
     "name": "stdout",
     "output_type": "stream",
     "text": [
      "(99, 1)\n",
      "(99, 1)\n"
     ]
    }
   ],
   "source": [
    "print(x.shape)\n",
    "print(y.shape)"
   ]
  },
  {
   "cell_type": "code",
   "execution_count": 7,
   "metadata": {
    "scrolled": true
   },
   "outputs": [
    {
     "name": "stdout",
     "output_type": "stream",
     "text": [
      "[ 8.   9.1  8.4  6.9  7.7 15.6  7.3  7.   7.2 10.1 11.5  7.1 10.   8.9\n",
      "  7.9  5.6  6.3  6.7 10.4  8.5  7.4  6.3  5.4  8.9  9.4  7.5 11.9  7.8\n",
      "  7.4 10.8 10.2  6.2  7.7 13.7  8.   6.7  6.7  7.   8.3  7.4  9.9  6.1\n",
      "  7.   5.4 10.7  7.6  8.9  9.2  6.6  7.2  8.   7.8  7.9  7.   7.   7.6\n",
      "  9.1  9.   7.9  6.6 11.9  6.5  7.1  8.8  7.5  7.7  6.  10.6  6.6  8.2\n",
      "  7.9  7.1  5.6  6.4  7.5  9.8  7.  10.5  7.1  6.2  6.5  7.7  7.2  9.3\n",
      "  8.5  7.7  6.8  7.8  8.7  9.6  7.2  9.3  8.1  6.6  7.8 10.2  6.1  7.3\n",
      "  7.3]\n",
      "[0.99007 0.99769 0.99386 0.99508 0.9963  1.0032  0.99768 0.99584 0.99609\n",
      " 0.99774 1.0003  0.99694 0.99965 0.99549 0.99364 0.99378 0.99379 0.99524\n",
      " 0.9988  0.99733 0.9966  0.9955  0.99471 0.99354 0.99786 0.9965  0.9988\n",
      " 0.9964  0.99713 0.9985  0.99565 0.99578 0.9976  1.0014  0.99685 0.99648\n",
      " 0.99472 0.99914 0.99408 0.9974  1.0002  0.99402 0.9966  0.99402 1.0029\n",
      " 0.99718 0.9986  0.9952  0.9952  0.9972  0.9976  0.9968  0.9978  0.9951\n",
      " 0.99629 0.99656 0.999   0.99836 0.99396 0.99387 1.0004  0.9972  0.9972\n",
      " 0.99546 0.9978  0.99596 0.99572 0.9992  0.99544 0.99747 0.99668 0.9962\n",
      " 0.99346 0.99514 0.99476 1.001   0.9961  0.99598 0.99608 0.9966  0.99732\n",
      " 0.9962  0.99546 0.99738 0.99456 0.9966  0.99553 0.9984  0.9952  0.997\n",
      " 0.99586 0.9984  0.99542 0.99655 0.9962  0.9976  0.99464 0.9983  0.9967 ]\n"
     ]
    }
   ],
   "source": [
    "x=x.reshape((99,))\n",
    "y=y.reshape((99,))\n",
    "print(x)\n",
    "print(y)"
   ]
  },
  {
   "cell_type": "code",
   "execution_count": 8,
   "metadata": {},
   "outputs": [
    {
     "ename": "AttributeError",
     "evalue": "module 'matplotlib' has no attribute 'plot'",
     "output_type": "error",
     "traceback": [
      "\u001b[1;31m---------------------------------------------------------------------------\u001b[0m",
      "\u001b[1;31mAttributeError\u001b[0m                            Traceback (most recent call last)",
      "\u001b[1;32m<ipython-input-8-d8b592bf313e>\u001b[0m in \u001b[0;36m<module>\u001b[1;34m\u001b[0m\n\u001b[1;32m----> 1\u001b[1;33m \u001b[0mplt\u001b[0m\u001b[1;33m.\u001b[0m\u001b[0mplot\u001b[0m\u001b[1;33m(\u001b[0m\u001b[0mx\u001b[0m\u001b[1;33m,\u001b[0m\u001b[0my\u001b[0m\u001b[1;33m)\u001b[0m\u001b[1;33m\u001b[0m\u001b[1;33m\u001b[0m\u001b[0m\n\u001b[0m",
      "\u001b[1;31mAttributeError\u001b[0m: module 'matplotlib' has no attribute 'plot'"
     ]
    }
   ],
   "source": [
    "plt.plot(x,y)"
   ]
  },
  {
   "cell_type": "code",
   "execution_count": 9,
   "metadata": {},
   "outputs": [
    {
     "name": "stdout",
     "output_type": "stream",
     "text": [
      "Collecting matplotlip\n",
      "Note: you may need to restart the kernel to use updated packages.\n"
     ]
    },
    {
     "name": "stderr",
     "output_type": "stream",
     "text": [
      "  Could not find a version that satisfies the requirement matplotlip (from versions: )\n",
      "No matching distribution found for matplotlip\n"
     ]
    }
   ],
   "source": [
    "pip install matplotlip\n"
   ]
  },
  {
   "cell_type": "code",
   "execution_count": 2,
   "metadata": {},
   "outputs": [
    {
     "name": "stdout",
     "output_type": "stream",
     "text": [
      "Note: you may need to restart the kernel to use updated packages.\n"
     ]
    },
    {
     "name": "stderr",
     "output_type": "stream",
     "text": [
      "ERROR: unknown command \"upgrade\"\n",
      "\n"
     ]
    }
   ],
   "source": [
    "pip upgrade"
   ]
  },
  {
   "cell_type": "code",
   "execution_count": 3,
   "metadata": {},
   "outputs": [
    {
     "name": "stdout",
     "output_type": "stream",
     "text": [
      "Note: you may need to restart the kernel to use updated packages.\n"
     ]
    },
    {
     "name": "stderr",
     "output_type": "stream",
     "text": [
      "ERROR: unknown command \"upgrade\"\n",
      "\n"
     ]
    }
   ],
   "source": [
    "pip upgrade matplotlib\n"
   ]
  },
  {
   "cell_type": "code",
   "execution_count": null,
   "metadata": {},
   "outputs": [],
   "source": [
    "pip uninstall matplotlib"
   ]
  },
  {
   "cell_type": "code",
   "execution_count": null,
   "metadata": {},
   "outputs": [],
   "source": [
    "pip install matplotlib"
   ]
  },
  {
   "cell_type": "code",
   "execution_count": null,
   "metadata": {},
   "outputs": [],
   "source": []
  }
 ],
 "metadata": {
  "kernelspec": {
   "display_name": "Python 3",
   "language": "python",
   "name": "python3"
  },
  "language_info": {
   "codemirror_mode": {
    "name": "ipython",
    "version": 3
   },
   "file_extension": ".py",
   "mimetype": "text/x-python",
   "name": "python",
   "nbconvert_exporter": "python",
   "pygments_lexer": "ipython3",
   "version": "3.7.3"
  }
 },
 "nbformat": 4,
 "nbformat_minor": 2
}
