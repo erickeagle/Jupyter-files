{
 "cells": [
  {
   "cell_type": "code",
   "execution_count": 1,
   "metadata": {},
   "outputs": [],
   "source": [
    "\n",
    "import numpy as np\n",
    "import matplotlib.pyplot as plt"
   ]
  },
  {
   "cell_type": "code",
   "execution_count": 2,
   "metadata": {},
   "outputs": [],
   "source": [
    "Physics_std = 5\n",
    "Physics_mean = 80\n",
    "Physics = np.round(np.random.randn(500)*Physics_std + Physics_mean)\n",
    "\n",
    "Maths = np.round(np.random.randn(500)*10 + 40)\n"
   ]
  },
  {
   "cell_type": "code",
   "execution_count": 3,
   "metadata": {},
   "outputs": [
    {
     "name": "stdout",
     "output_type": "stream",
     "text": [
      "[76. 79. 84. 82. 80. 71. 80. 75. 82. 84. 79. 85. 84. 77. 85. 80. 74. 84.\n",
      " 76. 79. 84. 76. 79. 80. 83. 82. 77. 88. 81. 69. 87. 82. 87. 77. 80. 81.\n",
      " 74. 84. 85. 83. 84. 68. 79. 84. 85. 75. 83. 85. 78. 77. 82. 76. 86. 88.\n",
      " 88. 75. 76. 80. 80. 80. 78. 80. 76. 79. 82. 78. 78. 80. 78. 89. 82. 73.\n",
      " 89. 70. 89. 80. 82. 84. 89. 78. 89. 82. 77. 85. 76. 74. 80. 85. 91. 78.\n",
      " 83. 77. 77. 83. 83. 74. 91. 82. 76. 77. 80. 85. 74. 84. 81. 80. 83. 74.\n",
      " 87. 83. 82. 72. 81. 74. 83. 65. 74. 79. 79. 82. 84. 79. 81. 75. 75. 78.\n",
      " 80. 72. 82. 84. 80. 80. 84. 82. 80. 73. 79. 81. 70. 71. 81. 75. 80. 81.\n",
      " 89. 69. 81. 81. 83. 84. 80. 78. 77. 72. 79. 90. 79. 77. 71. 80. 82. 80.\n",
      " 83. 77. 82. 87. 78. 75. 83. 78. 83. 75. 84. 79. 70. 71. 85. 74. 87. 84.\n",
      " 80. 87. 73. 86. 79. 71. 78. 79. 82. 76. 84. 85. 84. 80. 76. 81. 90. 84.\n",
      " 82. 81. 81. 70. 81. 82. 86. 75. 85. 84. 82. 86. 88. 77. 79. 73. 81. 79.\n",
      " 75. 80. 81. 84. 78. 76. 90. 77. 89. 78. 78. 94. 77. 82. 77. 84. 79. 79.\n",
      " 76. 78. 78. 82. 81. 74. 80. 77. 85. 78. 74. 78. 79. 83. 86. 78. 82. 82.\n",
      " 74. 78. 92. 74. 78. 81. 73. 75. 86. 80. 80. 83. 76. 73. 81. 79. 86. 75.\n",
      " 81. 80. 68. 90. 83. 83. 87. 92. 74. 79. 82. 80. 87. 83. 77. 81. 82. 73.\n",
      " 83. 78. 81. 77. 82. 82. 77. 74. 78. 85. 77. 74. 72. 79. 71. 88. 78. 86.\n",
      " 73. 83. 87. 85. 75. 88. 81. 77. 83. 78. 76. 86. 80. 82. 77. 79. 83. 78.\n",
      " 85. 86. 82. 74. 79. 85. 82. 88. 72. 84. 76. 77. 77. 91. 79. 82. 79. 81.\n",
      " 84. 85. 84. 89. 85. 90. 78. 71. 82. 78. 86. 89. 78. 81. 78. 87. 86. 77.\n",
      " 77. 79. 77. 84. 78. 81. 80. 78. 85. 82. 76. 80. 75. 81. 80. 78. 71. 84.\n",
      " 87. 80. 85. 83. 80. 78. 75. 73. 76. 83. 84. 88. 72. 82. 78. 80. 89. 71.\n",
      " 78. 85. 77. 81. 82. 91. 79. 83. 83. 86. 83. 77. 76. 77. 74. 88. 82. 81.\n",
      " 76. 78. 89. 72. 88. 75. 73. 80. 82. 76. 79. 80. 77. 73. 75. 83. 78. 82.\n",
      " 81. 80. 80. 82. 80. 67. 75. 79. 75. 86. 86. 89. 81. 76. 76. 84. 73. 78.\n",
      " 86. 72. 85. 79. 82. 86. 81. 77. 74. 84. 87. 82. 89. 71. 84. 79. 87. 85.\n",
      " 83. 86. 74. 83. 73. 84. 77. 73. 83. 79. 89. 81. 74. 83. 71. 81. 73. 87.\n",
      " 95. 78. 75. 75. 82. 76. 82. 80. 79. 86. 84. 69. 81. 78.]\n",
      "[50. 21. 31. 43. 44. 36. 26. 34. 32. 24. 50. 38. 31. 35. 15. 37. 37. 30.\n",
      " 23. 49. 48. 39. 50. 21. 19. 46. 47. 44. 39. 38. 38. 44. 42. 45. 42. 45.\n",
      " 37. 28. 51. 49. 41. 43. 44. 37. 33. 42. 44. 38. 31. 51. 25. 24. 51. 43.\n",
      " 50. 41. 41. 45. 30. 49. 35. 50. 39. 21. 41. 48. 23. 48. 37. 70. 38. 44.\n",
      " 32. 28. 49. 30. 56. 35. 30. 46. 41. 42. 39. 40. 19. 29. 59. 43. 57. 36.\n",
      " 16. 51. 53. 40. 52. 40. 56. 37. 48. 36. 40. 30. 42. 20. 50. 36. 40. 46.\n",
      " 40. 33. 31. 42. 37. 39. 29. 43. 20. 39. 41. 31. 47. 41. 19. 38. 50. 24.\n",
      " 41. 30. 16. 38. 46. 49. 42. 56. 32. 19. 42. 53. 57. 44. 19. 36. 40. 33.\n",
      " 59. 25. 43. 56. 55. 37. 36. 50. 45. 38. 38. 39. 37. 43. 54. 40. 31. 57.\n",
      " 27. 46. 54. 38. 44. 51. 49. 31. 37. 39. 38. 31. 26. 33. 32. 46. 28. 38.\n",
      " 41. 28. 23. 51. 32. 32. 47. 49. 48. 54. 43. 53. 38. 36. 30. 37. 36. 45.\n",
      " 22. 64. 38. 38. 29. 15. 35. 30. 29. 27. 43. 43. 64. 49. 45. 50. 36. 38.\n",
      " 40. 49. 50. 51. 33. 45. 38. 45. 48. 68. 39. 43. 49. 60. 40. 29. 35. 55.\n",
      " 50. 32. 35. 30. 32. 36. 41. 35. 42. 35. 53. 44. 23. 32. 54. 37. 57. 15.\n",
      " 51. 17. 48. 41. 38. 53. 49. 34. 32. 30. 47. 41. 50. 32. 59. 40. 42. 28.\n",
      " 53. 52. 29. 50. 42. 49. 26. 40. 50. 36. 43. 33. 40. 37. 46. 49. 24. 26.\n",
      " 51. 34. 43. 45. 30. 50. 37. 37. 38. 36. 38. 24. 33. 47. 66. 57. 30. 38.\n",
      " 37. 35. 32. 35. 22. 37. 36. 48. 26. 31. 42. 40. 26. 47. 40. 54. 33. 24.\n",
      " 44. 44. 38. 41. 29. 47. 45. 42. 27. 39. 42. 33. 27. 30. 41. 37. 44. 40.\n",
      " 41. 59. 37. 36. 41. 33. 48. 32. 20. 38. 31. 33. 41. 37. 42. 50. 39. 45.\n",
      " 39. 34. 39. 31. 28. 39. 25. 44. 56. 28. 46. 71. 46. 49. 23. 37. 39. 43.\n",
      " 52. 43. 29. 34. 38. 55. 41. 37. 48. 48. 50. 31. 56. 37. 47. 46. 42. 32.\n",
      " 36. 30. 44. 45. 24. 32. 47. 34. 48. 53. 41.  7. 33. 59. 30. 43. 38. 47.\n",
      " 28. 53. 51. 44. 41. 49. 26. 29. 50. 34. 54. 12. 44. 33. 40. 29. 56. 45.\n",
      " 31. 63. 24. 15. 56. 39. 44. 45. 52. 27. 53. 32. 41. 60. 42. 36. 28. 45.\n",
      " 25. 43. 42. 39. 36. 50. 52. 32. 46. 22. 36. 39. 44. 22. 46. 33. 45. 44.\n",
      " 24. 44. 51. 32. 39. 29. 32. 42. 53. 53. 58. 40. 31. 57. 49. 43. 66. 40.\n",
      " 26. 48. 54. 48. 51. 40. 33. 32. 40. 48. 41. 56. 42. 32.]\n"
     ]
    }
   ],
   "source": [
    "print(Physics)\n",
    "print(Maths)"
   ]
  },
  {
   "cell_type": "code",
   "execution_count": 4,
   "metadata": {},
   "outputs": [
    {
     "data": {
      "image/png": "[encoded data removed]",
      "text/plain": [
       "<Figure size 432x288 with 1 Axes>"
      ]
     },
     "metadata": {
      "needs_background": "light"
     },
     "output_type": "display_data"
    }
   ],
   "source": [
    "plt.hist(Physics)\n",
    "plt.hist(Maths,alpha=0.7)\n",
    "plt.show()"
   ]
  },
  {
   "cell_type": "code",
   "execution_count": 5,
   "metadata": {},
   "outputs": [
    {
     "ename": "SyntaxError",
     "evalue": "invalid syntax (<ipython-input-5-187306a4365f>, line 3)",
     "output_type": "error",
     "traceback": [
      "\u001b[1;36m  File \u001b[1;32m\"<ipython-input-5-187306a4365f>\"\u001b[1;36m, line \u001b[1;32m3\u001b[0m\n\u001b[1;33m    1. Generate a Mini Batch from Generator using Noise-Prior (Ground Truth - 0)\u001b[0m\n\u001b[1;37m              ^\u001b[0m\n\u001b[1;31mSyntaxError\u001b[0m\u001b[1;31m:\u001b[0m invalid syntax\n"
     ]
    }
   ],
   "source": [
    "\n",
    "## GAN Training \n",
    "\n",
    "1. Generate a Mini Batch from Generator using Noise-Prior (Ground Truth - 0)\n",
    "2. Select a Mini Batch form Real Training Data (Ground Truth - 1)\n",
    "3. Train only Discriminator on both batches separately\n",
    "    - Consider Generator as Frozen\n",
    "    \n",
    "4. Train G using random noise as input and 1 as ground truth as 1 for all examples\n",
    "    - Consider Discriminator as Frozen"
   ]
  },
  {
   "cell_type": "code",
   "execution_count": null,
   "metadata": {},
   "outputs": [],
   "source": []
  }
 ],
 "metadata": {
  "kernelspec": {
   "display_name": "Python 3",
   "language": "python",
   "name": "python3"
  },
  "language_info": {
   "codemirror_mode": {
    "name": "ipython",
    "version": 3
   },
   "file_extension": ".py",
   "mimetype": "text/x-python",
   "name": "python",
   "nbconvert_exporter": "python",
   "pygments_lexer": "ipython3",
   "version": "3.7.6"
  }
 },
 "nbformat": 4,
 "nbformat_minor": 4
}
