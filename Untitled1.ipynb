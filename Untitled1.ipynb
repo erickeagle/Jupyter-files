{
 "cells": [
  {
   "cell_type": "code",
   "execution_count": 1,
   "metadata": {},
   "outputs": [
    {
     "name": "stderr",
     "output_type": "stream",
     "text": [
      "Using TensorFlow backend.\n"
     ]
    }
   ],
   "source": [
    "import numpy as np\n",
    "import os \n",
    "from pathlib import Path\n",
    "from keras.preprocessing import image"
   ]
  },
  {
   "cell_type": "code",
   "execution_count": 2,
   "metadata": {},
   "outputs": [],
   "source": [
    "import matplotlib.pyplot as plt"
   ]
  },
  {
   "cell_type": "code",
   "execution_count": 3,
   "metadata": {},
   "outputs": [
    {
     "name": "stdout",
     "output_type": "stream",
     "text": [
      "<generator object Path.glob at 0x000001B092145CC8>\n"
     ]
    }
   ],
   "source": [
    "p = Path(\"K:\\Coding Blocks\\Machine learning\\pokemon classifier\\pokemon_train\")\n",
    "\n",
    "dirs = p.glob(\"*\")\n",
    "print(dirs)"
   ]
  },
  {
   "cell_type": "code",
   "execution_count": 4,
   "metadata": {},
   "outputs": [
    {
     "name": "stdout",
     "output_type": "stream",
     "text": [
      "K:\\Coding Blocks\\Machine learning\\pokemon classifier\\pokemon_train\\Images\n",
      "Image\n"
     ]
    },
    {
     "name": "stderr",
     "output_type": "stream",
     "text": [
      "K:\\Anaconda3\\lib\\site-packages\\PIL\\Image.py:989: UserWarning: Palette images with Transparency expressed in bytes should be converted to RGBA images\n",
      "  \"Palette images with Transparency expressed in bytes should be \"\n"
     ]
    },
    {
     "name": "stdout",
     "output_type": "stream",
     "text": [
      "K:\\Coding Blocks\\Machine learning\\pokemon classifier\\pokemon_train\\pokemon_train.csv\n",
      "pokemon_train.cs\n"
     ]
    }
   ],
   "source": [
    "image_data = []\n",
    "\n",
    "\n",
    "for folder_dir in dirs:\n",
    "    print(folder_dir)\n",
    "    label = str(folder_dir).split(\"\\\\\")[-1][:-1]\n",
    "    print(label)\n",
    "    \n",
    "    for img_path in folder_dir.glob(\"*.jpg\"):\n",
    "        img = image.load_img(img_path,target_size=(100,100))\n",
    "        img_array = image.img_to_array(img)\n",
    "        image_data.append(img_array)\n",
    "        "
   ]
  },
  {
   "cell_type": "code",
   "execution_count": 5,
   "metadata": {},
   "outputs": [],
   "source": [
    "import pandas as pd"
   ]
  },
  {
   "cell_type": "code",
   "execution_count": 6,
   "metadata": {},
   "outputs": [],
   "source": [
    "X_train=pd.read_csv('K:\\Coding Blocks\\Machine learning\\pokemon_train.csv')\n",
    "\n",
    "\n",
    "X_test=pd.read_csv('K:\\Coding Blocks\\Machine learning\\pokemon_test.csv')"
   ]
  },
  {
   "cell_type": "code",
   "execution_count": 7,
   "metadata": {},
   "outputs": [],
   "source": [
    "X_train=X_train['NameOfPokemon']"
   ]
  },
  {
   "cell_type": "code",
   "execution_count": 8,
   "metadata": {},
   "outputs": [],
   "source": [
    "X_train=X_train.values.tolist()\n",
    "\n",
    "\n"
   ]
  },
  {
   "cell_type": "code",
   "execution_count": 9,
   "metadata": {},
   "outputs": [
    {
     "data": {
      "text/plain": [
       "['Pikachu',\n",
       " 'Pikachu',\n",
       " 'Pikachu',\n",
       " 'Pikachu',\n",
       " 'Pikachu',\n",
       " 'Pikachu',\n",
       " 'Pikachu',\n",
       " 'Pikachu',\n",
       " 'Pikachu',\n",
       " 'Pikachu',\n",
       " 'Pikachu',\n",
       " 'Pikachu',\n",
       " 'Pikachu',\n",
       " 'Pikachu',\n",
       " 'Pikachu',\n",
       " 'Pikachu',\n",
       " 'Pikachu',\n",
       " 'Pikachu',\n",
       " 'Pikachu',\n",
       " 'Pikachu',\n",
       " 'Pikachu',\n",
       " 'Pikachu',\n",
       " 'Pikachu',\n",
       " 'Pikachu',\n",
       " 'Pikachu',\n",
       " 'Pikachu',\n",
       " 'Pikachu',\n",
       " 'Pikachu',\n",
       " 'Pikachu',\n",
       " 'Pikachu',\n",
       " 'Pikachu',\n",
       " 'Pikachu',\n",
       " 'Pikachu',\n",
       " 'Pikachu',\n",
       " 'Pikachu',\n",
       " 'Pikachu',\n",
       " 'Pikachu',\n",
       " 'Pikachu',\n",
       " 'Pikachu',\n",
       " 'Pikachu',\n",
       " 'Pikachu',\n",
       " 'Pikachu',\n",
       " 'Pikachu',\n",
       " 'Pikachu',\n",
       " 'Pikachu',\n",
       " 'Pikachu',\n",
       " 'Pikachu',\n",
       " 'Pikachu',\n",
       " 'Pikachu',\n",
       " 'Pikachu',\n",
       " 'Pikachu',\n",
       " 'Pikachu',\n",
       " 'Pikachu',\n",
       " 'Pikachu',\n",
       " 'Pikachu',\n",
       " 'Pikachu',\n",
       " 'Pikachu',\n",
       " 'Pikachu',\n",
       " 'Pikachu',\n",
       " 'Pikachu',\n",
       " 'Pikachu',\n",
       " 'Pikachu',\n",
       " 'Pikachu',\n",
       " 'Pikachu',\n",
       " 'Pikachu',\n",
       " 'Pikachu',\n",
       " 'Pikachu',\n",
       " 'Pikachu',\n",
       " 'Pikachu',\n",
       " 'Pikachu',\n",
       " 'Pikachu',\n",
       " 'Pikachu',\n",
       " 'Pikachu',\n",
       " 'Pikachu',\n",
       " 'Pikachu',\n",
       " 'Pikachu',\n",
       " 'Pikachu',\n",
       " 'Pikachu',\n",
       " 'Pikachu',\n",
       " 'Pikachu',\n",
       " 'Pikachu',\n",
       " 'Pikachu',\n",
       " 'Pikachu',\n",
       " 'Pikachu',\n",
       " 'Pikachu',\n",
       " 'Pikachu',\n",
       " 'Pikachu',\n",
       " 'Pikachu',\n",
       " 'Pikachu',\n",
       " 'Pikachu',\n",
       " 'Pikachu',\n",
       " 'Pikachu',\n",
       " 'Pikachu',\n",
       " 'Pikachu',\n",
       " 'Pikachu',\n",
       " 'Pikachu',\n",
       " 'Pikachu',\n",
       " 'Pikachu',\n",
       " 'Pikachu',\n",
       " 'Pikachu',\n",
       " 'Pikachu',\n",
       " 'Bulbasaur',\n",
       " 'Bulbasaur',\n",
       " 'Bulbasaur',\n",
       " 'Bulbasaur',\n",
       " 'Bulbasaur',\n",
       " 'Bulbasaur',\n",
       " 'Bulbasaur',\n",
       " 'Bulbasaur',\n",
       " 'Bulbasaur',\n",
       " 'Bulbasaur',\n",
       " 'Bulbasaur',\n",
       " 'Bulbasaur',\n",
       " 'Bulbasaur',\n",
       " 'Bulbasaur',\n",
       " 'Bulbasaur',\n",
       " 'Bulbasaur',\n",
       " 'Bulbasaur',\n",
       " 'Bulbasaur',\n",
       " 'Bulbasaur',\n",
       " 'Bulbasaur',\n",
       " 'Bulbasaur',\n",
       " 'Bulbasaur',\n",
       " 'Bulbasaur',\n",
       " 'Bulbasaur',\n",
       " 'Bulbasaur',\n",
       " 'Bulbasaur',\n",
       " 'Bulbasaur',\n",
       " 'Bulbasaur',\n",
       " 'Bulbasaur',\n",
       " 'Bulbasaur',\n",
       " 'Bulbasaur',\n",
       " 'Bulbasaur',\n",
       " 'Bulbasaur',\n",
       " 'Bulbasaur',\n",
       " 'Bulbasaur',\n",
       " 'Bulbasaur',\n",
       " 'Bulbasaur',\n",
       " 'Bulbasaur',\n",
       " 'Bulbasaur',\n",
       " 'Bulbasaur',\n",
       " 'Bulbasaur',\n",
       " 'Bulbasaur',\n",
       " 'Bulbasaur',\n",
       " 'Bulbasaur',\n",
       " 'Bulbasaur',\n",
       " 'Bulbasaur',\n",
       " 'Bulbasaur',\n",
       " 'Bulbasaur',\n",
       " 'Bulbasaur',\n",
       " 'Bulbasaur',\n",
       " 'Bulbasaur',\n",
       " 'Bulbasaur',\n",
       " 'Bulbasaur',\n",
       " 'Bulbasaur',\n",
       " 'Bulbasaur',\n",
       " 'Bulbasaur',\n",
       " 'Bulbasaur',\n",
       " 'Bulbasaur',\n",
       " 'Bulbasaur',\n",
       " 'Bulbasaur',\n",
       " 'Bulbasaur',\n",
       " 'Bulbasaur',\n",
       " 'Bulbasaur',\n",
       " 'Bulbasaur',\n",
       " 'Bulbasaur',\n",
       " 'Bulbasaur',\n",
       " 'Bulbasaur',\n",
       " 'Bulbasaur',\n",
       " 'Bulbasaur',\n",
       " 'Bulbasaur',\n",
       " 'Bulbasaur',\n",
       " 'Bulbasaur',\n",
       " 'Bulbasaur',\n",
       " 'Bulbasaur',\n",
       " 'Bulbasaur',\n",
       " 'Bulbasaur',\n",
       " 'Bulbasaur',\n",
       " 'Bulbasaur',\n",
       " 'Bulbasaur',\n",
       " 'Bulbasaur',\n",
       " 'Bulbasaur',\n",
       " 'Bulbasaur',\n",
       " 'Bulbasaur',\n",
       " 'Bulbasaur',\n",
       " 'Bulbasaur',\n",
       " 'Bulbasaur',\n",
       " 'Bulbasaur',\n",
       " 'Bulbasaur',\n",
       " 'Bulbasaur',\n",
       " 'Bulbasaur',\n",
       " 'Bulbasaur',\n",
       " 'Bulbasaur',\n",
       " 'Bulbasaur',\n",
       " 'Bulbasaur',\n",
       " 'Bulbasaur',\n",
       " 'Bulbasaur',\n",
       " 'Bulbasaur',\n",
       " 'Bulbasaur',\n",
       " 'Bulbasaur',\n",
       " 'Bulbasaur',\n",
       " 'Bulbasaur',\n",
       " 'Charmander',\n",
       " 'Charmander',\n",
       " 'Charmander',\n",
       " 'Charmander',\n",
       " 'Charmander',\n",
       " 'Charmander',\n",
       " 'Charmander',\n",
       " 'Charmander',\n",
       " 'Charmander',\n",
       " 'Charmander',\n",
       " 'Charmander',\n",
       " 'Charmander',\n",
       " 'Charmander',\n",
       " 'Charmander',\n",
       " 'Charmander',\n",
       " 'Charmander',\n",
       " 'Charmander',\n",
       " 'Charmander',\n",
       " 'Charmander',\n",
       " 'Charmander',\n",
       " 'Charmander',\n",
       " 'Charmander',\n",
       " 'Charmander',\n",
       " 'Charmander',\n",
       " 'Charmander',\n",
       " 'Charmander',\n",
       " 'Charmander',\n",
       " 'Charmander',\n",
       " 'Charmander',\n",
       " 'Charmander',\n",
       " 'Charmander',\n",
       " 'Charmander',\n",
       " 'Charmander',\n",
       " 'Charmander',\n",
       " 'Charmander',\n",
       " 'Charmander',\n",
       " 'Charmander',\n",
       " 'Charmander',\n",
       " 'Charmander',\n",
       " 'Charmander',\n",
       " 'Charmander',\n",
       " 'Charmander',\n",
       " 'Charmander',\n",
       " 'Charmander',\n",
       " 'Charmander',\n",
       " 'Charmander',\n",
       " 'Charmander',\n",
       " 'Charmander',\n",
       " 'Charmander',\n",
       " 'Charmander',\n",
       " 'Charmander',\n",
       " 'Charmander',\n",
       " 'Charmander',\n",
       " 'Charmander',\n",
       " 'Charmander',\n",
       " 'Charmander',\n",
       " 'Charmander',\n",
       " 'Charmander',\n",
       " 'Charmander',\n",
       " 'Charmander',\n",
       " 'Charmander',\n",
       " 'Charmander',\n",
       " 'Charmander',\n",
       " 'Charmander',\n",
       " 'Charmander',\n",
       " 'Charmander',\n",
       " 'Charmander',\n",
       " 'Charmander',\n",
       " 'Charmander',\n",
       " 'Charmander',\n",
       " 'Charmander',\n",
       " 'Charmander',\n",
       " 'Charmander',\n",
       " 'Charmander',\n",
       " 'Charmander',\n",
       " 'Charmander',\n",
       " 'Charmander',\n",
       " 'Charmander',\n",
       " 'Charmander',\n",
       " 'Charmander',\n",
       " 'Charmander',\n",
       " 'Charmander',\n",
       " 'Charmander',\n",
       " 'Charmander',\n",
       " 'Charmander',\n",
       " 'Charmander',\n",
       " 'Charmander',\n",
       " 'Charmander',\n",
       " 'Charmander',\n",
       " 'Charmander',\n",
       " 'Charmander',\n",
       " 'Charmander',\n",
       " 'Charmander',\n",
       " 'Charmander',\n",
       " 'Charmander',\n",
       " 'Charmander',\n",
       " 'Charmander',\n",
       " 'Charmander',\n",
       " 'Charmander',\n",
       " 'Charmander',\n",
       " 'Charmander',\n",
       " 'Charmander']"
      ]
     },
     "execution_count": 9,
     "metadata": {},
     "output_type": "execute_result"
    }
   ],
   "source": [
    "X_train"
   ]
  },
  {
   "cell_type": "code",
   "execution_count": 10,
   "metadata": {},
   "outputs": [],
   "source": [
    "for i in range(len(X_train)):\n",
    "    if X_train[i]=='Pikachu':\n",
    "        X_train[i]=0\n",
    "    elif X_train[i]=='Bulbasaur':\n",
    "        X_train[i]=1\n",
    "    else:\n",
    "        X_train[i]=2"
   ]
  },
  {
   "cell_type": "code",
   "execution_count": 11,
   "metadata": {},
   "outputs": [
    {
     "data": {
      "text/plain": [
       "[0,\n",
       " 0,\n",
       " 0,\n",
       " 0,\n",
       " 0,\n",
       " 0,\n",
       " 0,\n",
       " 0,\n",
       " 0,\n",
       " 0,\n",
       " 0,\n",
       " 0,\n",
       " 0,\n",
       " 0,\n",
       " 0,\n",
       " 0,\n",
       " 0,\n",
       " 0,\n",
       " 0,\n",
       " 0,\n",
       " 0,\n",
       " 0,\n",
       " 0,\n",
       " 0,\n",
       " 0,\n",
       " 0,\n",
       " 0,\n",
       " 0,\n",
       " 0,\n",
       " 0,\n",
       " 0,\n",
       " 0,\n",
       " 0,\n",
       " 0,\n",
       " 0,\n",
       " 0,\n",
       " 0,\n",
       " 0,\n",
       " 0,\n",
       " 0,\n",
       " 0,\n",
       " 0,\n",
       " 0,\n",
       " 0,\n",
       " 0,\n",
       " 0,\n",
       " 0,\n",
       " 0,\n",
       " 0,\n",
       " 0,\n",
       " 0,\n",
       " 0,\n",
       " 0,\n",
       " 0,\n",
       " 0,\n",
       " 0,\n",
       " 0,\n",
       " 0,\n",
       " 0,\n",
       " 0,\n",
       " 0,\n",
       " 0,\n",
       " 0,\n",
       " 0,\n",
       " 0,\n",
       " 0,\n",
       " 0,\n",
       " 0,\n",
       " 0,\n",
       " 0,\n",
       " 0,\n",
       " 0,\n",
       " 0,\n",
       " 0,\n",
       " 0,\n",
       " 0,\n",
       " 0,\n",
       " 0,\n",
       " 0,\n",
       " 0,\n",
       " 0,\n",
       " 0,\n",
       " 0,\n",
       " 0,\n",
       " 0,\n",
       " 0,\n",
       " 0,\n",
       " 0,\n",
       " 0,\n",
       " 0,\n",
       " 0,\n",
       " 0,\n",
       " 0,\n",
       " 0,\n",
       " 0,\n",
       " 0,\n",
       " 0,\n",
       " 0,\n",
       " 0,\n",
       " 0,\n",
       " 0,\n",
       " 1,\n",
       " 1,\n",
       " 1,\n",
       " 1,\n",
       " 1,\n",
       " 1,\n",
       " 1,\n",
       " 1,\n",
       " 1,\n",
       " 1,\n",
       " 1,\n",
       " 1,\n",
       " 1,\n",
       " 1,\n",
       " 1,\n",
       " 1,\n",
       " 1,\n",
       " 1,\n",
       " 1,\n",
       " 1,\n",
       " 1,\n",
       " 1,\n",
       " 1,\n",
       " 1,\n",
       " 1,\n",
       " 1,\n",
       " 1,\n",
       " 1,\n",
       " 1,\n",
       " 1,\n",
       " 1,\n",
       " 1,\n",
       " 1,\n",
       " 1,\n",
       " 1,\n",
       " 1,\n",
       " 1,\n",
       " 1,\n",
       " 1,\n",
       " 1,\n",
       " 1,\n",
       " 1,\n",
       " 1,\n",
       " 1,\n",
       " 1,\n",
       " 1,\n",
       " 1,\n",
       " 1,\n",
       " 1,\n",
       " 1,\n",
       " 1,\n",
       " 1,\n",
       " 1,\n",
       " 1,\n",
       " 1,\n",
       " 1,\n",
       " 1,\n",
       " 1,\n",
       " 1,\n",
       " 1,\n",
       " 1,\n",
       " 1,\n",
       " 1,\n",
       " 1,\n",
       " 1,\n",
       " 1,\n",
       " 1,\n",
       " 1,\n",
       " 1,\n",
       " 1,\n",
       " 1,\n",
       " 1,\n",
       " 1,\n",
       " 1,\n",
       " 1,\n",
       " 1,\n",
       " 1,\n",
       " 1,\n",
       " 1,\n",
       " 1,\n",
       " 1,\n",
       " 1,\n",
       " 1,\n",
       " 1,\n",
       " 1,\n",
       " 1,\n",
       " 1,\n",
       " 1,\n",
       " 1,\n",
       " 1,\n",
       " 1,\n",
       " 1,\n",
       " 1,\n",
       " 1,\n",
       " 1,\n",
       " 1,\n",
       " 1,\n",
       " 1,\n",
       " 1,\n",
       " 1,\n",
       " 1,\n",
       " 2,\n",
       " 2,\n",
       " 2,\n",
       " 2,\n",
       " 2,\n",
       " 2,\n",
       " 2,\n",
       " 2,\n",
       " 2,\n",
       " 2,\n",
       " 2,\n",
       " 2,\n",
       " 2,\n",
       " 2,\n",
       " 2,\n",
       " 2,\n",
       " 2,\n",
       " 2,\n",
       " 2,\n",
       " 2,\n",
       " 2,\n",
       " 2,\n",
       " 2,\n",
       " 2,\n",
       " 2,\n",
       " 2,\n",
       " 2,\n",
       " 2,\n",
       " 2,\n",
       " 2,\n",
       " 2,\n",
       " 2,\n",
       " 2,\n",
       " 2,\n",
       " 2,\n",
       " 2,\n",
       " 2,\n",
       " 2,\n",
       " 2,\n",
       " 2,\n",
       " 2,\n",
       " 2,\n",
       " 2,\n",
       " 2,\n",
       " 2,\n",
       " 2,\n",
       " 2,\n",
       " 2,\n",
       " 2,\n",
       " 2,\n",
       " 2,\n",
       " 2,\n",
       " 2,\n",
       " 2,\n",
       " 2,\n",
       " 2,\n",
       " 2,\n",
       " 2,\n",
       " 2,\n",
       " 2,\n",
       " 2,\n",
       " 2,\n",
       " 2,\n",
       " 2,\n",
       " 2,\n",
       " 2,\n",
       " 2,\n",
       " 2,\n",
       " 2,\n",
       " 2,\n",
       " 2,\n",
       " 2,\n",
       " 2,\n",
       " 2,\n",
       " 2,\n",
       " 2,\n",
       " 2,\n",
       " 2,\n",
       " 2,\n",
       " 2,\n",
       " 2,\n",
       " 2,\n",
       " 2,\n",
       " 2,\n",
       " 2,\n",
       " 2,\n",
       " 2,\n",
       " 2,\n",
       " 2,\n",
       " 2,\n",
       " 2,\n",
       " 2,\n",
       " 2,\n",
       " 2,\n",
       " 2,\n",
       " 2,\n",
       " 2,\n",
       " 2,\n",
       " 2,\n",
       " 2,\n",
       " 2,\n",
       " 2]"
      ]
     },
     "execution_count": 11,
     "metadata": {},
     "output_type": "execute_result"
    }
   ],
   "source": [
    "X_train"
   ]
  },
  {
   "cell_type": "code",
   "execution_count": 12,
   "metadata": {},
   "outputs": [],
   "source": [
    "labels=X_train"
   ]
  },
  {
   "cell_type": "code",
   "execution_count": 13,
   "metadata": {},
   "outputs": [
    {
     "name": "stdout",
     "output_type": "stream",
     "text": [
      "(304, 100, 100, 3) (304,)\n"
     ]
    }
   ],
   "source": [
    "# Convert this into numpy array\n",
    "image_data = np.array(image_data,dtype='float32')/255.0\n",
    "labels = np.array(labels)\n",
    "\n",
    "print(image_data.shape,labels.shape)"
   ]
  },
  {
   "cell_type": "code",
   "execution_count": 14,
   "metadata": {},
   "outputs": [],
   "source": [
    "import random\n",
    "\n",
    "combined = list(zip(image_data,labels))\n",
    "random.shuffle(combined)\n",
    "\n",
    "#Unzip\n",
    "image_data[:],labels[:] = zip(*combined)"
   ]
  },
  {
   "cell_type": "code",
   "execution_count": 15,
   "metadata": {},
   "outputs": [
    {
     "data": {
      "image/png": "[encoded data removed]",
      "text/plain": [
       "<Figure size 432x288 with 1 Axes>"
      ]
     },
     "metadata": {
      "needs_background": "light"
     },
     "output_type": "display_data"
    },
    {
     "data": {
      "image/png": "[encoded data removed]",
      "text/plain": [
       "<Figure size 432x288 with 1 Axes>"
      ]
     },
     "metadata": {
      "needs_background": "light"
     },
     "output_type": "display_data"
    },
    {
     "data": {
      "image/png": "[encoded data removed]",
      "text/plain": [
       "<Figure size 432x288 with 1 Axes>"
      ]
     },
     "metadata": {
      "needs_background": "light"
     },
     "output_type": "display_data"
    },
    {
     "data": {
      "image/png": "[encoded data removed]",
      "text/plain": [
       "<Figure size 432x288 with 1 Axes>"
      ]
     },
     "metadata": {
      "needs_background": "light"
     },
     "output_type": "display_data"
    },
    {
     "data": {
      "image/png": "[encoded data removed]",
      "text/plain": [
       "<Figure size 432x288 with 1 Axes>"
      ]
     },
     "metadata": {
      "needs_background": "light"
     },
     "output_type": "display_data"
    },
    {
     "data": {
      "image/png": "[encoded data removed]",
      "text/plain": [
       "<Figure size 432x288 with 1 Axes>"
      ]
     },
     "metadata": {
      "needs_background": "light"
     },
     "output_type": "display_data"
    },
    {
     "data": {
      "image/png": "[encoded data removed]",
      "text/plain": [
       "<Figure size 432x288 with 1 Axes>"
      ]
     },
     "metadata": {
      "needs_background": "light"
     },
     "output_type": "display_data"
    },
    {
     "data": {
      "image/png": "[encoded data removed]",
      "text/plain": [
       "<Figure size 432x288 with 1 Axes>"
      ]
     },
     "metadata": {
      "needs_background": "light"
     },
     "output_type": "display_data"
    },
    {
     "data": {
      "image/png": "[encoded data removed]",
      "text/plain": [
       "<Figure size 432x288 with 1 Axes>"
      ]
     },
     "metadata": {
      "needs_background": "light"
     },
     "output_type": "display_data"
    },
    {
     "data": {
      "image/png": "[encoded data removed]",
      "text/plain": [
       "<Figure size 432x288 with 1 Axes>"
      ]
     },
     "metadata": {
      "needs_background": "light"
     },
     "output_type": "display_data"
    }
   ],
   "source": [
    "from matplotlib import pyplot as plt\n",
    "\n",
    "def drawImg(img):\n",
    "    plt.imshow(img)\n",
    "    plt.axis(\"off\")\n",
    "    plt.show()    \n",
    "    return \n",
    "\n",
    "for i in range(10):\n",
    "    drawImg(image_data[i])"
   ]
  },
  {
   "cell_type": "code",
   "execution_count": 16,
   "metadata": {},
   "outputs": [],
   "source": [
    "class SVM:\n",
    "    \"\"\"SVM Class, Author : Prateek Narang\"\"\"\n",
    "    def __init__(self,C=1.0):\n",
    "        self.C = C\n",
    "        self.W = 0\n",
    "        self.b = 0\n",
    "        \n",
    "    def hingeLoss(self,W,b,X,Y):\n",
    "        loss  = 0.0\n",
    "        \n",
    "        loss += .5*np.dot(W,W.T)\n",
    "        \n",
    "        m = X.shape[0]\n",
    "        \n",
    "        for i in range(m):\n",
    "            ti = Y[i]*(np.dot(W,X[i].T)+b)\n",
    "            loss += self.C *max(0,(1-ti))\n",
    "            \n",
    "        return loss[0][0]\n",
    "    \n",
    "    def fit(self,X,Y,batch_size=50,learning_rate=0.001,maxItr=500):\n",
    "        \n",
    "        no_of_features = X.shape[1]\n",
    "        no_of_samples = X.shape[0]\n",
    "        \n",
    "        n = learning_rate\n",
    "        c = self.C\n",
    "        \n",
    "        #Init the model parameters\n",
    "        W = np.zeros((1,no_of_features))\n",
    "        bias = 0\n",
    "        \n",
    "        #Initial Loss\n",
    "        \n",
    "        #Training from here...\n",
    "        # Weight and Bias update rule that we discussed!\n",
    "        losses = []\n",
    "        \n",
    "        for i in range(maxItr):\n",
    "            #Training Loop\n",
    "            \n",
    "            l = self.hingeLoss(W,bias,X,Y)\n",
    "            losses.append(l)\n",
    "            ids = np.arange(no_of_samples)\n",
    "            np.random.shuffle(ids)\n",
    "            \n",
    "            #Batch Gradient Descent(Paper) with random shuffling\n",
    "            for batch_start in range(0,no_of_samples,batch_size):\n",
    "                #Assume 0 gradient for the batch\n",
    "                gradw = 0\n",
    "                gradb = 0\n",
    "                \n",
    "                #Iterate over all examples in the mini batch\n",
    "                for j in range(batch_start,batch_start+batch_size):\n",
    "                    if j<no_of_samples:\n",
    "                        i = ids[j]\n",
    "                        ti =  Y[i]*(np.dot(W,X[i].T)+bias)\n",
    "                        \n",
    "                        if ti>1:\n",
    "                            gradw += 0\n",
    "                            gradb += 0\n",
    "                        else:\n",
    "                            gradw += c*Y[i]*X[i]\n",
    "                            gradb += c*Y[i]\n",
    "                            \n",
    "                #Gradient for the batch is ready! Update W,B\n",
    "                W = W - n*W + n*gradw\n",
    "                bias = bias + n*gradb\n",
    "                \n",
    "        \n",
    "        self.W = W\n",
    "        self.b = bias\n",
    "        return W,bias,losses"
   ]
  },
  {
   "cell_type": "code",
   "execution_count": 17,
   "metadata": {},
   "outputs": [
    {
     "name": "stdout",
     "output_type": "stream",
     "text": [
      "(304, 30000)\n",
      "(304,)\n"
     ]
    }
   ],
   "source": [
    "M = image_data.shape[0] \n",
    "image_data = image_data.reshape(M,-1)\n",
    "print(image_data.shape)\n",
    "print(labels.shape)"
   ]
  },
  {
   "cell_type": "code",
   "execution_count": 18,
   "metadata": {},
   "outputs": [
    {
     "name": "stdout",
     "output_type": "stream",
     "text": [
      "3\n"
     ]
    }
   ],
   "source": [
    "CLASSES = len(np.unique(labels))\n",
    "print(CLASSES)"
   ]
  },
  {
   "cell_type": "code",
   "execution_count": 19,
   "metadata": {},
   "outputs": [],
   "source": [
    "def classWiseData(x,y):\n",
    "    data = {}\n",
    "    \n",
    "    for i in range(CLASSES):\n",
    "        data[i] = []\n",
    "        \n",
    "    for i in range(x.shape[0]):\n",
    "        data[y[i]].append(x[i])\n",
    "    \n",
    "    for k in data.keys():\n",
    "        data[k] = np.array(data[k])\n",
    "        \n",
    "    return data"
   ]
  },
  {
   "cell_type": "code",
   "execution_count": 20,
   "metadata": {},
   "outputs": [],
   "source": [
    "data = classWiseData(image_data,labels)"
   ]
  },
  {
   "cell_type": "code",
   "execution_count": 21,
   "metadata": {},
   "outputs": [],
   "source": [
    "def getDataPairForSVM(d1,d2):\n",
    "    \"\"\"Combines Data of two classes into a signle matrix\"\"\"\n",
    "    \n",
    "    l1,l2 = d1.shape[0],d2.shape[0]\n",
    "    \n",
    "    samples = l1+l2\n",
    "    features = d1.shape[1]\n",
    "    \n",
    "    data_pair = np.zeros((samples,features))\n",
    "    data_labels = np.zeros((samples,))\n",
    "    \n",
    "    data_pair[:l1,:] = d1\n",
    "    data_pair[l1:,:] = d2\n",
    "    \n",
    "    data_labels[:l1] = -1\n",
    "    data_labels[l1:] = +1\n",
    "    \n",
    "    return data_pair,data_labels"
   ]
  },
  {
   "cell_type": "code",
   "execution_count": 22,
   "metadata": {},
   "outputs": [
    {
     "data": {
      "text/plain": [
       "[<matplotlib.lines.Line2D at 0x1b095fda6c8>]"
      ]
     },
     "execution_count": 22,
     "metadata": {},
     "output_type": "execute_result"
    },
    {
     "data": {
      "image/png": "[encoded data removed]",
      "text/plain": [
       "<Figure size 432x288 with 1 Axes>"
      ]
     },
     "metadata": {
      "needs_background": "light"
     },
     "output_type": "display_data"
    }
   ],
   "source": [
    "mySVM  = SVM()\n",
    "xp, yp  = getDataPairForSVM(data[0],data[1])\n",
    "w,b,loss  = mySVM.fit(xp,yp,learning_rate=0.0001,maxItr=1000)\n",
    "#print(loss)\n",
    "plt.plot(loss)"
   ]
  },
  {
   "cell_type": "code",
   "execution_count": 23,
   "metadata": {},
   "outputs": [],
   "source": [
    "def trainSVMs(x,y):\n",
    "    \n",
    "    svm_classifiers = {}\n",
    "    for i in range(CLASSES):\n",
    "        svm_classifiers[i] = {}\n",
    "        for j in range(i+1,CLASSES):\n",
    "            xpair,ypair = getDataPairForSVM(data[i],data[j])\n",
    "            wts,b,loss = mySVM.fit(xpair,ypair,learning_rate=0.0001,maxItr=1000)\n",
    "            svm_classifiers[i][j] = (wts,b)\n",
    "            \n",
    "            plt.plot(loss)\n",
    "            plt.show()\n",
    "            \n",
    "    \n",
    "    return svm_classifiers"
   ]
  },
  {
   "cell_type": "code",
   "execution_count": 24,
   "metadata": {},
   "outputs": [
    {
     "data": {
      "image/png": "[encoded data removed]",
      "text/plain": [
       "<Figure size 432x288 with 1 Axes>"
      ]
     },
     "metadata": {
      "needs_background": "light"
     },
     "output_type": "display_data"
    },
    {
     "data": {
      "image/png": "[encoded data removed]",
      "text/plain": [
       "<Figure size 432x288 with 1 Axes>"
      ]
     },
     "metadata": {
      "needs_background": "light"
     },
     "output_type": "display_data"
    },
    {
     "data": {
      "image/png": "[encoded data removed]",
      "text/plain": [
       "<Figure size 432x288 with 1 Axes>"
      ]
     },
     "metadata": {
      "needs_background": "light"
     },
     "output_type": "display_data"
    }
   ],
   "source": [
    "svm_classifiers = trainSVMs(image_data,labels)\n"
   ]
  },
  {
   "cell_type": "code",
   "execution_count": 25,
   "metadata": {},
   "outputs": [],
   "source": [
    "def binaryPredict(x,w,b):\n",
    "    z  = np.dot(x,w.T) + b\n",
    "    if z>=0:\n",
    "        return 1\n",
    "    else:\n",
    "        return -1"
   ]
  },
  {
   "cell_type": "code",
   "execution_count": 26,
   "metadata": {},
   "outputs": [],
   "source": [
    "def predict(x):\n",
    "    \n",
    "    count = np.zeros((CLASSES,))\n",
    "    \n",
    "    for i in range(CLASSES):\n",
    "        for j in range(i+1,CLASSES):\n",
    "            w,b = svm_classifiers[i][j]\n",
    "            #Take a majority prediction \n",
    "            z = binaryPredict(x,w,b)\n",
    "            \n",
    "            if(z==1):\n",
    "                count[j] += 1\n",
    "            else:\n",
    "                count[i] += 1\n",
    "    \n",
    "    final_prediction = np.argmax(count)\n",
    "    #print(count)\n",
    "    return final_prediction"
   ]
  },
  {
   "cell_type": "code",
   "execution_count": 27,
   "metadata": {},
   "outputs": [
    {
     "name": "stdout",
     "output_type": "stream",
     "text": [
      "0\n",
      "1\n"
     ]
    }
   ],
   "source": [
    "print(predict(image_data[0]))\n",
    "print(labels[0])"
   ]
  },
  {
   "cell_type": "code",
   "execution_count": 28,
   "metadata": {},
   "outputs": [],
   "source": [
    "def accuracy(x,y):\n",
    "    \n",
    "    count = 0\n",
    "    for i in range(x.shape[0]):\n",
    "        prediction = predict(x[i])\n",
    "        if(prediction==y[i]):\n",
    "            count += 1\n",
    "            \n",
    "    return count/x.shape[0]"
   ]
  },
  {
   "cell_type": "code",
   "execution_count": 29,
   "metadata": {},
   "outputs": [
    {
     "data": {
      "text/plain": [
       "0.6513157894736842"
      ]
     },
     "execution_count": 29,
     "metadata": {},
     "output_type": "execute_result"
    }
   ],
   "source": [
    "accuracy(image_data,labels)"
   ]
  },
  {
   "cell_type": "code",
   "execution_count": 30,
   "metadata": {},
   "outputs": [],
   "source": [
    "from sklearn import svm"
   ]
  },
  {
   "cell_type": "code",
   "execution_count": 31,
   "metadata": {},
   "outputs": [],
   "source": [
    "svm_classifier = svm.SVC(kernel='linear',C=1.0)"
   ]
  },
  {
   "cell_type": "code",
   "execution_count": 32,
   "metadata": {},
   "outputs": [
    {
     "data": {
      "text/plain": [
       "0.7039473684210527"
      ]
     },
     "execution_count": 32,
     "metadata": {},
     "output_type": "execute_result"
    }
   ],
   "source": [
    "\n",
    "svm_classifier.fit(image_data,labels)\n",
    "svm_classifier.score(image_data,labels)"
   ]
  },
  {
   "cell_type": "code",
   "execution_count": 38,
   "metadata": {},
   "outputs": [],
   "source": [
    "X_test=X_test.values.tolist()"
   ]
  },
  {
   "cell_type": "code",
   "execution_count": 39,
   "metadata": {},
   "outputs": [
    {
     "data": {
      "text/plain": [
       "[['1106.jpg'],\n",
       " ['2236.jpg'],\n",
       " ['1131.jpg'],\n",
       " ['2221.jpg'],\n",
       " ['2011.jpg'],\n",
       " ['2030.jpg'],\n",
       " ['2035.jpg'],\n",
       " ['1110.jpg'],\n",
       " ['1104.jpg'],\n",
       " ['2217.jpg'],\n",
       " ['1111.jpg'],\n",
       " ['1100.jpg'],\n",
       " ['1112.jpg'],\n",
       " ['1138.jpg'],\n",
       " ['2238.jpg'],\n",
       " ['2009.jpg'],\n",
       " ['2225.jpg'],\n",
       " ['2240.jpg'],\n",
       " ['2020.jpg'],\n",
       " ['2209.jpg'],\n",
       " ['2029.jpg'],\n",
       " ['1114.jpg'],\n",
       " ['2201.jpg'],\n",
       " ['1118.jpg'],\n",
       " ['2025.jpg'],\n",
       " ['2202.jpg'],\n",
       " ['1117.jpg'],\n",
       " ['1119.jpg'],\n",
       " ['2000.jpg'],\n",
       " ['2007.jpg'],\n",
       " ['2039.jpg'],\n",
       " ['2017.jpg'],\n",
       " ['2215.jpg'],\n",
       " ['1120.jpg'],\n",
       " ['2006.jpg'],\n",
       " ['1116.jpg'],\n",
       " ['1128.jpg'],\n",
       " ['1125.jpg'],\n",
       " ['2203.jpg'],\n",
       " ['1133.jpg'],\n",
       " ['1137.jpg'],\n",
       " ['2220.jpg'],\n",
       " ['2012.jpg'],\n",
       " ['2224.jpg'],\n",
       " ['2206.jpg'],\n",
       " ['1122.jpg'],\n",
       " ['2223.jpg'],\n",
       " ['1102.jpg'],\n",
       " ['2234.jpg'],\n",
       " ['2216.jpg'],\n",
       " ['2016.jpg'],\n",
       " ['2227.jpg'],\n",
       " ['2013.jpg'],\n",
       " ['1113.jpg'],\n",
       " ['2204.jpg'],\n",
       " ['1101.jpg'],\n",
       " ['2208.jpg'],\n",
       " ['2024.jpg'],\n",
       " ['2031.jpg'],\n",
       " ['2222.jpg'],\n",
       " ['2211.jpg'],\n",
       " ['2033.jpg'],\n",
       " ['2213.jpg'],\n",
       " ['2231.jpg'],\n",
       " ['2001.jpg'],\n",
       " ['2040.jpg'],\n",
       " ['1127.jpg'],\n",
       " ['2023.jpg'],\n",
       " ['2015.jpg'],\n",
       " ['1121.jpg'],\n",
       " ['2232.jpg'],\n",
       " ['1139.jpg'],\n",
       " ['1103.jpg'],\n",
       " ['2018.jpg'],\n",
       " ['2233.jpg'],\n",
       " ['2212.jpg'],\n",
       " ['2210.jpg'],\n",
       " ['2228.jpg'],\n",
       " ['2026.jpg'],\n",
       " ['1132.jpg'],\n",
       " ['2003.jpg'],\n",
       " ['1129.jpg'],\n",
       " ['2214.jpg'],\n",
       " ['1123.jpg'],\n",
       " ['2004.jpg'],\n",
       " ['1136.jpg'],\n",
       " ['1140.jpg'],\n",
       " ['2226.jpg'],\n",
       " ['2230.jpg'],\n",
       " ['1135.jpg'],\n",
       " ['1105.jpg'],\n",
       " ['2237.jpg'],\n",
       " ['1109.jpg'],\n",
       " ['2022.jpg'],\n",
       " ['2005.jpg'],\n",
       " ['2218.jpg'],\n",
       " ['2036.jpg'],\n",
       " ['1115.jpg'],\n",
       " ['2032.jpg'],\n",
       " ['2200.jpg'],\n",
       " ['1134.jpg'],\n",
       " ['1130.jpg'],\n",
       " ['1107.jpg'],\n",
       " ['2034.jpg'],\n",
       " ['2205.jpg'],\n",
       " ['2008.jpg'],\n",
       " ['2027.jpg'],\n",
       " ['2028.jpg'],\n",
       " ['2239.jpg'],\n",
       " ['1108.jpg'],\n",
       " ['2010.jpg'],\n",
       " ['2229.jpg'],\n",
       " ['2219.jpg'],\n",
       " ['2019.jpg'],\n",
       " ['2207.jpg'],\n",
       " ['2002.jpg'],\n",
       " ['2037.jpg'],\n",
       " ['2038.jpg'],\n",
       " ['1124.jpg'],\n",
       " ['2014.jpg'],\n",
       " ['2235.jpg'],\n",
       " ['1126.jpg'],\n",
       " ['2021.jpg']]"
      ]
     },
     "execution_count": 39,
     "metadata": {},
     "output_type": "execute_result"
    }
   ],
   "source": [
    "X_test"
   ]
  },
  {
   "cell_type": "code",
   "execution_count": 40,
   "metadata": {},
   "outputs": [],
   "source": [
    "x_test_new=[]\n",
    "\n",
    "def reemovNestings(l): \n",
    "    for i in l: \n",
    "        if type(i) == list: \n",
    "            reemovNestings(i) \n",
    "        else: \n",
    "            x_test_new.append(i)"
   ]
  },
  {
   "cell_type": "code",
   "execution_count": 41,
   "metadata": {},
   "outputs": [],
   "source": [
    "reemovNestings(X_test)"
   ]
  },
  {
   "cell_type": "code",
   "execution_count": 42,
   "metadata": {},
   "outputs": [
    {
     "data": {
      "text/plain": [
       "['1106.jpg',\n",
       " '2236.jpg',\n",
       " '1131.jpg',\n",
       " '2221.jpg',\n",
       " '2011.jpg',\n",
       " '2030.jpg',\n",
       " '2035.jpg',\n",
       " '1110.jpg',\n",
       " '1104.jpg',\n",
       " '2217.jpg',\n",
       " '1111.jpg',\n",
       " '1100.jpg',\n",
       " '1112.jpg',\n",
       " '1138.jpg',\n",
       " '2238.jpg',\n",
       " '2009.jpg',\n",
       " '2225.jpg',\n",
       " '2240.jpg',\n",
       " '2020.jpg',\n",
       " '2209.jpg',\n",
       " '2029.jpg',\n",
       " '1114.jpg',\n",
       " '2201.jpg',\n",
       " '1118.jpg',\n",
       " '2025.jpg',\n",
       " '2202.jpg',\n",
       " '1117.jpg',\n",
       " '1119.jpg',\n",
       " '2000.jpg',\n",
       " '2007.jpg',\n",
       " '2039.jpg',\n",
       " '2017.jpg',\n",
       " '2215.jpg',\n",
       " '1120.jpg',\n",
       " '2006.jpg',\n",
       " '1116.jpg',\n",
       " '1128.jpg',\n",
       " '1125.jpg',\n",
       " '2203.jpg',\n",
       " '1133.jpg',\n",
       " '1137.jpg',\n",
       " '2220.jpg',\n",
       " '2012.jpg',\n",
       " '2224.jpg',\n",
       " '2206.jpg',\n",
       " '1122.jpg',\n",
       " '2223.jpg',\n",
       " '1102.jpg',\n",
       " '2234.jpg',\n",
       " '2216.jpg',\n",
       " '2016.jpg',\n",
       " '2227.jpg',\n",
       " '2013.jpg',\n",
       " '1113.jpg',\n",
       " '2204.jpg',\n",
       " '1101.jpg',\n",
       " '2208.jpg',\n",
       " '2024.jpg',\n",
       " '2031.jpg',\n",
       " '2222.jpg',\n",
       " '2211.jpg',\n",
       " '2033.jpg',\n",
       " '2213.jpg',\n",
       " '2231.jpg',\n",
       " '2001.jpg',\n",
       " '2040.jpg',\n",
       " '1127.jpg',\n",
       " '2023.jpg',\n",
       " '2015.jpg',\n",
       " '1121.jpg',\n",
       " '2232.jpg',\n",
       " '1139.jpg',\n",
       " '1103.jpg',\n",
       " '2018.jpg',\n",
       " '2233.jpg',\n",
       " '2212.jpg',\n",
       " '2210.jpg',\n",
       " '2228.jpg',\n",
       " '2026.jpg',\n",
       " '1132.jpg',\n",
       " '2003.jpg',\n",
       " '1129.jpg',\n",
       " '2214.jpg',\n",
       " '1123.jpg',\n",
       " '2004.jpg',\n",
       " '1136.jpg',\n",
       " '1140.jpg',\n",
       " '2226.jpg',\n",
       " '2230.jpg',\n",
       " '1135.jpg',\n",
       " '1105.jpg',\n",
       " '2237.jpg',\n",
       " '1109.jpg',\n",
       " '2022.jpg',\n",
       " '2005.jpg',\n",
       " '2218.jpg',\n",
       " '2036.jpg',\n",
       " '1115.jpg',\n",
       " '2032.jpg',\n",
       " '2200.jpg',\n",
       " '1134.jpg',\n",
       " '1130.jpg',\n",
       " '1107.jpg',\n",
       " '2034.jpg',\n",
       " '2205.jpg',\n",
       " '2008.jpg',\n",
       " '2027.jpg',\n",
       " '2028.jpg',\n",
       " '2239.jpg',\n",
       " '1108.jpg',\n",
       " '2010.jpg',\n",
       " '2229.jpg',\n",
       " '2219.jpg',\n",
       " '2019.jpg',\n",
       " '2207.jpg',\n",
       " '2002.jpg',\n",
       " '2037.jpg',\n",
       " '2038.jpg',\n",
       " '1124.jpg',\n",
       " '2014.jpg',\n",
       " '2235.jpg',\n",
       " '1126.jpg',\n",
       " '2021.jpg']"
      ]
     },
     "execution_count": 42,
     "metadata": {},
     "output_type": "execute_result"
    }
   ],
   "source": [
    "len(x_test_new"
   ]
  },
  {
   "cell_type": "code",
   "execution_count": 50,
   "metadata": {},
   "outputs": [],
   "source": [
    "image_data1 = []\n",
    "for i in range(len(x_test_new)):\n",
    "    p1 = Path(\"K:/Coding Blocks/Machine learning/pokemon classifier/pokemon_test/Images/\"+ x_test_new[i])\n",
    "   # print(p1)\n",
    "    label1 = str(p1).split(\"\\\\\")[-1]\n",
    "    #print(label1)\n",
    "    img1 = image.load_img(p1,target_size=(100,100))\n",
    "    img_array1 = image.img_to_array(img1)\n",
    "    image_data1.append(img_array1)"
   ]
  },
  {
   "cell_type": "code",
   "execution_count": 59,
   "metadata": {},
   "outputs": [
    {
     "data": {
      "text/plain": [
       "123"
      ]
     },
     "execution_count": 59,
     "metadata": {},
     "output_type": "execute_result"
    }
   ],
   "source": [
    "len(image_data1)"
   ]
  },
  {
   "cell_type": "code",
   "execution_count": 52,
   "metadata": {},
   "outputs": [
    {
     "name": "stdout",
     "output_type": "stream",
     "text": [
      "(123, 100, 100, 3)\n"
     ]
    }
   ],
   "source": [
    "image_data1 = np.array(image_data1,dtype='float32')/255.0\n",
    "\n",
    "\n",
    "print(image_data1.shape)"
   ]
  },
  {
   "cell_type": "code",
   "execution_count": 54,
   "metadata": {},
   "outputs": [
    {
     "name": "stdout",
     "output_type": "stream",
     "text": [
      "(123, 30000)\n"
     ]
    }
   ],
   "source": [
    "M1 = image_data1.shape[0] \n",
    "image_data1 = image_data1.reshape(M1,-1)\n",
    "print(image_data1.shape)"
   ]
  },
  {
   "cell_type": "code",
   "execution_count": 77,
   "metadata": {},
   "outputs": [
    {
     "name": "stdout",
     "output_type": "stream",
     "text": [
      "Pikachu\n",
      "Charmander\n",
      "Pikachu\n",
      "Charmander\n",
      "Charmander\n",
      "Pikachu\n",
      "Charmander\n",
      "Bulbasaur\n",
      "Pikachu\n",
      "Pikachu\n",
      "Bulbasaur\n",
      "Pikachu\n",
      "Pikachu\n",
      "Bulbasaur\n",
      "Charmander\n",
      "Charmander\n",
      "Charmander\n",
      "Charmander\n",
      "Pikachu\n",
      "Charmander\n",
      "Charmander\n",
      "Bulbasaur\n",
      "Charmander\n",
      "Pikachu\n",
      "Charmander\n",
      "Charmander\n",
      "Pikachu\n",
      "Pikachu\n",
      "Pikachu\n",
      "Pikachu\n",
      "Pikachu\n",
      "Pikachu\n",
      "Charmander\n",
      "Pikachu\n",
      "Pikachu\n",
      "Pikachu\n",
      "Pikachu\n",
      "Pikachu\n",
      "Charmander\n",
      "Bulbasaur\n",
      "Pikachu\n",
      "Pikachu\n",
      "Pikachu\n",
      "Charmander\n",
      "Charmander\n",
      "Pikachu\n",
      "Charmander\n",
      "Bulbasaur\n",
      "Charmander\n",
      "Pikachu\n",
      "Pikachu\n",
      "Charmander\n",
      "Pikachu\n",
      "Pikachu\n",
      "Charmander\n",
      "Bulbasaur\n",
      "Charmander\n",
      "Pikachu\n",
      "Pikachu\n",
      "Charmander\n",
      "Charmander\n",
      "Charmander\n",
      "Charmander\n",
      "Charmander\n",
      "Charmander\n",
      "Charmander\n",
      "Charmander\n",
      "Pikachu\n",
      "Pikachu\n",
      "Bulbasaur\n",
      "Charmander\n",
      "Pikachu\n",
      "Pikachu\n",
      "Pikachu\n",
      "Charmander\n",
      "Charmander\n",
      "Charmander\n",
      "Charmander\n",
      "Charmander\n",
      "Pikachu\n",
      "Pikachu\n",
      "Pikachu\n",
      "Charmander\n",
      "Pikachu\n",
      "Pikachu\n",
      "Pikachu\n",
      "Pikachu\n",
      "Charmander\n",
      "Charmander\n",
      "Bulbasaur\n",
      "Bulbasaur\n",
      "Charmander\n",
      "Bulbasaur\n",
      "Charmander\n",
      "Charmander\n",
      "Charmander\n",
      "Charmander\n",
      "Bulbasaur\n",
      "Pikachu\n",
      "Charmander\n",
      "Bulbasaur\n",
      "Bulbasaur\n",
      "Pikachu\n",
      "Pikachu\n",
      "Charmander\n",
      "Pikachu\n",
      "Charmander\n",
      "Charmander\n",
      "Charmander\n",
      "Bulbasaur\n",
      "Pikachu\n",
      "Charmander\n",
      "Charmander\n",
      "Charmander\n",
      "Charmander\n",
      "Charmander\n",
      "Pikachu\n",
      "Bulbasaur\n",
      "Bulbasaur\n",
      "Pikachu\n",
      "Charmander\n",
      "Bulbasaur\n",
      "Charmander\n"
     ]
    }
   ],
   "source": [
    "y_pred1=[]\n",
    "for i in range(len(image_data1)):\n",
    "    y_pred=predict(image_data1[i])\n",
    "    if y_pred==0:\n",
    "        y_pred='Pikachu'\n",
    "    elif y_pred==1:\n",
    "        y_pred='Bulbasaur'\n",
    "    else:\n",
    "        y_pred='Charmander'\n",
    "    print(y_pred)\n",
    "    y_pred1.append(y_pred)"
   ]
  },
  {
   "cell_type": "code",
   "execution_count": 78,
   "metadata": {},
   "outputs": [
    {
     "data": {
      "text/plain": [
       "['Pikachu',\n",
       " 'Charmander',\n",
       " 'Pikachu',\n",
       " 'Charmander',\n",
       " 'Charmander',\n",
       " 'Pikachu',\n",
       " 'Charmander',\n",
       " 'Bulbasaur',\n",
       " 'Pikachu',\n",
       " 'Pikachu',\n",
       " 'Bulbasaur',\n",
       " 'Pikachu',\n",
       " 'Pikachu',\n",
       " 'Bulbasaur',\n",
       " 'Charmander',\n",
       " 'Charmander',\n",
       " 'Charmander',\n",
       " 'Charmander',\n",
       " 'Pikachu',\n",
       " 'Charmander',\n",
       " 'Charmander',\n",
       " 'Bulbasaur',\n",
       " 'Charmander',\n",
       " 'Pikachu',\n",
       " 'Charmander',\n",
       " 'Charmander',\n",
       " 'Pikachu',\n",
       " 'Pikachu',\n",
       " 'Pikachu',\n",
       " 'Pikachu',\n",
       " 'Pikachu',\n",
       " 'Pikachu',\n",
       " 'Charmander',\n",
       " 'Pikachu',\n",
       " 'Pikachu',\n",
       " 'Pikachu',\n",
       " 'Pikachu',\n",
       " 'Pikachu',\n",
       " 'Charmander',\n",
       " 'Bulbasaur',\n",
       " 'Pikachu',\n",
       " 'Pikachu',\n",
       " 'Pikachu',\n",
       " 'Charmander',\n",
       " 'Charmander',\n",
       " 'Pikachu',\n",
       " 'Charmander',\n",
       " 'Bulbasaur',\n",
       " 'Charmander',\n",
       " 'Pikachu',\n",
       " 'Pikachu',\n",
       " 'Charmander',\n",
       " 'Pikachu',\n",
       " 'Pikachu',\n",
       " 'Charmander',\n",
       " 'Bulbasaur',\n",
       " 'Charmander',\n",
       " 'Pikachu',\n",
       " 'Pikachu',\n",
       " 'Charmander',\n",
       " 'Charmander',\n",
       " 'Charmander',\n",
       " 'Charmander',\n",
       " 'Charmander',\n",
       " 'Charmander',\n",
       " 'Charmander',\n",
       " 'Charmander',\n",
       " 'Pikachu',\n",
       " 'Pikachu',\n",
       " 'Bulbasaur',\n",
       " 'Charmander',\n",
       " 'Pikachu',\n",
       " 'Pikachu',\n",
       " 'Pikachu',\n",
       " 'Charmander',\n",
       " 'Charmander',\n",
       " 'Charmander',\n",
       " 'Charmander',\n",
       " 'Charmander',\n",
       " 'Pikachu',\n",
       " 'Pikachu',\n",
       " 'Pikachu',\n",
       " 'Charmander',\n",
       " 'Pikachu',\n",
       " 'Pikachu',\n",
       " 'Pikachu',\n",
       " 'Pikachu',\n",
       " 'Charmander',\n",
       " 'Charmander',\n",
       " 'Bulbasaur',\n",
       " 'Bulbasaur',\n",
       " 'Charmander',\n",
       " 'Bulbasaur',\n",
       " 'Charmander',\n",
       " 'Charmander',\n",
       " 'Charmander',\n",
       " 'Charmander',\n",
       " 'Bulbasaur',\n",
       " 'Pikachu',\n",
       " 'Charmander',\n",
       " 'Bulbasaur',\n",
       " 'Bulbasaur',\n",
       " 'Pikachu',\n",
       " 'Pikachu',\n",
       " 'Charmander',\n",
       " 'Pikachu',\n",
       " 'Charmander',\n",
       " 'Charmander',\n",
       " 'Charmander',\n",
       " 'Bulbasaur',\n",
       " 'Pikachu',\n",
       " 'Charmander',\n",
       " 'Charmander',\n",
       " 'Charmander',\n",
       " 'Charmander',\n",
       " 'Charmander',\n",
       " 'Pikachu',\n",
       " 'Bulbasaur',\n",
       " 'Bulbasaur',\n",
       " 'Pikachu',\n",
       " 'Charmander',\n",
       " 'Bulbasaur',\n",
       " 'Charmander']"
      ]
     },
     "execution_count": 78,
     "metadata": {},
     "output_type": "execute_result"
    }
   ],
   "source": [
    "y_pred1"
   ]
  },
  {
   "cell_type": "code",
   "execution_count": 79,
   "metadata": {},
   "outputs": [
    {
     "data": {
      "text/plain": [
       "123"
      ]
     },
     "execution_count": 79,
     "metadata": {},
     "output_type": "execute_result"
    }
   ],
   "source": [
    "len(y_pred1)"
   ]
  },
  {
   "cell_type": "code",
   "execution_count": 81,
   "metadata": {},
   "outputs": [
    {
     "data": {
      "text/plain": [
       "123"
      ]
     },
     "execution_count": 81,
     "metadata": {},
     "output_type": "execute_result"
    }
   ],
   "source": [
    "len(x_test_new)"
   ]
  },
  {
   "cell_type": "code",
   "execution_count": 86,
   "metadata": {},
   "outputs": [],
   "source": [
    "df=pd.DataFrame(data=y_pred1,columns=[\"NameOfPokemon\"])\n",
    "\n",
    "\n",
    "\n",
    "df.to_csv('y_poke.csv',index=False)"
   ]
  },
  {
   "cell_type": "code",
   "execution_count": 83,
   "metadata": {},
   "outputs": [],
   "source": [
    "dict = {'ImageId': x_test_new, 'NameOfPokemon': y_pred1}  \n",
    "     \n",
    "df = pd.DataFrame(dict) \n",
    "  \n",
    "# saving the dataframe \n",
    "df.to_csv('y_pokemon11.csv')"
   ]
  },
  {
   "cell_type": "code",
   "execution_count": 84,
   "metadata": {},
   "outputs": [
    {
     "data": {
      "text/html": [
       "<div>\n",
       "<style scoped>\n",
       "    .dataframe tbody tr th:only-of-type {\n",
       "        vertical-align: middle;\n",
       "    }\n",
       "\n",
       "    .dataframe tbody tr th {\n",
       "        vertical-align: top;\n",
       "    }\n",
       "\n",
       "    .dataframe thead th {\n",
       "        text-align: right;\n",
       "    }\n",
       "</style>\n",
       "<table border=\"1\" class=\"dataframe\">\n",
       "  <thead>\n",
       "    <tr style=\"text-align: right;\">\n",
       "      <th></th>\n",
       "      <th>ImageId</th>\n",
       "      <th>NameOfPokemon</th>\n",
       "    </tr>\n",
       "  </thead>\n",
       "  <tbody>\n",
       "    <tr>\n",
       "      <td>0</td>\n",
       "      <td>1106.jpg</td>\n",
       "      <td>Pikachu</td>\n",
       "    </tr>\n",
       "    <tr>\n",
       "      <td>1</td>\n",
       "      <td>2236.jpg</td>\n",
       "      <td>Charmander</td>\n",
       "    </tr>\n",
       "    <tr>\n",
       "      <td>2</td>\n",
       "      <td>1131.jpg</td>\n",
       "      <td>Pikachu</td>\n",
       "    </tr>\n",
       "    <tr>\n",
       "      <td>3</td>\n",
       "      <td>2221.jpg</td>\n",
       "      <td>Charmander</td>\n",
       "    </tr>\n",
       "    <tr>\n",
       "      <td>4</td>\n",
       "      <td>2011.jpg</td>\n",
       "      <td>Charmander</td>\n",
       "    </tr>\n",
       "    <tr>\n",
       "      <td>...</td>\n",
       "      <td>...</td>\n",
       "      <td>...</td>\n",
       "    </tr>\n",
       "    <tr>\n",
       "      <td>118</td>\n",
       "      <td>1124.jpg</td>\n",
       "      <td>Bulbasaur</td>\n",
       "    </tr>\n",
       "    <tr>\n",
       "      <td>119</td>\n",
       "      <td>2014.jpg</td>\n",
       "      <td>Pikachu</td>\n",
       "    </tr>\n",
       "    <tr>\n",
       "      <td>120</td>\n",
       "      <td>2235.jpg</td>\n",
       "      <td>Charmander</td>\n",
       "    </tr>\n",
       "    <tr>\n",
       "      <td>121</td>\n",
       "      <td>1126.jpg</td>\n",
       "      <td>Bulbasaur</td>\n",
       "    </tr>\n",
       "    <tr>\n",
       "      <td>122</td>\n",
       "      <td>2021.jpg</td>\n",
       "      <td>Charmander</td>\n",
       "    </tr>\n",
       "  </tbody>\n",
       "</table>\n",
       "<p>123 rows × 2 columns</p>\n",
       "</div>"
      ],
      "text/plain": [
       "      ImageId NameOfPokemon\n",
       "0    1106.jpg       Pikachu\n",
       "1    2236.jpg    Charmander\n",
       "2    1131.jpg       Pikachu\n",
       "3    2221.jpg    Charmander\n",
       "4    2011.jpg    Charmander\n",
       "..        ...           ...\n",
       "118  1124.jpg     Bulbasaur\n",
       "119  2014.jpg       Pikachu\n",
       "120  2235.jpg    Charmander\n",
       "121  1126.jpg     Bulbasaur\n",
       "122  2021.jpg    Charmander\n",
       "\n",
       "[123 rows x 2 columns]"
      ]
     },
     "execution_count": 84,
     "metadata": {},
     "output_type": "execute_result"
    }
   ],
   "source": [
    "df"
   ]
  },
  {
   "cell_type": "code",
   "execution_count": null,
   "metadata": {},
   "outputs": [],
   "source": []
  }
 ],
 "metadata": {
  "kernelspec": {
   "display_name": "Python 3",
   "language": "python",
   "name": "python3"
  },
  "language_info": {
   "codemirror_mode": {
    "name": "ipython",
    "version": 3
   },
   "file_extension": ".py",
   "mimetype": "text/x-python",
   "name": "python",
   "nbconvert_exporter": "python",
   "pygments_lexer": "ipython3",
   "version": "3.7.4"
  }
 },
 "nbformat": 4,
 "nbformat_minor": 2
}
